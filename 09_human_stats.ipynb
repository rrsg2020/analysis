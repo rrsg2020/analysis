{
 "cells": [
  {
   "cell_type": "markdown",
   "metadata": {},
   "source": [
    "## Imports"
   ]
  },
  {
   "cell_type": "code",
   "execution_count": 1,
   "metadata": {},
   "outputs": [],
   "source": [
    "import os\n",
    "import shutil\n",
    "from pathlib import Path\n",
    "import pandas as pd\n",
    "import dataframe_image as dfi\n",
    "import numpy as np\n",
    "\n",
    "from src.database import *\n",
    "import matplotlib.pyplot as plt\n",
    "plt.style.use('custom_matplotlibrc')\n",
    "plt.rcParams[\"figure.figsize\"] = (20,5)\n",
    "fig_id = 0\n",
    "\n",
    "pd.set_option('display.max_rows', None)\n",
    "pd.set_option('display.max_columns', None)\n",
    "pd.set_option('display.width', 1000)\n",
    "pd.set_option('display.colheader_justify', 'center')\n",
    "pd.set_option('display.precision', 1)\n"
   ]
  },
  {
   "cell_type": "markdown",
   "metadata": {},
   "source": [
    "## Configurations"
   ]
  },
  {
   "cell_type": "code",
   "execution_count": 2,
   "metadata": {},
   "outputs": [],
   "source": [
    "database_path = Path('databases/3T_human_T1maps_database.pkl')\n"
   ]
  },
  {
   "cell_type": "markdown",
   "metadata": {},
   "source": [
    "## Load database"
   ]
  },
  {
   "cell_type": "code",
   "execution_count": 3,
   "metadata": {},
   "outputs": [],
   "source": [
    "df = pd.read_pickle(database_path)"
   ]
  },
  {
   "cell_type": "markdown",
   "metadata": {},
   "source": [
    "## Prepare stats table"
   ]
  },
  {
   "cell_type": "code",
   "execution_count": 4,
   "metadata": {},
   "outputs": [],
   "source": [
    "columns = [\n",
    "    'genu WM',\n",
    "    'splenium WM',\n",
    "    'cortical GM',\n",
    "    'deep GM'\n",
    "]\n",
    "\n",
    "col_vals = [\n",
    "    None,\n",
    "    None,\n",
    "    None,\n",
    "    None\n",
    "]\n",
    "\n",
    "df_setup = {\n",
    "    'all submissions mean T1': col_vals,\n",
    "    'inter-submission mean T1': col_vals,\n",
    "    'intra-submission mean T1': col_vals,\n",
    "    'all submissions T1 STD': col_vals,\n",
    "    'inter-submission T1 STD': col_vals,\n",
    "    'intra-submission T1 STD': col_vals,\n",
    "    'all submissions COV [%]': col_vals,\n",
    "    'inter-submission COV [%]': col_vals,\n",
    "    'intra-submission COV [%]': col_vals\n",
    "}\n",
    "\n",
    "stats_table = pd.DataFrame.from_dict(df_setup, orient='index', columns=columns)"
   ]
  },
  {
   "cell_type": "markdown",
   "metadata": {},
   "source": [
    "## All submissions"
   ]
  },
  {
   "cell_type": "code",
   "execution_count": 5,
   "metadata": {},
   "outputs": [
    {
     "name": "stderr",
     "output_type": "stream",
     "text": [
      "/Users/mathieuboudreau/opt/anaconda3/envs/analysis_arm/lib/python3.8/site-packages/numpy/core/fromnumeric.py:3464: RuntimeWarning: Mean of empty slice.\n",
      "  return _methods._mean(a, axis=axis, dtype=dtype,\n",
      "/Users/mathieuboudreau/opt/anaconda3/envs/analysis_arm/lib/python3.8/site-packages/numpy/core/_methods.py:192: RuntimeWarning: invalid value encountered in scalar divide\n",
      "  ret = ret.dtype.type(ret / rcount)\n"
     ]
    }
   ],
   "source": [
    "genu_estimate = np.array([])\n",
    "genu_std = np.array([])\n",
    "splenium_estimate = np.array([])\n",
    "splenium_std = np.array([])\n",
    "deepgm_estimate = np.array([])\n",
    "deepgm_std = np.array([])\n",
    "cgm_estimate = np.array([])\n",
    "cgm_std = np.array([])\n",
    "\n",
    "ii = 0\n",
    "for index, row in df.iterrows():\n",
    "    \n",
    "    genu_estimate = np.append(genu_estimate, np.mean(df.loc[index]['T1 - genu (WM)']))\n",
    "    splenium_estimate = np.append(splenium_estimate, np.mean(df.loc[index]['T1 - splenium (WM)']))\n",
    "    deepgm_estimate = np.append(deepgm_estimate, np.mean(df.loc[index]['T1 - deep GM']))\n",
    "    cgm_estimate = np.append(cgm_estimate, np.mean(df.loc[index]['T1 - cortical GM']))\n",
    "\n",
    "    ii = ii +1"
   ]
  },
  {
   "cell_type": "markdown",
   "metadata": {},
   "source": []
  },
  {
   "cell_type": "code",
   "execution_count": 6,
   "metadata": {},
   "outputs": [],
   "source": [
    "stats_table['genu WM']['all submissions mean T1'] = np.nanmean(genu_estimate)\n",
    "stats_table['genu WM']['all submissions T1 STD'] = np.nanstd(genu_estimate)\n",
    "stats_table['genu WM']['all submissions COV [%]'] = np.divide(np.nanstd(genu_estimate),np.nanmean(genu_estimate)) * 100\n",
    "\n",
    "stats_table['splenium WM']['all submissions mean T1'] = np.nanmean(splenium_estimate)\n",
    "stats_table['splenium WM']['all submissions T1 STD'] = np.nanstd(splenium_estimate)\n",
    "stats_table['splenium WM']['all submissions COV [%]'] = np.divide(np.nanstd(splenium_estimate),np.nanmean(splenium_estimate)) * 100\n",
    "\n",
    "stats_table['cortical GM']['all submissions mean T1'] = np.nanmean(cgm_estimate)\n",
    "stats_table['cortical GM']['all submissions T1 STD'] = np.nanstd(cgm_estimate)\n",
    "stats_table['cortical GM']['all submissions COV [%]'] = np.divide(np.nanstd(cgm_estimate),np.nanmean(cgm_estimate)) * 100\n",
    "\n",
    "stats_table['deep GM']['all submissions mean T1'] = np.nanmean(deepgm_estimate)\n",
    "stats_table['deep GM']['all submissions T1 STD'] = np.nanstd(deepgm_estimate)\n",
    "stats_table['deep GM']['all submissions COV [%]'] = np.divide(np.nanstd(deepgm_estimate),np.nanmean(deepgm_estimate)) * 100\n",
    "\n"
   ]
  },
  {
   "cell_type": "markdown",
   "metadata": {},
   "source": [
    "## Inter-submision stats\n",
    "One subject/measurement per submission were selected. The protocol closest to the proposed one was selected, preferring complex data over magnitude-only."
   ]
  },
  {
   "cell_type": "code",
   "execution_count": 7,
   "metadata": {},
   "outputs": [],
   "source": [
    "# Selecting one subject/measurement per submission, protocol closest to proposed, complex if available.\n",
    "ids_intersubmissions = (\n",
    "    1.001,\n",
    "    2.003,\n",
    "    3.001,\n",
    "    5.001,\n",
    "    6.001,\n",
    "    7.001,\n",
    "    8.002,\n",
    "    9.001,\n",
    ")\n",
    "\n",
    "genu_estimate = np.array([])\n",
    "genu_std = np.array([])\n",
    "splenium_estimate = np.array([])\n",
    "splenium_std = np.array([])\n",
    "deepgm_estimate = np.array([])\n",
    "deepgm_std = np.array([])\n",
    "cgm_estimate = np.array([])\n",
    "cgm_std = np.array([])\n",
    "\n",
    "ii = 0\n",
    "for index in ids_intersubmissions:\n",
    "    \n",
    "    genu_estimate = np.append(genu_estimate, np.mean(df.loc[index]['T1 - genu (WM)']))\n",
    "    splenium_estimate = np.append(splenium_estimate, np.mean(df.loc[index]['T1 - splenium (WM)']))\n",
    "    deepgm_estimate = np.append(deepgm_estimate, np.mean(df.loc[index]['T1 - deep GM']))\n",
    "    cgm_estimate = np.append(cgm_estimate, np.mean(df.loc[index]['T1 - cortical GM']))\n",
    "    \n",
    "    ii = ii +1\n"
   ]
  },
  {
   "cell_type": "code",
   "execution_count": 8,
   "metadata": {},
   "outputs": [],
   "source": [
    "stats_table['genu WM']['inter-submission mean T1'] = np.nanmean(genu_estimate)\n",
    "stats_table['genu WM']['inter-submission T1 STD'] = np.nanstd(genu_estimate)\n",
    "stats_table['genu WM']['inter-submission COV [%]'] = np.divide(np.nanstd(genu_estimate),np.nanmean(genu_estimate)) * 100\n",
    "\n",
    "stats_table['splenium WM']['inter-submission mean T1'] = np.nanmean(splenium_estimate)\n",
    "stats_table['splenium WM']['inter-submission T1 STD'] = np.nanstd(splenium_estimate)\n",
    "stats_table['splenium WM']['inter-submission COV [%]'] = np.divide(np.nanstd(splenium_estimate),np.nanmean(splenium_estimate)) * 100\n",
    "\n",
    "stats_table['cortical GM']['inter-submission mean T1'] = np.nanmean(cgm_estimate)\n",
    "stats_table['cortical GM']['inter-submission T1 STD'] = np.nanstd(cgm_estimate)\n",
    "stats_table['cortical GM']['inter-submission COV [%]'] = np.divide(np.nanstd(cgm_estimate),np.nanmean(cgm_estimate)) * 100\n",
    "\n",
    "stats_table['deep GM']['inter-submission mean T1'] = np.nanmean(deepgm_estimate)\n",
    "stats_table['deep GM']['inter-submission T1 STD'] = np.nanstd(deepgm_estimate)\n",
    "stats_table['deep GM']['inter-submission COV [%]'] = np.divide(np.nanstd(deepgm_estimate),np.nanmean(deepgm_estimate)) * 100\n",
    "\n"
   ]
  },
  {
   "cell_type": "code",
   "execution_count": 9,
   "metadata": {},
   "outputs": [],
   "source": [
    "genu_estimate_inter = genu_estimate\n",
    "splenium_estimate_inter = splenium_estimate\n",
    "deepgm_estimate_inter = deepgm_estimate\n",
    "cgm_estimate_inter = cgm_estimate"
   ]
  },
  {
   "cell_type": "markdown",
   "metadata": {},
   "source": [
    "## Intra-submision stats\n",
    "All unique T1 maps from Site 9 were used for the stats calculations. Site 9 acquired maps on 3 different scanners, 2 different vendors."
   ]
  },
  {
   "cell_type": "code",
   "execution_count": 10,
   "metadata": {},
   "outputs": [],
   "source": [
    "# Selecting one submission\n",
    "ids_intrasubmissions = (\n",
    "9.001,\n",
    "9.006,\n",
    "9.007,\n",
    "9.009,\n",
    "9.01,\n",
    "9.012,\n",
    "9.013,\n",
    "9.015,\n",
    "9.016,\n",
    "9.018,\n",
    "9.019,\n",
    "9.02,\n",
    "9.021,\n",
    "9.023,\n",
    "9.025,\n",
    "9.027,\n",
    "9.028,\n",
    "9.03,\n",
    "9.031,\n",
    "9.033,\n",
    "9.034,\n",
    "9.036,\n",
    "9.037\n",
    ")\n",
    "\n",
    "genu_estimate = np.array([])\n",
    "genu_std = np.array([])\n",
    "splenium_estimate = np.array([])\n",
    "splenium_std = np.array([])\n",
    "deepgm_estimate = np.array([])\n",
    "deepgm_std = np.array([])\n",
    "cgm_estimate = np.array([])\n",
    "cgm_std = np.array([])\n",
    "\n",
    "ii = 0\n",
    "for index in ids_intrasubmissions:\n",
    "    \n",
    "    genu_estimate = np.append(genu_estimate, np.mean(df.loc[index]['T1 - genu (WM)']))\n",
    "    splenium_estimate = np.append(splenium_estimate, np.mean(df.loc[index]['T1 - splenium (WM)']))\n",
    "    deepgm_estimate = np.append(deepgm_estimate, np.mean(df.loc[index]['T1 - deep GM']))\n",
    "    cgm_estimate = np.append(cgm_estimate, np.mean(df.loc[index]['T1 - cortical GM']))\n",
    "\n",
    "    ii = ii +1\n",
    "\n"
   ]
  },
  {
   "cell_type": "code",
   "execution_count": 11,
   "metadata": {},
   "outputs": [],
   "source": [
    "stats_table['genu WM']['intra-submission mean T1'] = np.nanmean(genu_estimate)\n",
    "stats_table['genu WM']['intra-submission T1 STD'] = np.nanstd(genu_estimate)\n",
    "stats_table['genu WM']['intra-submission COV [%]'] = np.divide(np.nanstd(genu_estimate),np.nanmean(genu_estimate)) * 100\n",
    "\n",
    "stats_table['splenium WM']['intra-submission mean T1'] = np.nanmean(splenium_estimate)\n",
    "stats_table['splenium WM']['intra-submission T1 STD'] = np.nanstd(splenium_estimate)\n",
    "stats_table['splenium WM']['intra-submission COV [%]'] = np.divide(np.nanstd(splenium_estimate),np.nanmean(splenium_estimate)) * 100\n",
    "\n",
    "stats_table['cortical GM']['intra-submission mean T1'] = np.nanmean(cgm_estimate)\n",
    "stats_table['cortical GM']['intra-submission T1 STD'] = np.nanstd(cgm_estimate)\n",
    "stats_table['cortical GM']['intra-submission COV [%]'] = np.divide(np.nanstd(cgm_estimate),np.nanmean(cgm_estimate)) * 100\n",
    "\n",
    "stats_table['deep GM']['intra-submission mean T1'] = np.nanmean(deepgm_estimate)\n",
    "stats_table['deep GM']['intra-submission T1 STD'] = np.nanstd(deepgm_estimate)\n",
    "stats_table['deep GM']['intra-submission COV [%]'] = np.divide(np.nanstd(deepgm_estimate),np.nanmean(deepgm_estimate)) * 100\n",
    "\n"
   ]
  },
  {
   "cell_type": "code",
   "execution_count": 12,
   "metadata": {},
   "outputs": [],
   "source": [
    "genu_estimate_intra = genu_estimate\n",
    "splenium_estimate_intra = splenium_estimate\n",
    "deepgm_estimate_intra = deepgm_estimate\n",
    "cgm_estimate_intra = cgm_estimate"
   ]
  },
  {
   "cell_type": "markdown",
   "metadata": {},
   "source": [
    "## Display table"
   ]
  },
  {
   "cell_type": "code",
   "execution_count": 13,
   "metadata": {},
   "outputs": [
    {
     "data": {
      "text/html": [
       "<div>\n",
       "<style scoped>\n",
       "    .dataframe tbody tr th:only-of-type {\n",
       "        vertical-align: middle;\n",
       "    }\n",
       "\n",
       "    .dataframe tbody tr th {\n",
       "        vertical-align: top;\n",
       "    }\n",
       "\n",
       "    .dataframe thead th {\n",
       "        text-align: right;\n",
       "    }\n",
       "</style>\n",
       "<table border=\"1\" class=\"dataframe\">\n",
       "  <thead>\n",
       "    <tr style=\"text-align: center;\">\n",
       "      <th></th>\n",
       "      <th>genu WM</th>\n",
       "      <th>splenium WM</th>\n",
       "      <th>cortical GM</th>\n",
       "      <th>deep GM</th>\n",
       "    </tr>\n",
       "  </thead>\n",
       "  <tbody>\n",
       "    <tr>\n",
       "      <th>all submissions mean T1</th>\n",
       "      <td>827.9</td>\n",
       "      <td>854.0</td>\n",
       "      <td>1548.4</td>\n",
       "      <td>1188.4</td>\n",
       "    </tr>\n",
       "    <tr>\n",
       "      <th>inter-submission mean T1</th>\n",
       "      <td>840.6</td>\n",
       "      <td>875.6</td>\n",
       "      <td>1568.0</td>\n",
       "      <td>1268.2</td>\n",
       "    </tr>\n",
       "    <tr>\n",
       "      <th>intra-submission mean T1</th>\n",
       "      <td>820.1</td>\n",
       "      <td>843.4</td>\n",
       "      <td>1589.5</td>\n",
       "      <td>1199.3</td>\n",
       "    </tr>\n",
       "    <tr>\n",
       "      <th>all submissions T1 STD</th>\n",
       "      <td>37.5</td>\n",
       "      <td>49.6</td>\n",
       "      <td>155.5</td>\n",
       "      <td>132.6</td>\n",
       "    </tr>\n",
       "    <tr>\n",
       "      <th>inter-submission T1 STD</th>\n",
       "      <td>50.4</td>\n",
       "      <td>96.3</td>\n",
       "      <td>258.6</td>\n",
       "      <td>278.5</td>\n",
       "    </tr>\n",
       "    <tr>\n",
       "      <th>intra-submission T1 STD</th>\n",
       "      <td>26.3</td>\n",
       "      <td>28.6</td>\n",
       "      <td>111.0</td>\n",
       "      <td>85.2</td>\n",
       "    </tr>\n",
       "    <tr>\n",
       "      <th>all submissions COV [%]</th>\n",
       "      <td>4.5</td>\n",
       "      <td>5.8</td>\n",
       "      <td>10.0</td>\n",
       "      <td>11.2</td>\n",
       "    </tr>\n",
       "    <tr>\n",
       "      <th>inter-submission COV [%]</th>\n",
       "      <td>6.0</td>\n",
       "      <td>11.0</td>\n",
       "      <td>16.5</td>\n",
       "      <td>22.0</td>\n",
       "    </tr>\n",
       "    <tr>\n",
       "      <th>intra-submission COV [%]</th>\n",
       "      <td>3.2</td>\n",
       "      <td>3.4</td>\n",
       "      <td>7.0</td>\n",
       "      <td>7.1</td>\n",
       "    </tr>\n",
       "  </tbody>\n",
       "</table>\n",
       "</div>"
      ],
      "text/plain": [
       "                         genu WM splenium WM cortical GM deep GM\n",
       "all submissions mean T1    827.9     854.0      1548.4    1188.4\n",
       "inter-submission mean T1   840.6     875.6      1568.0    1268.2\n",
       "intra-submission mean T1   820.1     843.4      1589.5    1199.3\n",
       "all submissions T1 STD      37.5      49.6       155.5     132.6\n",
       "inter-submission T1 STD     50.4      96.3       258.6     278.5\n",
       "intra-submission T1 STD     26.3      28.6       111.0      85.2\n",
       "all submissions COV [%]      4.5       5.8        10.0      11.2\n",
       "inter-submission COV [%]     6.0      11.0        16.5      22.0\n",
       "intra-submission COV [%]     3.2       3.4         7.0       7.1"
      ]
     },
     "metadata": {},
     "output_type": "display_data"
    }
   ],
   "source": [
    "display(stats_table)"
   ]
  },
  {
   "cell_type": "markdown",
   "metadata": {},
   "source": [
    "## Export"
   ]
  },
  {
   "cell_type": "code",
   "execution_count": 14,
   "metadata": {},
   "outputs": [
    {
     "name": "stderr",
     "output_type": "stream",
     "text": [
      "[1126/235459.511879:WARNING:angle_platform_impl.cc(49)] RendererVk.cpp:1962 (initialize): ANGLE VMA version: 2003000\n",
      "62807 bytes written to file /var/folders/l1/1xswjffd73l8yp7dd7pq9lyw0000gn/T/tmpeedhocla/temp.png\n"
     ]
    },
    {
     "data": {
      "text/plain": [
       "PosixPath('/Users/mathieuboudreau/neuropoly/github/analysis/plots/09_human_stats/human_stats.png')"
      ]
     },
     "execution_count": 14,
     "metadata": {},
     "output_type": "execute_result"
    }
   ],
   "source": [
    "pwd = os.getcwd()\n",
    "folder_path = Path(\"plots/09_human_stats/\")\n",
    "dfi.export(stats_table, 'human_stats.png')\n",
    "\n",
    "shutil.move('human_stats.png', Path(pwd) / folder_path / 'human_stats.png')\n"
   ]
  },
  {
   "cell_type": "code",
   "execution_count": 17,
   "metadata": {},
   "outputs": [],
   "source": [
    "## Violin plots"
   ]
  },
  {
   "cell_type": "code",
   "execution_count": 16,
   "metadata": {},
   "outputs": [
    {
     "name": "stderr",
     "output_type": "stream",
     "text": [
      "/var/folders/l1/1xswjffd73l8yp7dd7pq9lyw0000gn/T/ipykernel_54943/2399684766.py:16: FutureWarning: \n",
      "\n",
      "The `scale` parameter has been renamed and will be removed in v0.15.0. Pass `density_norm='count'` for the same effect.\n",
      "  ax = sns.violinplot(x='Region', y='T1 (ms)', hue='Type', data=df, split=True, inner=\"quartile\", scale=\"count\", palette=\"Set2\")\n"
     ]
    },
    {
     "data": {
      "image/png": "[encoded data removed]",
      "text/plain": [
       "<Figure size 1200x600 with 1 Axes>"
      ]
     },
     "metadata": {},
     "output_type": "display_data"
    }
   ],
   "source": [
    "import seaborn as sns\n",
    "import matplotlib.pyplot as plt\n",
    "# Combine data into a single DataFrame\n",
    "df = pd.DataFrame({\n",
    "    'T1 (ms)': np.concatenate([genu_estimate_inter, genu_estimate_intra, splenium_estimate_inter, splenium_estimate_intra, cgm_estimate_inter, cgm_estimate_intra, deepgm_estimate_inter, deepgm_estimate_intra]),\n",
    "    'Group': ['Genu'] * len(genu_estimate_inter) + ['Genu'] * len(genu_estimate_intra) + ['Splenium'] * len(splenium_estimate_inter) + ['Splenium'] * len(splenium_estimate_intra) + ['Cgm'] * len(cgm_estimate_inter) + ['Cgm'] * len(cgm_estimate_intra) + ['DeepGM'] * len(deepgm_estimate_inter) + ['DeepGM'] * len(deepgm_estimate_intra),\n",
    "    'Type': ['Inter'] * len(genu_estimate_inter) + ['Intra'] * len(genu_estimate_intra) + ['Inter'] * len(splenium_estimate_inter) + ['Intra'] * len(splenium_estimate_intra) + ['Inter'] * len(cgm_estimate_inter) + ['Intra'] * len(cgm_estimate_intra) + ['Inter'] * len(deepgm_estimate_inter) + ['Intra'] * len(deepgm_estimate_intra),\n",
    "    'Region': ['Genu'] * len(genu_estimate_inter) + ['Genu'] * len(genu_estimate_intra) + ['Splenium'] * len(splenium_estimate_inter) + ['Splenium'] * len(splenium_estimate_intra) + ['Cgm'] * len(cgm_estimate_inter) + ['Cgm'] * len(cgm_estimate_intra) + ['DeepGM'] * len(deepgm_estimate_inter) + ['DeepGM'] * len(deepgm_estimate_intra),\n",
    "})\n",
    "\n",
    "# Set the color palette\n",
    "sns.set_palette(\"husl\")\n",
    "\n",
    "# Create a violin plot using seaborn\n",
    "plt.figure(figsize=(12, 6))\n",
    "ax = sns.violinplot(x='Region', y='T1 (ms)', hue='Type', data=df, split=True, inner=\"quartile\", scale=\"count\", palette=\"Set2\")\n",
    "\n",
    "\n",
    "# Make the legend larger\n",
    "ax.legend(loc='upper left', title=\"Legend\", prop={'size':25})\n",
    "\n",
    "# Show the plot\n",
    "plt.show()"
   ]
  },
  {
   "cell_type": "code",
   "execution_count": null,
   "metadata": {},
   "outputs": [],
   "source": []
  }
 ],
 "metadata": {
  "kernelspec": {
   "display_name": "Python 3 (ipykernel)",
   "language": "python",
   "name": "python3"
  },
  "language_info": {
   "codemirror_mode": {
    "name": "ipython",
    "version": 3
   },
   "file_extension": ".py",
   "mimetype": "text/x-python",
   "name": "python",
   "nbconvert_exporter": "python",
   "pygments_lexer": "ipython3",
   "version": "3.8.16"
  },
  "vscode": {
   "interpreter": {
    "hash": "021e32979ba0b507138b043ad23cc6ba88d193e810337e0e3a2521ed1faaaccb"
   }
  }
 },
 "nbformat": 4,
 "nbformat_minor": 2
}
