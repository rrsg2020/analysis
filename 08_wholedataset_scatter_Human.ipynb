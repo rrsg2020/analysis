{
 "cells": [
  {
   "cell_type": "markdown",
   "metadata": {},
   "source": [
    "## Imports"
   ]
  },
  {
   "cell_type": "code",
   "execution_count": null,
   "metadata": {},
   "outputs": [],
   "source": [
    "from pathlib import Path\n",
    "import pandas as pd\n",
    "import json\n",
    "import nibabel as nib\n",
    "import numpy as np\n",
    "\n",
    "from src.database import *\n",
    "import matplotlib.pyplot as plt\n",
    "plt.style.use('custom_matplotlibrc')\n",
    "plt.rcParams[\"figure.figsize\"] = (20,5)\n",
    "fig_id = 0"
   ]
  },
  {
   "cell_type": "markdown",
   "metadata": {},
   "source": [
    "## Configurations"
   ]
  },
  {
   "cell_type": "code",
   "execution_count": null,
   "metadata": {},
   "outputs": [],
   "source": [
    "database_path = Path('databases/3T_human_T1maps_database.pkl')\n",
    "output_folder = Path(\"plots/08_wholedataset_scatter_Human/\")\n",
    "\n",
    "estimate_type = 'mean' # median or mean"
   ]
  },
  {
   "cell_type": "markdown",
   "metadata": {},
   "source": [
    "## Define functions"
   ]
  },
  {
   "cell_type": "code",
   "execution_count": null,
   "metadata": {},
   "outputs": [],
   "source": [
    "def plot_single_scatter(x, y, y_std,\n",
    "                        title, x_label, y_label,\n",
    "                        file_prefix, folder_path, fig_id,\n",
    "                        y_type):\n",
    "    plt.errorbar(x,y, y_std, fmt='o', solid_capstyle='projecting')\n",
    "    plt.title(title)\n",
    "    plt.xlabel(x_label)\n",
    "    plt.ylabel(y_label)\n",
    "    if y_type is 'site':\n",
    "        plt.xticks(np.arange(0, np.max(x), step=1))\n",
    "    elif y_type is 'meas':\n",
    "        plt.xticks(rotation=90)\n",
    "    fig = plt.gcf()\n",
    "\n",
    "    ax = plt.gca()\n",
    "    \n",
    "    folder_path.mkdir(parents=True, exist_ok=True)\n",
    "    \n",
    "    if fig_id<10:\n",
    "        filename = \"0\" + str(fig_id) + \"_\" + file_prefix + \"_\" + str(y_type)\n",
    "    else:\n",
    "        filename = str(fig_id) + \"_\" + file_prefix + \"_\" + str(y_type)\n",
    "\n",
    "    fig.savefig(folder_path / (str(filename) + '.svg'), facecolor='white')\n",
    "    fig.savefig(folder_path / (str(filename) + '.png'), facecolor='white')\n",
    "    fig_id = fig_id + 1\n",
    "    plt.show()\n",
    "    return fig_id"
   ]
  },
  {
   "cell_type": "code",
   "execution_count": null,
   "metadata": {},
   "outputs": [],
   "source": [
    "def plot_both_scatter(x1, x2, y, y_std,\n",
    "                      title, x1_label, x2_label, y_label,\n",
    "                      file_prefix, folder_path, fig_id):\n",
    "    \n",
    "    plt.rcParams[\"figure.figsize\"] = (20,10)\n",
    "\n",
    "    fig, axs = plt.subplots(2)\n",
    "    fig.suptitle(title)\n",
    "    axs[0].errorbar(x1, y, y_std, fmt='o', solid_capstyle='projecting')\n",
    "    axs[0].set_xlabel(x1_label)\n",
    "    axs[0].set_ylabel(y_label)\n",
    "    axs[0].set_xticks(np.arange(0, np.max(x1), step=1))\n",
    "\n",
    "\n",
    "    axs[1].errorbar(x2, y, y_std, fmt='o', solid_capstyle='projecting')\n",
    "    axs[1].set_xlabel(x2_label)\n",
    "    axs[1].set_ylabel(y_label)\n",
    "    axs[1].set_xticklabels(labels=x2, rotation=90)\n",
    "\n",
    "\n",
    "    if fig_id<10:\n",
    "        filename = \"0\" + str(fig_id) + \"_\" + file_prefix\n",
    "    else:\n",
    "        filename = str(fig_id) + \"_\" + file_prefix\n",
    "\n",
    "    fig.savefig(folder_path / (str(filename) + '.svg'), facecolor='white')\n",
    "    fig.savefig(folder_path / (str(filename) + '.png'), facecolor='white')\n",
    "    fig_id = fig_id + 1\n",
    "    plt.show()\n",
    "    return fig_id"
   ]
  },
  {
   "cell_type": "markdown",
   "metadata": {},
   "source": [
    "## Load database"
   ]
  },
  {
   "cell_type": "code",
   "execution_count": null,
   "metadata": {},
   "outputs": [],
   "source": [
    "df = pd.read_pickle(database_path)"
   ]
  },
  {
   "cell_type": "markdown",
   "metadata": {},
   "source": [
    "## Initialize variables, store mean and standard deviations of T1 in the ROIs"
   ]
  },
  {
   "cell_type": "code",
   "execution_count": null,
   "metadata": {},
   "outputs": [],
   "source": [
    "genu_estimate = np.array([])\n",
    "genu_std = np.array([])\n",
    "splenium_estimate = np.array([])\n",
    "splenium_std = np.array([])\n",
    "deepgm_estimate = np.array([])\n",
    "deepgm_std = np.array([])\n",
    "cgm_estimate = np.array([])\n",
    "cgm_std = np.array([])\n",
    "\n",
    "ii = 0\n",
    "for index, row in df.iterrows():\n",
    "    \n",
    "    if estimate_type is 'mean':\n",
    "        genu_estimate = np.append(genu_estimate, np.mean(df.loc[index]['T1 - genu (WM)']))\n",
    "        genu_std = np.append(genu_std, np.std(df.loc[index]['T1 - genu (WM)']))\n",
    "        splenium_estimate = np.append(splenium_estimate, np.mean(df.loc[index]['T1 - splenium (WM)']))\n",
    "        splenium_std = np.append(splenium_std, np.std(df.loc[index]['T1 - splenium (WM)']))\n",
    "        deepgm_estimate = np.append(deepgm_estimate, np.mean(df.loc[index]['T1 - deep GM']))\n",
    "        deepgm_std = np.append(deepgm_std, np.std(df.loc[index]['T1 - deep GM']))\n",
    "        cgm_estimate = np.append(cgm_estimate, np.mean(df.loc[index]['T1 - cortical GM']))\n",
    "        cgm_std = np.append(cgm_std, np.std(df.loc[index]['T1 - cortical GM']))\n",
    "    elif estimate_type is 'median':\n",
    "        genu_estimate = np.append(genu_estimate, np.median(df.loc[index]['T1 - genu (WM)']))\n",
    "        genu_std = np.append(genu_std, np.std(df.loc[index]['T1 - genu (WM)']))\n",
    "        splenium_estimate = np.append(splenium_estimate, np.median(df.loc[index]['T1 - splenium (WM)']))\n",
    "        splenium_std = np.append(splenium_std, np.std(df.loc[index]['T1 - splenium (WM)']))\n",
    "        deepgm_estimate = np.append(deepgm_estimate, np.median(df.loc[index]['T1 - deep GM']))\n",
    "        deepgm_std = np.append(deepgm_std, np.std(df.loc[index]['T1 - deep GM']))\n",
    "        cgm_estimate = np.append(cgm_estimate, np.median(df.loc[index]['T1 - cortical GM']))\n",
    "        cgm_std = np.append(cgm_std, np.std(df.loc[index]['T1 - cortical GM']))\n",
    "    else:\n",
    "        Exception('Unsupported dataset estimate type.')\n",
    "    ii = ii +1"
   ]
  },
  {
   "cell_type": "code",
   "execution_count": null,
   "metadata": {},
   "outputs": [],
   "source": [
    "# Store the IDs\n",
    "indexes_numbers = df.index\n",
    "indexes_strings = indexes_numbers.map(str)"
   ]
  },
  {
   "cell_type": "code",
   "execution_count": null,
   "metadata": {},
   "outputs": [],
   "source": [
    "fig_id = plot_single_scatter(x=indexes_numbers,\n",
    "                             y=genu_estimate,\n",
    "                             y_std=genu_std,\n",
    "                             title='WM - Genu',\n",
    "                             x_label='Site #',\n",
    "                             y_label=\"T$_1$ (ms)\",\n",
    "                             file_prefix=\"WM_genu\",\n",
    "                             folder_path=output_folder,\n",
    "                             fig_id=fig_id,\n",
    "                             y_type='site')"
   ]
  },
  {
   "cell_type": "code",
   "execution_count": null,
   "metadata": {},
   "outputs": [],
   "source": [
    "fig_id = plot_single_scatter(x=indexes_strings,\n",
    "                             y=genu_estimate,\n",
    "                             y_std=genu_std,\n",
    "                             title='WM - Genu',\n",
    "                             x_label='Site#.Meas#',\n",
    "                             y_label=\"T$_1$ (ms)\",\n",
    "                             file_prefix=\"WM_genu\",\n",
    "                             folder_path=output_folder,\n",
    "                             fig_id=fig_id,\n",
    "                             y_type='meas')"
   ]
  },
  {
   "cell_type": "code",
   "execution_count": null,
   "metadata": {},
   "outputs": [],
   "source": [
    "fig_id = plot_single_scatter(x=indexes_numbers,\n",
    "                             y=splenium_estimate,\n",
    "                             y_std=splenium_std,\n",
    "                             title='WM - Splenium',\n",
    "                             x_label='Site #',\n",
    "                             y_label=\"T$_1$ (ms)\",\n",
    "                             file_prefix=\"WM_splenium\",\n",
    "                             folder_path=output_folder,\n",
    "                             fig_id=fig_id,\n",
    "                             y_type='site')"
   ]
  },
  {
   "cell_type": "code",
   "execution_count": null,
   "metadata": {},
   "outputs": [],
   "source": [
    "fig_id = plot_single_scatter(x=indexes_strings,\n",
    "                             y=splenium_estimate,\n",
    "                             y_std=splenium_std,\n",
    "                             title='WM - Splenium',\n",
    "                             x_label='Site#.Meas#',\n",
    "                             y_label=\"T$_1$ (ms)\",\n",
    "                             file_prefix=\"WM_splenium\",\n",
    "                             folder_path=output_folder,\n",
    "                             fig_id=fig_id,\n",
    "                             y_type='meas')"
   ]
  },
  {
   "cell_type": "code",
   "execution_count": null,
   "metadata": {},
   "outputs": [],
   "source": [
    "fig_id = plot_single_scatter(x=indexes_numbers,\n",
    "                             y=deepgm_estimate,\n",
    "                             y_std=deepgm_std,\n",
    "                             title='Deep GM',\n",
    "                             x_label='Site #',\n",
    "                             y_label=\"T$_1$ (ms)\",\n",
    "                             file_prefix=\"GM_deep\",\n",
    "                             folder_path=output_folder,\n",
    "                             fig_id=fig_id,\n",
    "                             y_type='site')"
   ]
  },
  {
   "cell_type": "code",
   "execution_count": null,
   "metadata": {},
   "outputs": [],
   "source": [
    "fig_id = plot_single_scatter(x=indexes_strings,\n",
    "                            y=deepgm_estimate,\n",
    "                            y_std=deepgm_std,\n",
    "                            title='Deep GM',\n",
    "                            x_label='Site#.Meas#',\n",
    "                            y_label=\"T$_1$ (ms)\",\n",
    "                            file_prefix=\"GM_deep\",\n",
    "                            folder_path=output_folder,\n",
    "                            fig_id=fig_id,\n",
    "                            y_type='meas')"
   ]
  },
  {
   "cell_type": "code",
   "execution_count": null,
   "metadata": {},
   "outputs": [],
   "source": [
    "fig_id = plot_single_scatter(x=indexes_numbers,\n",
    "                             y=cgm_estimate,\n",
    "                             y_std=cgm_std,\n",
    "                             title='Cortical GM',\n",
    "                             x_label='Site #',\n",
    "                             y_label=\"T$_1$ (ms)\",\n",
    "                             file_prefix=\"GM_cortical\",\n",
    "                             folder_path=output_folder,\n",
    "                             fig_id=fig_id,\n",
    "                             y_type='site')"
   ]
  },
  {
   "cell_type": "code",
   "execution_count": null,
   "metadata": {},
   "outputs": [],
   "source": [
    "fig_id = plot_single_scatter(x=indexes_strings,\n",
    "                             y=cgm_estimate,\n",
    "                             y_std=cgm_std,\n",
    "                             title='Cortical GM',\n",
    "                             x_label='Site#.Meas#',\n",
    "                             y_label=\"T$_1$ (ms)\",\n",
    "                             file_prefix=\"GM_cortical\",\n",
    "                             folder_path=output_folder,\n",
    "                             fig_id=fig_id,\n",
    "                             y_type='meas')"
   ]
  },
  {
   "cell_type": "markdown",
   "metadata": {},
   "source": [
    "## Subplots"
   ]
  },
  {
   "cell_type": "code",
   "execution_count": null,
   "metadata": {},
   "outputs": [],
   "source": [
    "fig_id = plot_both_scatter(x1=indexes_numbers,\n",
    "                           x2=indexes_strings,\n",
    "                           y=genu_estimate,\n",
    "                           y_std=genu_std,\n",
    "                           title='WM - Genu',\n",
    "                           x1_label='Site #',\n",
    "                           x2_label='Site#.Meas#',\n",
    "                           y_label=\"T$_1$ (ms)\",\n",
    "                           file_prefix=\"WM_genu\",\n",
    "                           folder_path=output_folder,\n",
    "                           fig_id=fig_id)"
   ]
  },
  {
   "cell_type": "code",
   "execution_count": null,
   "metadata": {},
   "outputs": [],
   "source": [
    "fig_id = plot_both_scatter(x1=indexes_numbers,\n",
    "                           x2=indexes_strings,\n",
    "                           y=splenium_estimate,\n",
    "                           y_std=splenium_std,\n",
    "                           title='WM - Splenium',\n",
    "                           x1_label='Site #',\n",
    "                           x2_label='Site#.Meas#',\n",
    "                           y_label=\"T$_1$ (ms)\",\n",
    "                           file_prefix=\"WM_splenium\",\n",
    "                           folder_path=output_folder,\n",
    "                           fig_id=fig_id)"
   ]
  },
  {
   "cell_type": "code",
   "execution_count": null,
   "metadata": {},
   "outputs": [],
   "source": [
    "fig_id = plot_both_scatter(x1=indexes_numbers,\n",
    "                           x2=indexes_strings,\n",
    "                           y=deepgm_estimate,\n",
    "                           y_std=deepgm_std,\n",
    "                           title='Deep GM',\n",
    "                           x1_label='Site #',\n",
    "                           x2_label='Site#.Meas#',\n",
    "                           y_label=\"T$_1$ (ms)\",\n",
    "                           file_prefix=\"GM_deep\",\n",
    "                           folder_path=output_folder,\n",
    "                           fig_id=fig_id)"
   ]
  },
  {
   "cell_type": "code",
   "execution_count": null,
   "metadata": {},
   "outputs": [],
   "source": [
    "fig_id = plot_both_scatter(x1=indexes_numbers,\n",
    "                           x2=indexes_strings,\n",
    "                           y=cgm_estimate,\n",
    "                           y_std=cgm_std,\n",
    "                           title='Cortical GM',\n",
    "                           x1_label='Site #',\n",
    "                           x2_label='Site#.Meas#',\n",
    "                           y_label=\"T$_1$ (ms)\",\n",
    "                           file_prefix=\"GM_cortical\",\n",
    "                           folder_path=output_folder,\n",
    "                           fig_id=fig_id)"
   ]
  },
  {
   "cell_type": "code",
   "execution_count": null,
   "metadata": {},
   "outputs": [],
   "source": [
    "x1_label='Site #'\n",
    "x2_label='Site #.Meas #'\n",
    "y_label=\"T$_1$ (ms)\"\n",
    "file_prefix = 'WM_and_GM'\n",
    "folder_path=output_folder\n",
    "\n",
    "x1=indexes_numbers\n",
    "x2=indexes_strings\n",
    "y=genu_estimate\n",
    "y_std=genu_std\n",
    "\n",
    "\n",
    "plt.rcParams[\"figure.figsize\"] = (20,10)\n",
    "\n",
    "fig, axs = plt.subplots(2)\n",
    "axs[0].errorbar(x1, y, y_std, fmt='o', solid_capstyle='projecting')\n",
    "axs[0].set_xlabel(x1_label)\n",
    "axs[0].set_ylabel(y_label)\n",
    "axs[0].set_xticks(np.arange(0, np.max(x1), step=1))\n",
    "\n",
    "\n",
    "axs[1].errorbar(x2, y, y_std, fmt='o', solid_capstyle='projecting')\n",
    "axs[1].set_xlabel(x2_label)\n",
    "axs[1].set_ylabel(y_label)\n",
    "axs[1].set_xticklabels(labels=x2, rotation=90)\n",
    "\n",
    "x1=indexes_numbers\n",
    "x2=indexes_strings\n",
    "y=cgm_estimate\n",
    "y_std=cgm_std\n",
    "\n",
    "axs[0].errorbar(x1, y, y_std, color='#FF6961', fmt='o', solid_capstyle='projecting')\n",
    "axs[0].set_xlabel(x1_label)\n",
    "axs[0].set_ylabel(y_label)\n",
    "axs[0].set_xticks(np.arange(0, np.max(x1), step=1))\n",
    "\n",
    "\n",
    "axs[1].errorbar(x2, y, y_std, color='#FF6961', fmt='o', solid_capstyle='projecting')\n",
    "axs[1].set_xlabel(x2_label)\n",
    "axs[1].set_ylabel(y_label)\n",
    "axs[1].set_xticklabels(labels=x2, rotation=90)\n",
    "\n",
    "axs[0].legend((r'White matter (one 5x5 ROI, ~genu$\\mathregular{^{*}}$)', 'Grey matter (three 3x3 ROIs, cortex)'))\n",
    "\n",
    "if fig_id<10:\n",
    "    filename = \"0\" + str(fig_id) + \"_\" + file_prefix\n",
    "else:\n",
    "    filename = str(fig_id) + \"_\" + file_prefix\n",
    "\n",
    "fig.savefig(folder_path / (str(filename) + '.svg'), facecolor='white')\n",
    "fig.savefig(folder_path / (str(filename) + '.png'), facecolor='white')\n",
    "fig_id = fig_id + 1\n",
    "plt.show()\n"
   ]
  },
  {
   "cell_type": "code",
   "execution_count": null,
   "metadata": {},
   "outputs": [],
   "source": []
  }
 ],
 "metadata": {
  "kernelspec": {
   "display_name": "analysis_arm",
   "language": "python",
   "name": "python3"
  },
  "language_info": {
   "codemirror_mode": {
    "name": "ipython",
    "version": 3
   },
   "file_extension": ".py",
   "mimetype": "text/x-python",
   "name": "python",
   "nbconvert_exporter": "python",
   "pygments_lexer": "ipython3",
   "version": "3.8.13"
  }
 },
 "nbformat": 4,
 "nbformat_minor": 2
}
