{
 "cells": [
  {
   "cell_type": "code",
   "execution_count": 1,
   "metadata": {},
   "outputs": [
    {
     "data": {
      "text/html": [
       "        <script type=\"text/javascript\">\n",
       "        window.PlotlyConfig = {MathJaxConfig: 'local'};\n",
       "        if (window.MathJax) {MathJax.Hub.Config({SVG: {font: \"STIX-Web\"}});}\n",
       "        if (typeof require !== 'undefined') {\n",
       "        require.undef(\"plotly\");\n",
       "        requirejs.config({\n",
       "            paths: {\n",
       "                'plotly': ['https://cdn.plot.ly/plotly-latest.min']\n",
       "            }\n",
       "        });\n",
       "        require(['plotly'], function(Plotly) {\n",
       "            window._Plotly = Plotly;\n",
       "        });\n",
       "        }\n",
       "        </script>\n",
       "        "
      ]
     },
     "metadata": {},
     "output_type": "display_data"
    }
   ],
   "source": [
    "# PYTHON CODE\n",
    "# Module imports\n",
    "\n",
    "from scipy import interpolate\n",
    "import matplotlib.pyplot as plt\n",
    "import plotly.plotly as py\n",
    "import plotly.graph_objs as go\n",
    "import numpy as np\n",
    "from plotly import __version__\n",
    "from plotly.offline import download_plotlyjs, init_notebook_mode, plot, iplot\n",
    "config={'showLink': False, 'displayModeBar': False}\n",
    "\n",
    "init_notebook_mode(connected=True)\n",
    "\n",
    "from IPython.core.display import display, HTML"
   ]
  },
  {
   "cell_type": "code",
   "execution_count": 10,
   "metadata": {
    "scrolled": false
   },
   "outputs": [
    {
     "data": {
      "text/html": [
       "        <script type=\"text/javascript\">\n",
       "        window.PlotlyConfig = {MathJaxConfig: 'local'};\n",
       "        if (window.MathJax) {MathJax.Hub.Config({SVG: {font: \"STIX-Web\"}});}\n",
       "        if (typeof require !== 'undefined') {\n",
       "        require.undef(\"plotly\");\n",
       "        requirejs.config({\n",
       "            paths: {\n",
       "                'plotly': ['https://cdn.plot.ly/plotly-latest.min']\n",
       "            }\n",
       "        });\n",
       "        require(['plotly'], function(Plotly) {\n",
       "            window._Plotly = Plotly;\n",
       "        });\n",
       "        }\n",
       "        </script>\n",
       "        "
      ]
     },
     "metadata": {},
     "output_type": "display_data"
    },
    {
     "data": {
      "application/vnd.plotly.v1+json": {
       "config": {
        "displayModeBar": false,
        "linkText": "Export to plot.ly",
        "plotlyServerURL": "https://plot.ly",
        "showLink": false
       },
       "data": [
        {
         "hoverinfo": "x+y+text",
         "line": {
          "color": "orange"
         },
         "name": "Data",
         "text": "Data)",
         "type": "scatter",
         "uid": "7d7b01d6-126e-4a33-b4be-b7e5b834e152",
         "visible": false,
         "x": [
          "16",
          "18",
          "20",
          "22",
          "24",
          "26"
         ],
         "y": [
          21.94,
          21.62,
          21.44,
          21.28,
          21.26,
          21.31
         ]
        },
        {
         "hoverinfo": "x+y+text",
         "line": {
          "color": "orange"
         },
         "name": "Data",
         "text": "Data)",
         "type": "scatter",
         "uid": "a616a179-be0a-4d05-8887-dade1572b888",
         "visible": false,
         "x": [
          "16",
          "18",
          "20",
          "22",
          "24",
          "26"
         ],
         "y": [
          31.05,
          30.65,
          30.4,
          30.27,
          30.25,
          30.31
         ]
        },
        {
         "hoverinfo": "x+y+text",
         "line": {
          "color": "orange"
         },
         "name": "Data",
         "text": "Data)",
         "type": "scatter",
         "uid": "76fddd67-dcb0-4adf-9eef-c4a9d89e7741",
         "visible": false,
         "x": [
          "16",
          "18",
          "20",
          "22",
          "24",
          "26"
         ],
         "y": [
          43.79,
          43.24,
          42.89,
          42.72,
          42.7,
          42.8
         ]
        },
        {
         "hoverinfo": "x+y+text",
         "line": {
          "color": "orange"
         },
         "name": "Data",
         "text": "Data)",
         "type": "scatter",
         "uid": "69037595-1da0-4eb2-868b-cd3de68aa9e1",
         "visible": false,
         "x": [
          "16",
          "18",
          "20",
          "22",
          "24",
          "26"
         ],
         "y": [
          61.49,
          60.7,
          60.21,
          59.97,
          60,
          60.17
         ]
        },
        {
         "hoverinfo": "x+y+text",
         "line": {
          "color": "orange"
         },
         "name": "Data",
         "text": "Data)",
         "type": "scatter",
         "uid": "b52bb039-e601-4dcd-94be-7612aa43e572",
         "visible": true,
         "x": [
          "16",
          "18",
          "20",
          "22",
          "24",
          "26"
         ],
         "y": [
          87.47,
          86.41,
          85.75,
          85.03,
          85.01,
          85.28
         ]
        },
        {
         "hoverinfo": "x+y+text",
         "line": {
          "color": "orange"
         },
         "name": "Data",
         "text": "Data)",
         "type": "scatter",
         "uid": "3400b1e9-9429-4706-85a3-c23b01720174",
         "visible": false,
         "x": [
          "16",
          "18",
          "20",
          "22",
          "24",
          "26"
         ],
         "y": [
          122.99,
          121.79,
          121.08,
          120.8,
          120.9,
          121.34
         ]
        },
        {
         "hoverinfo": "x+y+text",
         "line": {
          "color": "orange"
         },
         "name": "Data",
         "text": "Data)",
         "type": "scatter",
         "uid": "7156c5d4-ccae-45c0-8b05-318e15254f91",
         "visible": false,
         "x": [
          "16",
          "18",
          "20",
          "22",
          "24",
          "26"
         ],
         "y": [
          177.68,
          175.94,
          174.95,
          174.59,
          174.78,
          175.48
         ]
        },
        {
         "hoverinfo": "x+y+text",
         "line": {
          "color": "orange"
         },
         "name": "Data",
         "text": "Data)",
         "type": "scatter",
         "uid": "f48ede04-dd39-4257-884f-3720071535aa",
         "visible": false,
         "x": [
          "16",
          "18",
          "20",
          "22",
          "24",
          "26"
         ],
         "y": [
          243.77,
          241.84,
          240.86,
          240.75,
          241.31,
          242.45
         ]
        },
        {
         "hoverinfo": "x+y+text",
         "line": {
          "color": "orange"
         },
         "name": "Data",
         "text": "Data)",
         "type": "scatter",
         "uid": "17f97c21-73d9-4bd3-893a-3ff3cccacf81",
         "visible": false,
         "x": [
          "16",
          "18",
          "20",
          "22",
          "24",
          "26"
         ],
         "y": [
          343,
          341.53,
          341.58,
          342.58,
          344.23,
          346.67
         ]
        },
        {
         "hoverinfo": "x+y+text",
         "line": {
          "color": "orange"
         },
         "name": "Data",
         "text": "Data)",
         "type": "scatter",
         "uid": "d51da458-98bc-4d10-99dd-ea4696fc8186",
         "visible": false,
         "x": [
          "16",
          "18",
          "20",
          "22",
          "24",
          "26"
         ],
         "y": [
          483.91,
          482.91,
          484.97,
          486.92,
          490.24,
          494.55
         ]
        },
        {
         "hoverinfo": "x+y+text",
         "line": {
          "color": "orange"
         },
         "name": "Data",
         "text": "Data)",
         "type": "scatter",
         "uid": "91b23514-2af5-41db-af65-bcbe9afd42cc",
         "visible": false,
         "x": [
          "16",
          "18",
          "20",
          "22",
          "24",
          "26"
         ],
         "y": [
          675.07,
          686.88,
          690.08,
          695.01,
          701.06,
          709.48
         ]
        },
        {
         "hoverinfo": "x+y+text",
         "line": {
          "color": "orange"
         },
         "name": "Data",
         "text": "Data)",
         "type": "scatter",
         "uid": "5b7f9e55-5d52-4e00-aaf9-02f5d0274527",
         "visible": false,
         "x": [
          "16",
          "18",
          "20",
          "22",
          "24",
          "26"
         ],
         "y": [
          950.71,
          963.56,
          987.27,
          1000.81,
          1015.7,
          1030.78
         ]
        },
        {
         "hoverinfo": "x+y+text",
         "line": {
          "color": "orange"
         },
         "name": "Data",
         "text": "Data)",
         "type": "scatter",
         "uid": "73dade7e-f2a6-4c4d-a6a9-f45916178069",
         "visible": false,
         "x": [
          "16",
          "18",
          "20",
          "22",
          "24",
          "26"
         ],
         "y": [
          1274.07,
          1317.71,
          1330.16,
          1355.29,
          1367.79,
          1395.94
         ]
        },
        {
         "hoverinfo": "x+y+text",
         "line": {
          "color": "orange"
         },
         "name": "Data",
         "text": "Data)",
         "type": "scatter",
         "uid": "cc1aa7ea-9a4f-42df-b809-b3f5987cd029",
         "visible": false,
         "x": [
          "16",
          "18",
          "20",
          "22",
          "24",
          "26"
         ],
         "y": [
          1766.68,
          1830.34,
          1883.97,
          1937.34,
          1987.5,
          2066.95
         ]
        },
        {
         "hoverinfo": "x+y+text",
         "line": {
          "color": "royalblue"
         },
         "name": "Cubic-Spline",
         "text": "Cubic-Spline",
         "type": "scatter",
         "uid": "9ba0582c-66fc-4fbf-adf5-e0d68b2eb1fe",
         "visible": false,
         "x": [
          16,
          18,
          20,
          22,
          24,
          26
         ],
         "y": [
          21.940000000000005,
          21.62,
          21.440000000000005,
          21.279999999999998,
          21.259999999999998,
          21.31
         ]
        },
        {
         "hoverinfo": "x+y+text",
         "line": {
          "color": "royalblue"
         },
         "name": "Cubic-Spline",
         "text": "Cubic-Spline",
         "type": "scatter",
         "uid": "a8b814be-08bd-46bf-a071-666a0b305522",
         "visible": false,
         "x": [
          16,
          18,
          20,
          22,
          24,
          26
         ],
         "y": [
          31.05,
          30.65000000000001,
          30.400000000000006,
          30.269999999999992,
          30.249999999999993,
          30.31
         ]
        },
        {
         "hoverinfo": "x+y+text",
         "line": {
          "color": "royalblue"
         },
         "name": "Cubic-Spline",
         "text": "Cubic-Spline",
         "type": "scatter",
         "uid": "f8eae196-16e8-4ef1-8453-c3f1bc3a875c",
         "visible": false,
         "x": [
          16,
          18,
          20,
          22,
          24,
          26
         ],
         "y": [
          43.79,
          43.239999999999995,
          42.89000000000001,
          42.72,
          42.699999999999996,
          42.8
         ]
        },
        {
         "hoverinfo": "x+y+text",
         "line": {
          "color": "royalblue"
         },
         "name": "Cubic-Spline",
         "text": "Cubic-Spline",
         "type": "scatter",
         "uid": "b23dd204-4957-4487-a86b-707c000569c7",
         "visible": false,
         "x": [
          16,
          18,
          20,
          22,
          24,
          26
         ],
         "y": [
          61.49000000000001,
          60.7,
          60.209999999999994,
          59.96999999999999,
          59.99999999999999,
          60.17
         ]
        },
        {
         "hoverinfo": "x+y+text",
         "line": {
          "color": "royalblue"
         },
         "name": "Cubic-Spline",
         "text": "Cubic-Spline",
         "type": "scatter",
         "uid": "6009eed0-9084-4fa8-9fdc-0b01d3043e72",
         "visible": true,
         "x": [
          16,
          18,
          20,
          22,
          24,
          26
         ],
         "y": [
          87.47,
          86.41,
          85.75000000000001,
          85.02999999999999,
          85.00999999999999,
          85.28
         ]
        },
        {
         "hoverinfo": "x+y+text",
         "line": {
          "color": "royalblue"
         },
         "name": "Cubic-Spline",
         "text": "Cubic-Spline",
         "type": "scatter",
         "uid": "ad5b63e9-2352-4058-bbcf-e01466197fb4",
         "visible": false,
         "x": [
          16,
          18,
          20,
          22,
          24,
          26
         ],
         "y": [
          122.99000000000001,
          121.79,
          121.08000000000001,
          120.79999999999997,
          120.89999999999999,
          121.34
         ]
        },
        {
         "hoverinfo": "x+y+text",
         "line": {
          "color": "royalblue"
         },
         "name": "Cubic-Spline",
         "text": "Cubic-Spline",
         "type": "scatter",
         "uid": "ca4bd1c2-0e99-408a-890a-80765f2aff68",
         "visible": false,
         "x": [
          16,
          18,
          20,
          22,
          24,
          26
         ],
         "y": [
          177.68000000000006,
          175.94000000000003,
          174.95,
          174.58999999999995,
          174.77999999999994,
          175.48
         ]
        },
        {
         "hoverinfo": "x+y+text",
         "line": {
          "color": "royalblue"
         },
         "name": "Cubic-Spline",
         "text": "Cubic-Spline",
         "type": "scatter",
         "uid": "e188764a-afad-48d7-8ec3-63d69d10b987",
         "visible": false,
         "x": [
          16,
          18,
          20,
          22,
          24,
          26
         ],
         "y": [
          243.77000000000007,
          241.84000000000006,
          240.86000000000007,
          240.74999999999997,
          241.30999999999997,
          242.45
         ]
        },
        {
         "hoverinfo": "x+y+text",
         "line": {
          "color": "royalblue"
         },
         "name": "Cubic-Spline",
         "text": "Cubic-Spline",
         "type": "scatter",
         "uid": "59f6fea2-9c34-4c97-947a-1f295cc9569f",
         "visible": false,
         "x": [
          16,
          18,
          20,
          22,
          24,
          26
         ],
         "y": [
          343.00000000000006,
          341.53,
          341.58000000000004,
          342.58,
          344.23,
          346.67
         ]
        },
        {
         "hoverinfo": "x+y+text",
         "line": {
          "color": "royalblue"
         },
         "name": "Cubic-Spline",
         "text": "Cubic-Spline",
         "type": "scatter",
         "uid": "cf60c0f2-cd6e-476d-97b4-b50447cc4e05",
         "visible": false,
         "x": [
          16,
          18,
          20,
          22,
          24,
          26
         ],
         "y": [
          483.9100000000001,
          482.9100000000001,
          484.9699999999999,
          486.91999999999985,
          490.24,
          494.55
         ]
        },
        {
         "hoverinfo": "x+y+text",
         "line": {
          "color": "royalblue"
         },
         "name": "Cubic-Spline",
         "text": "Cubic-Spline",
         "type": "scatter",
         "uid": "506cf04f-ca94-44fb-91c7-2bd18d32f916",
         "visible": false,
         "x": [
          16,
          18,
          20,
          22,
          24,
          26
         ],
         "y": [
          675.0700000000003,
          686.8800000000001,
          690.0800000000002,
          695.0099999999999,
          701.0599999999997,
          709.48
         ]
        },
        {
         "hoverinfo": "x+y+text",
         "line": {
          "color": "royalblue"
         },
         "name": "Cubic-Spline",
         "text": "Cubic-Spline",
         "type": "scatter",
         "uid": "e00da5c6-245a-4df7-a654-8c83751f74ee",
         "visible": false,
         "x": [
          16,
          18,
          20,
          22,
          24,
          26
         ],
         "y": [
          950.71,
          963.56,
          987.27,
          1000.8099999999997,
          1015.6999999999997,
          1030.78
         ]
        },
        {
         "hoverinfo": "x+y+text",
         "line": {
          "color": "royalblue"
         },
         "name": "Cubic-Spline",
         "text": "Cubic-Spline",
         "type": "scatter",
         "uid": "28c42da3-e419-41ec-94ae-d3276e4302de",
         "visible": false,
         "x": [
          16,
          18,
          20,
          22,
          24,
          26
         ],
         "y": [
          1274.0700000000002,
          1317.7100000000003,
          1330.1600000000003,
          1355.2899999999995,
          1367.7899999999997,
          1395.94
         ]
        },
        {
         "hoverinfo": "x+y+text",
         "line": {
          "color": "royalblue"
         },
         "name": "Cubic-Spline",
         "text": "Cubic-Spline",
         "type": "scatter",
         "uid": "fbfa831f-3619-4131-a952-bec73ebc4f01",
         "visible": false,
         "x": [
          16,
          18,
          20,
          22,
          24,
          26
         ],
         "y": [
          1766.6800000000003,
          1830.3400000000004,
          1883.9699999999996,
          1937.3399999999997,
          1987.5,
          2066.95
         ]
        },
        {
         "hoverinfo": "x+y+text",
         "line": {
          "color": "firebrick"
         },
         "name": "Cubic",
         "text": "Cubic)",
         "type": "scatter",
         "uid": "6d18aa98-a823-4ecb-a678-2bd262bce042",
         "visible": false,
         "x": [
          "16",
          "18",
          "20",
          "22",
          "24",
          "26"
         ],
         "y": [
          21.94,
          21.62,
          21.44,
          21.28,
          21.260000000000005,
          21.31
         ]
        },
        {
         "hoverinfo": "x+y+text",
         "line": {
          "color": "firebrick"
         },
         "name": "Cubic",
         "text": "Cubic)",
         "type": "scatter",
         "uid": "d705a849-0d39-4bc1-bccc-b82dc0f92db1",
         "visible": false,
         "x": [
          "16",
          "18",
          "20",
          "22",
          "24",
          "26"
         ],
         "y": [
          31.05,
          30.65,
          30.399999999999995,
          30.27,
          30.25,
          30.31
         ]
        },
        {
         "hoverinfo": "x+y+text",
         "line": {
          "color": "firebrick"
         },
         "name": "Cubic",
         "text": "Cubic)",
         "type": "scatter",
         "uid": "9df7d70b-79ad-472f-bc83-47dea9e55043",
         "visible": false,
         "x": [
          "16",
          "18",
          "20",
          "22",
          "24",
          "26"
         ],
         "y": [
          43.79,
          43.24000000000001,
          42.89,
          42.72,
          42.7,
          42.8
         ]
        },
        {
         "hoverinfo": "x+y+text",
         "line": {
          "color": "firebrick"
         },
         "name": "Cubic",
         "text": "Cubic)",
         "type": "scatter",
         "uid": "8a243b03-f3e8-451b-9461-ee1d2baa3df9",
         "visible": false,
         "x": [
          "16",
          "18",
          "20",
          "22",
          "24",
          "26"
         ],
         "y": [
          61.49,
          60.7,
          60.21,
          59.96999999999999,
          60,
          60.17
         ]
        },
        {
         "hoverinfo": "x+y+text",
         "line": {
          "color": "firebrick"
         },
         "name": "Cubic",
         "text": "Cubic)",
         "type": "scatter",
         "uid": "28bd9994-e87c-4291-93a9-24ba6f5f1b17",
         "visible": true,
         "x": [
          "16",
          "18",
          "20",
          "22",
          "24",
          "26"
         ],
         "y": [
          87.47,
          86.41,
          85.75,
          85.03,
          85.01,
          85.28
         ]
        },
        {
         "hoverinfo": "x+y+text",
         "line": {
          "color": "firebrick"
         },
         "name": "Cubic",
         "text": "Cubic)",
         "type": "scatter",
         "uid": "c14161c3-6e4c-441e-a18f-9c1a070e3d0a",
         "visible": false,
         "x": [
          "16",
          "18",
          "20",
          "22",
          "24",
          "26"
         ],
         "y": [
          122.99,
          121.79,
          121.07999999999998,
          120.8,
          120.90000000000002,
          121.34
         ]
        },
        {
         "hoverinfo": "x+y+text",
         "line": {
          "color": "firebrick"
         },
         "name": "Cubic",
         "text": "Cubic)",
         "type": "scatter",
         "uid": "8fbb6095-6b87-4b6f-8102-852c076eaf17",
         "visible": false,
         "x": [
          "16",
          "18",
          "20",
          "22",
          "24",
          "26"
         ],
         "y": [
          177.68,
          175.94,
          174.94999999999996,
          174.58999999999997,
          174.77999999999997,
          175.48
         ]
        },
        {
         "hoverinfo": "x+y+text",
         "line": {
          "color": "firebrick"
         },
         "name": "Cubic",
         "text": "Cubic)",
         "type": "scatter",
         "uid": "64482493-06ee-43d5-bf58-bb99a2f7d009",
         "visible": false,
         "x": [
          "16",
          "18",
          "20",
          "22",
          "24",
          "26"
         ],
         "y": [
          243.77,
          241.84,
          240.86,
          240.75,
          241.31,
          242.45
         ]
        },
        {
         "hoverinfo": "x+y+text",
         "line": {
          "color": "firebrick"
         },
         "name": "Cubic",
         "text": "Cubic)",
         "type": "scatter",
         "uid": "f7e198eb-e32d-44ab-8ce1-94ee6b5d1634",
         "visible": false,
         "x": [
          "16",
          "18",
          "20",
          "22",
          "24",
          "26"
         ],
         "y": [
          343,
          341.53,
          341.58,
          342.5799999999999,
          344.23,
          346.67
         ]
        },
        {
         "hoverinfo": "x+y+text",
         "line": {
          "color": "firebrick"
         },
         "name": "Cubic",
         "text": "Cubic)",
         "type": "scatter",
         "uid": "54ca71f4-ccbe-456c-a920-265419472f74",
         "visible": false,
         "x": [
          "16",
          "18",
          "20",
          "22",
          "24",
          "26"
         ],
         "y": [
          483.91,
          482.91,
          484.97,
          486.91999999999996,
          490.24,
          494.55
         ]
        },
        {
         "hoverinfo": "x+y+text",
         "line": {
          "color": "firebrick"
         },
         "name": "Cubic",
         "text": "Cubic)",
         "type": "scatter",
         "uid": "c8292475-8fd6-460b-af35-57043ae49fa1",
         "visible": false,
         "x": [
          "16",
          "18",
          "20",
          "22",
          "24",
          "26"
         ],
         "y": [
          675.07,
          686.88,
          690.08,
          695.01,
          701.06,
          709.48
         ]
        },
        {
         "hoverinfo": "x+y+text",
         "line": {
          "color": "firebrick"
         },
         "name": "Cubic",
         "text": "Cubic)",
         "type": "scatter",
         "uid": "d53a1868-a009-47a4-9022-fa830f539d37",
         "visible": false,
         "x": [
          "16",
          "18",
          "20",
          "22",
          "24",
          "26"
         ],
         "y": [
          950.71,
          963.56,
          987.27,
          1000.81,
          1015.7000000000002,
          1030.78
         ]
        },
        {
         "hoverinfo": "x+y+text",
         "line": {
          "color": "firebrick"
         },
         "name": "Cubic",
         "text": "Cubic)",
         "type": "scatter",
         "uid": "0e54ab36-eb45-4be8-adcd-d12d5b0c7778",
         "visible": false,
         "x": [
          "16",
          "18",
          "20",
          "22",
          "24",
          "26"
         ],
         "y": [
          1274.07,
          1317.71,
          1330.16,
          1355.2900000000002,
          1367.7900000000002,
          1395.94
         ]
        },
        {
         "hoverinfo": "x+y+text",
         "line": {
          "color": "firebrick"
         },
         "name": "Cubic",
         "text": "Cubic)",
         "type": "scatter",
         "uid": "d0a2620b-3cc2-44b7-aacb-cb47083c4891",
         "visible": false,
         "x": [
          "16",
          "18",
          "20",
          "22",
          "24",
          "26"
         ],
         "y": [
          1766.68,
          1830.3399999999997,
          1883.9699999999998,
          1937.34,
          1987.5,
          2066.95
         ]
        }
       ],
       "layout": {
        "annotations": [
         {
          "font": {
           "family": "Times New Roman",
           "size": 22
          },
          "showarrow": false,
          "text": "Temperature (°C)",
          "x": 0.5004254919715793,
          "xref": "paper",
          "y": -0.18,
          "yref": "paper"
         },
         {
          "font": {
           "family": "Times New Roman",
           "size": 22
          },
          "showarrow": false,
          "text": "Longitudinal Relaxation (T<sub>1</sub>)",
          "textangle": -90,
          "x": -0.15,
          "xref": "paper",
          "y": 0.5,
          "yref": "paper"
         }
        ],
        "height": 450,
        "legend": {
         "bordercolor": "#000000",
         "borderwidth": 2,
         "font": {
          "color": "#000",
          "family": "Times New Roman",
          "size": 12
         },
         "traceorder": "normal",
         "x": 0.5,
         "y": 0.9
        },
        "margin": {
         "b": 60,
         "l": 80,
         "r": 40,
         "t": 10
        },
        "sliders": [
         {
          "active": 3,
          "currentvalue": {
           "prefix": "Sphere No.: <b>"
          },
          "pad": {
           "b": 10,
           "t": 50
          },
          "steps": [
           {
            "args": [
             "visible",
             [
              true,
              false,
              false,
              false,
              false,
              false,
              false,
              false,
              false,
              false,
              false,
              false,
              false,
              false
             ]
            ],
            "label": "14",
            "method": "restyle"
           },
           {
            "args": [
             "visible",
             [
              false,
              true,
              false,
              false,
              false,
              false,
              false,
              false,
              false,
              false,
              false,
              false,
              false,
              false
             ]
            ],
            "label": "13",
            "method": "restyle"
           },
           {
            "args": [
             "visible",
             [
              false,
              false,
              true,
              false,
              false,
              false,
              false,
              false,
              false,
              false,
              false,
              false,
              false,
              false
             ]
            ],
            "label": "12",
            "method": "restyle"
           },
           {
            "args": [
             "visible",
             [
              false,
              false,
              false,
              true,
              false,
              false,
              false,
              false,
              false,
              false,
              false,
              false,
              false,
              false
             ]
            ],
            "label": "11",
            "method": "restyle"
           },
           {
            "args": [
             "visible",
             [
              false,
              false,
              false,
              false,
              true,
              false,
              false,
              false,
              false,
              false,
              false,
              false,
              false,
              false
             ]
            ],
            "label": "10",
            "method": "restyle"
           },
           {
            "args": [
             "visible",
             [
              false,
              false,
              false,
              false,
              false,
              true,
              false,
              false,
              false,
              false,
              false,
              false,
              false,
              false
             ]
            ],
            "label": "9",
            "method": "restyle"
           },
           {
            "args": [
             "visible",
             [
              false,
              false,
              false,
              false,
              false,
              false,
              true,
              false,
              false,
              false,
              false,
              false,
              false,
              false
             ]
            ],
            "label": "8",
            "method": "restyle"
           },
           {
            "args": [
             "visible",
             [
              false,
              false,
              false,
              false,
              false,
              false,
              false,
              true,
              false,
              false,
              false,
              false,
              false,
              false
             ]
            ],
            "label": "7",
            "method": "restyle"
           },
           {
            "args": [
             "visible",
             [
              false,
              false,
              false,
              false,
              false,
              false,
              false,
              false,
              true,
              false,
              false,
              false,
              false,
              false
             ]
            ],
            "label": "6",
            "method": "restyle"
           },
           {
            "args": [
             "visible",
             [
              false,
              false,
              false,
              false,
              false,
              false,
              false,
              false,
              false,
              true,
              false,
              false,
              false,
              false
             ]
            ],
            "label": "5",
            "method": "restyle"
           },
           {
            "args": [
             "visible",
             [
              false,
              false,
              false,
              false,
              false,
              false,
              false,
              false,
              false,
              false,
              true,
              false,
              false,
              false
             ]
            ],
            "label": "4",
            "method": "restyle"
           },
           {
            "args": [
             "visible",
             [
              false,
              false,
              false,
              false,
              false,
              false,
              false,
              false,
              false,
              false,
              false,
              true,
              false,
              false
             ]
            ],
            "label": "3",
            "method": "restyle"
           },
           {
            "args": [
             "visible",
             [
              false,
              false,
              false,
              false,
              false,
              false,
              false,
              false,
              false,
              false,
              false,
              false,
              true,
              false
             ]
            ],
            "label": "2",
            "method": "restyle"
           },
           {
            "args": [
             "visible",
             [
              false,
              false,
              false,
              false,
              false,
              false,
              false,
              false,
              false,
              false,
              false,
              false,
              false,
              true
             ]
            ],
            "label": "1",
            "method": "restyle"
           }
          ],
          "x": 0,
          "y": -0.09
         }
        ],
        "width": 580,
        "xaxis": {
         "autorange": false,
         "linecolor": "black",
         "linewidth": 2,
         "range": [
          16,
          "26"
         ],
         "showgrid": false
        },
        "yaxis": {
         "autorange": true,
         "linecolor": "black",
         "linewidth": 2,
         "showgrid": false
        }
       }
      },
      "text/html": [
       "<div>\n",
       "        \n",
       "        \n",
       "            <div id=\"07b85769-6444-4dbf-85d4-39e4c2ac3e72\" class=\"plotly-graph-div\" style=\"height:450px; width:580px;\"></div>\n",
       "            <script type=\"text/javascript\">\n",
       "                require([\"plotly\"], function(Plotly) {\n",
       "                    window.PLOTLYENV=window.PLOTLYENV || {};\n",
       "                    window.PLOTLYENV.BASE_URL='https://plot.ly';\n",
       "                    \n",
       "                if (document.getElementById(\"07b85769-6444-4dbf-85d4-39e4c2ac3e72\")) {\n",
       "                    Plotly.newPlot(\n",
       "                        '07b85769-6444-4dbf-85d4-39e4c2ac3e72',\n",
       "                        [{\"hoverinfo\": \"x+y+text\", \"line\": {\"color\": \"orange\"}, \"name\": \"Data\", \"text\": \"Data)\", \"type\": \"scatter\", \"uid\": \"7d7b01d6-126e-4a33-b4be-b7e5b834e152\", \"visible\": false, \"x\": [\"16\", \"18\", \"20\", \"22\", \"24\", \"26\"], \"y\": [21.94, 21.62, 21.44, 21.28, 21.26, 21.31]}, {\"hoverinfo\": \"x+y+text\", \"line\": {\"color\": \"orange\"}, \"name\": \"Data\", \"text\": \"Data)\", \"type\": \"scatter\", \"uid\": \"a616a179-be0a-4d05-8887-dade1572b888\", \"visible\": false, \"x\": [\"16\", \"18\", \"20\", \"22\", \"24\", \"26\"], \"y\": [31.05, 30.65, 30.4, 30.27, 30.25, 30.31]}, {\"hoverinfo\": \"x+y+text\", \"line\": {\"color\": \"orange\"}, \"name\": \"Data\", \"text\": \"Data)\", \"type\": \"scatter\", \"uid\": \"76fddd67-dcb0-4adf-9eef-c4a9d89e7741\", \"visible\": false, \"x\": [\"16\", \"18\", \"20\", \"22\", \"24\", \"26\"], \"y\": [43.79, 43.24, 42.89, 42.72, 42.7, 42.8]}, {\"hoverinfo\": \"x+y+text\", \"line\": {\"color\": \"orange\"}, \"name\": \"Data\", \"text\": \"Data)\", \"type\": \"scatter\", \"uid\": \"69037595-1da0-4eb2-868b-cd3de68aa9e1\", \"visible\": false, \"x\": [\"16\", \"18\", \"20\", \"22\", \"24\", \"26\"], \"y\": [61.49, 60.7, 60.21, 59.97, 60.0, 60.17]}, {\"hoverinfo\": \"x+y+text\", \"line\": {\"color\": \"orange\"}, \"name\": \"Data\", \"text\": \"Data)\", \"type\": \"scatter\", \"uid\": \"b52bb039-e601-4dcd-94be-7612aa43e572\", \"visible\": true, \"x\": [\"16\", \"18\", \"20\", \"22\", \"24\", \"26\"], \"y\": [87.47, 86.41, 85.75, 85.03, 85.01, 85.28]}, {\"hoverinfo\": \"x+y+text\", \"line\": {\"color\": \"orange\"}, \"name\": \"Data\", \"text\": \"Data)\", \"type\": \"scatter\", \"uid\": \"3400b1e9-9429-4706-85a3-c23b01720174\", \"visible\": false, \"x\": [\"16\", \"18\", \"20\", \"22\", \"24\", \"26\"], \"y\": [122.99, 121.79, 121.08, 120.8, 120.9, 121.34]}, {\"hoverinfo\": \"x+y+text\", \"line\": {\"color\": \"orange\"}, \"name\": \"Data\", \"text\": \"Data)\", \"type\": \"scatter\", \"uid\": \"7156c5d4-ccae-45c0-8b05-318e15254f91\", \"visible\": false, \"x\": [\"16\", \"18\", \"20\", \"22\", \"24\", \"26\"], \"y\": [177.68, 175.94, 174.95, 174.59, 174.78, 175.48]}, {\"hoverinfo\": \"x+y+text\", \"line\": {\"color\": \"orange\"}, \"name\": \"Data\", \"text\": \"Data)\", \"type\": \"scatter\", \"uid\": \"f48ede04-dd39-4257-884f-3720071535aa\", \"visible\": false, \"x\": [\"16\", \"18\", \"20\", \"22\", \"24\", \"26\"], \"y\": [243.77, 241.84, 240.86, 240.75, 241.31, 242.45]}, {\"hoverinfo\": \"x+y+text\", \"line\": {\"color\": \"orange\"}, \"name\": \"Data\", \"text\": \"Data)\", \"type\": \"scatter\", \"uid\": \"17f97c21-73d9-4bd3-893a-3ff3cccacf81\", \"visible\": false, \"x\": [\"16\", \"18\", \"20\", \"22\", \"24\", \"26\"], \"y\": [343.0, 341.53, 341.58, 342.58, 344.23, 346.67]}, {\"hoverinfo\": \"x+y+text\", \"line\": {\"color\": \"orange\"}, \"name\": \"Data\", \"text\": \"Data)\", \"type\": \"scatter\", \"uid\": \"d51da458-98bc-4d10-99dd-ea4696fc8186\", \"visible\": false, \"x\": [\"16\", \"18\", \"20\", \"22\", \"24\", \"26\"], \"y\": [483.91, 482.91, 484.97, 486.92, 490.24, 494.55]}, {\"hoverinfo\": \"x+y+text\", \"line\": {\"color\": \"orange\"}, \"name\": \"Data\", \"text\": \"Data)\", \"type\": \"scatter\", \"uid\": \"91b23514-2af5-41db-af65-bcbe9afd42cc\", \"visible\": false, \"x\": [\"16\", \"18\", \"20\", \"22\", \"24\", \"26\"], \"y\": [675.07, 686.88, 690.08, 695.01, 701.06, 709.48]}, {\"hoverinfo\": \"x+y+text\", \"line\": {\"color\": \"orange\"}, \"name\": \"Data\", \"text\": \"Data)\", \"type\": \"scatter\", \"uid\": \"5b7f9e55-5d52-4e00-aaf9-02f5d0274527\", \"visible\": false, \"x\": [\"16\", \"18\", \"20\", \"22\", \"24\", \"26\"], \"y\": [950.71, 963.56, 987.27, 1000.81, 1015.7, 1030.78]}, {\"hoverinfo\": \"x+y+text\", \"line\": {\"color\": \"orange\"}, \"name\": \"Data\", \"text\": \"Data)\", \"type\": \"scatter\", \"uid\": \"73dade7e-f2a6-4c4d-a6a9-f45916178069\", \"visible\": false, \"x\": [\"16\", \"18\", \"20\", \"22\", \"24\", \"26\"], \"y\": [1274.07, 1317.71, 1330.16, 1355.29, 1367.79, 1395.94]}, {\"hoverinfo\": \"x+y+text\", \"line\": {\"color\": \"orange\"}, \"name\": \"Data\", \"text\": \"Data)\", \"type\": \"scatter\", \"uid\": \"cc1aa7ea-9a4f-42df-b809-b3f5987cd029\", \"visible\": false, \"x\": [\"16\", \"18\", \"20\", \"22\", \"24\", \"26\"], \"y\": [1766.68, 1830.34, 1883.97, 1937.34, 1987.5, 2066.95]}, {\"hoverinfo\": \"x+y+text\", \"line\": {\"color\": \"royalblue\"}, \"name\": \"Cubic-Spline\", \"text\": \"Cubic-Spline\", \"type\": \"scatter\", \"uid\": \"9ba0582c-66fc-4fbf-adf5-e0d68b2eb1fe\", \"visible\": false, \"x\": [16, 18, 20, 22, 24, 26], \"y\": [21.940000000000005, 21.62, 21.440000000000005, 21.279999999999998, 21.259999999999998, 21.31]}, {\"hoverinfo\": \"x+y+text\", \"line\": {\"color\": \"royalblue\"}, \"name\": \"Cubic-Spline\", \"text\": \"Cubic-Spline\", \"type\": \"scatter\", \"uid\": \"a8b814be-08bd-46bf-a071-666a0b305522\", \"visible\": false, \"x\": [16, 18, 20, 22, 24, 26], \"y\": [31.05, 30.65000000000001, 30.400000000000006, 30.269999999999992, 30.249999999999993, 30.31]}, {\"hoverinfo\": \"x+y+text\", \"line\": {\"color\": \"royalblue\"}, \"name\": \"Cubic-Spline\", \"text\": \"Cubic-Spline\", \"type\": \"scatter\", \"uid\": \"f8eae196-16e8-4ef1-8453-c3f1bc3a875c\", \"visible\": false, \"x\": [16, 18, 20, 22, 24, 26], \"y\": [43.79, 43.239999999999995, 42.89000000000001, 42.72, 42.699999999999996, 42.8]}, {\"hoverinfo\": \"x+y+text\", \"line\": {\"color\": \"royalblue\"}, \"name\": \"Cubic-Spline\", \"text\": \"Cubic-Spline\", \"type\": \"scatter\", \"uid\": \"b23dd204-4957-4487-a86b-707c000569c7\", \"visible\": false, \"x\": [16, 18, 20, 22, 24, 26], \"y\": [61.49000000000001, 60.7, 60.209999999999994, 59.96999999999999, 59.99999999999999, 60.17]}, {\"hoverinfo\": \"x+y+text\", \"line\": {\"color\": \"royalblue\"}, \"name\": \"Cubic-Spline\", \"text\": \"Cubic-Spline\", \"type\": \"scatter\", \"uid\": \"6009eed0-9084-4fa8-9fdc-0b01d3043e72\", \"visible\": true, \"x\": [16, 18, 20, 22, 24, 26], \"y\": [87.47, 86.41, 85.75000000000001, 85.02999999999999, 85.00999999999999, 85.28]}, {\"hoverinfo\": \"x+y+text\", \"line\": {\"color\": \"royalblue\"}, \"name\": \"Cubic-Spline\", \"text\": \"Cubic-Spline\", \"type\": \"scatter\", \"uid\": \"ad5b63e9-2352-4058-bbcf-e01466197fb4\", \"visible\": false, \"x\": [16, 18, 20, 22, 24, 26], \"y\": [122.99000000000001, 121.79, 121.08000000000001, 120.79999999999997, 120.89999999999999, 121.34]}, {\"hoverinfo\": \"x+y+text\", \"line\": {\"color\": \"royalblue\"}, \"name\": \"Cubic-Spline\", \"text\": \"Cubic-Spline\", \"type\": \"scatter\", \"uid\": \"ca4bd1c2-0e99-408a-890a-80765f2aff68\", \"visible\": false, \"x\": [16, 18, 20, 22, 24, 26], \"y\": [177.68000000000006, 175.94000000000003, 174.95, 174.58999999999995, 174.77999999999994, 175.48]}, {\"hoverinfo\": \"x+y+text\", \"line\": {\"color\": \"royalblue\"}, \"name\": \"Cubic-Spline\", \"text\": \"Cubic-Spline\", \"type\": \"scatter\", \"uid\": \"e188764a-afad-48d7-8ec3-63d69d10b987\", \"visible\": false, \"x\": [16, 18, 20, 22, 24, 26], \"y\": [243.77000000000007, 241.84000000000006, 240.86000000000007, 240.74999999999997, 241.30999999999997, 242.45]}, {\"hoverinfo\": \"x+y+text\", \"line\": {\"color\": \"royalblue\"}, \"name\": \"Cubic-Spline\", \"text\": \"Cubic-Spline\", \"type\": \"scatter\", \"uid\": \"59f6fea2-9c34-4c97-947a-1f295cc9569f\", \"visible\": false, \"x\": [16, 18, 20, 22, 24, 26], \"y\": [343.00000000000006, 341.53, 341.58000000000004, 342.58, 344.23, 346.67]}, {\"hoverinfo\": \"x+y+text\", \"line\": {\"color\": \"royalblue\"}, \"name\": \"Cubic-Spline\", \"text\": \"Cubic-Spline\", \"type\": \"scatter\", \"uid\": \"cf60c0f2-cd6e-476d-97b4-b50447cc4e05\", \"visible\": false, \"x\": [16, 18, 20, 22, 24, 26], \"y\": [483.9100000000001, 482.9100000000001, 484.9699999999999, 486.91999999999985, 490.24, 494.55]}, {\"hoverinfo\": \"x+y+text\", \"line\": {\"color\": \"royalblue\"}, \"name\": \"Cubic-Spline\", \"text\": \"Cubic-Spline\", \"type\": \"scatter\", \"uid\": \"506cf04f-ca94-44fb-91c7-2bd18d32f916\", \"visible\": false, \"x\": [16, 18, 20, 22, 24, 26], \"y\": [675.0700000000003, 686.8800000000001, 690.0800000000002, 695.0099999999999, 701.0599999999997, 709.48]}, {\"hoverinfo\": \"x+y+text\", \"line\": {\"color\": \"royalblue\"}, \"name\": \"Cubic-Spline\", \"text\": \"Cubic-Spline\", \"type\": \"scatter\", \"uid\": \"e00da5c6-245a-4df7-a654-8c83751f74ee\", \"visible\": false, \"x\": [16, 18, 20, 22, 24, 26], \"y\": [950.71, 963.56, 987.27, 1000.8099999999997, 1015.6999999999997, 1030.78]}, {\"hoverinfo\": \"x+y+text\", \"line\": {\"color\": \"royalblue\"}, \"name\": \"Cubic-Spline\", \"text\": \"Cubic-Spline\", \"type\": \"scatter\", \"uid\": \"28c42da3-e419-41ec-94ae-d3276e4302de\", \"visible\": false, \"x\": [16, 18, 20, 22, 24, 26], \"y\": [1274.0700000000002, 1317.7100000000003, 1330.1600000000003, 1355.2899999999995, 1367.7899999999997, 1395.94]}, {\"hoverinfo\": \"x+y+text\", \"line\": {\"color\": \"royalblue\"}, \"name\": \"Cubic-Spline\", \"text\": \"Cubic-Spline\", \"type\": \"scatter\", \"uid\": \"fbfa831f-3619-4131-a952-bec73ebc4f01\", \"visible\": false, \"x\": [16, 18, 20, 22, 24, 26], \"y\": [1766.6800000000003, 1830.3400000000004, 1883.9699999999996, 1937.3399999999997, 1987.5, 2066.95]}, {\"hoverinfo\": \"x+y+text\", \"line\": {\"color\": \"firebrick\"}, \"name\": \"Cubic\", \"text\": \"Cubic)\", \"type\": \"scatter\", \"uid\": \"6d18aa98-a823-4ecb-a678-2bd262bce042\", \"visible\": false, \"x\": [\"16\", \"18\", \"20\", \"22\", \"24\", \"26\"], \"y\": [21.94, 21.62, 21.44, 21.28, 21.260000000000005, 21.31]}, {\"hoverinfo\": \"x+y+text\", \"line\": {\"color\": \"firebrick\"}, \"name\": \"Cubic\", \"text\": \"Cubic)\", \"type\": \"scatter\", \"uid\": \"d705a849-0d39-4bc1-bccc-b82dc0f92db1\", \"visible\": false, \"x\": [\"16\", \"18\", \"20\", \"22\", \"24\", \"26\"], \"y\": [31.05, 30.65, 30.399999999999995, 30.27, 30.25, 30.31]}, {\"hoverinfo\": \"x+y+text\", \"line\": {\"color\": \"firebrick\"}, \"name\": \"Cubic\", \"text\": \"Cubic)\", \"type\": \"scatter\", \"uid\": \"9df7d70b-79ad-472f-bc83-47dea9e55043\", \"visible\": false, \"x\": [\"16\", \"18\", \"20\", \"22\", \"24\", \"26\"], \"y\": [43.79, 43.24000000000001, 42.89, 42.72, 42.7, 42.8]}, {\"hoverinfo\": \"x+y+text\", \"line\": {\"color\": \"firebrick\"}, \"name\": \"Cubic\", \"text\": \"Cubic)\", \"type\": \"scatter\", \"uid\": \"8a243b03-f3e8-451b-9461-ee1d2baa3df9\", \"visible\": false, \"x\": [\"16\", \"18\", \"20\", \"22\", \"24\", \"26\"], \"y\": [61.49, 60.7, 60.21, 59.96999999999999, 60.0, 60.17]}, {\"hoverinfo\": \"x+y+text\", \"line\": {\"color\": \"firebrick\"}, \"name\": \"Cubic\", \"text\": \"Cubic)\", \"type\": \"scatter\", \"uid\": \"28bd9994-e87c-4291-93a9-24ba6f5f1b17\", \"visible\": true, \"x\": [\"16\", \"18\", \"20\", \"22\", \"24\", \"26\"], \"y\": [87.47, 86.41, 85.75, 85.03, 85.01, 85.28]}, {\"hoverinfo\": \"x+y+text\", \"line\": {\"color\": \"firebrick\"}, \"name\": \"Cubic\", \"text\": \"Cubic)\", \"type\": \"scatter\", \"uid\": \"c14161c3-6e4c-441e-a18f-9c1a070e3d0a\", \"visible\": false, \"x\": [\"16\", \"18\", \"20\", \"22\", \"24\", \"26\"], \"y\": [122.99, 121.79, 121.07999999999998, 120.8, 120.90000000000002, 121.34]}, {\"hoverinfo\": \"x+y+text\", \"line\": {\"color\": \"firebrick\"}, \"name\": \"Cubic\", \"text\": \"Cubic)\", \"type\": \"scatter\", \"uid\": \"8fbb6095-6b87-4b6f-8102-852c076eaf17\", \"visible\": false, \"x\": [\"16\", \"18\", \"20\", \"22\", \"24\", \"26\"], \"y\": [177.68, 175.94, 174.94999999999996, 174.58999999999997, 174.77999999999997, 175.48]}, {\"hoverinfo\": \"x+y+text\", \"line\": {\"color\": \"firebrick\"}, \"name\": \"Cubic\", \"text\": \"Cubic)\", \"type\": \"scatter\", \"uid\": \"64482493-06ee-43d5-bf58-bb99a2f7d009\", \"visible\": false, \"x\": [\"16\", \"18\", \"20\", \"22\", \"24\", \"26\"], \"y\": [243.77, 241.84, 240.86, 240.75, 241.31, 242.45]}, {\"hoverinfo\": \"x+y+text\", \"line\": {\"color\": \"firebrick\"}, \"name\": \"Cubic\", \"text\": \"Cubic)\", \"type\": \"scatter\", \"uid\": \"f7e198eb-e32d-44ab-8ce1-94ee6b5d1634\", \"visible\": false, \"x\": [\"16\", \"18\", \"20\", \"22\", \"24\", \"26\"], \"y\": [343.0, 341.53, 341.58, 342.5799999999999, 344.23, 346.67]}, {\"hoverinfo\": \"x+y+text\", \"line\": {\"color\": \"firebrick\"}, \"name\": \"Cubic\", \"text\": \"Cubic)\", \"type\": \"scatter\", \"uid\": \"54ca71f4-ccbe-456c-a920-265419472f74\", \"visible\": false, \"x\": [\"16\", \"18\", \"20\", \"22\", \"24\", \"26\"], \"y\": [483.91, 482.91, 484.97, 486.91999999999996, 490.24, 494.55]}, {\"hoverinfo\": \"x+y+text\", \"line\": {\"color\": \"firebrick\"}, \"name\": \"Cubic\", \"text\": \"Cubic)\", \"type\": \"scatter\", \"uid\": \"c8292475-8fd6-460b-af35-57043ae49fa1\", \"visible\": false, \"x\": [\"16\", \"18\", \"20\", \"22\", \"24\", \"26\"], \"y\": [675.07, 686.88, 690.08, 695.01, 701.06, 709.48]}, {\"hoverinfo\": \"x+y+text\", \"line\": {\"color\": \"firebrick\"}, \"name\": \"Cubic\", \"text\": \"Cubic)\", \"type\": \"scatter\", \"uid\": \"d53a1868-a009-47a4-9022-fa830f539d37\", \"visible\": false, \"x\": [\"16\", \"18\", \"20\", \"22\", \"24\", \"26\"], \"y\": [950.71, 963.56, 987.27, 1000.81, 1015.7000000000002, 1030.78]}, {\"hoverinfo\": \"x+y+text\", \"line\": {\"color\": \"firebrick\"}, \"name\": \"Cubic\", \"text\": \"Cubic)\", \"type\": \"scatter\", \"uid\": \"0e54ab36-eb45-4be8-adcd-d12d5b0c7778\", \"visible\": false, \"x\": [\"16\", \"18\", \"20\", \"22\", \"24\", \"26\"], \"y\": [1274.07, 1317.71, 1330.16, 1355.2900000000002, 1367.7900000000002, 1395.94]}, {\"hoverinfo\": \"x+y+text\", \"line\": {\"color\": \"firebrick\"}, \"name\": \"Cubic\", \"text\": \"Cubic)\", \"type\": \"scatter\", \"uid\": \"d0a2620b-3cc2-44b7-aacb-cb47083c4891\", \"visible\": false, \"x\": [\"16\", \"18\", \"20\", \"22\", \"24\", \"26\"], \"y\": [1766.68, 1830.3399999999997, 1883.9699999999998, 1937.34, 1987.5, 2066.95]}],\n",
       "                        {\"annotations\": [{\"font\": {\"family\": \"Times New Roman\", \"size\": 22}, \"showarrow\": false, \"text\": \"Temperature (\\u00b0C)\", \"x\": 0.5004254919715793, \"xref\": \"paper\", \"y\": -0.18, \"yref\": \"paper\"}, {\"font\": {\"family\": \"Times New Roman\", \"size\": 22}, \"showarrow\": false, \"text\": \"Longitudinal Relaxation (T<sub>1</sub>)\", \"textangle\": -90, \"x\": -0.15, \"xref\": \"paper\", \"y\": 0.5, \"yref\": \"paper\"}], \"height\": 450, \"legend\": {\"bordercolor\": \"#000000\", \"borderwidth\": 2, \"font\": {\"color\": \"#000\", \"family\": \"Times New Roman\", \"size\": 12}, \"traceorder\": \"normal\", \"x\": 0.5, \"y\": 0.9}, \"margin\": {\"b\": 60, \"l\": 80, \"r\": 40, \"t\": 10}, \"sliders\": [{\"active\": 3, \"currentvalue\": {\"prefix\": \"Sphere No.: <b>\"}, \"pad\": {\"b\": 10, \"t\": 50}, \"steps\": [{\"args\": [\"visible\", [true, false, false, false, false, false, false, false, false, false, false, false, false, false]], \"label\": \"14\", \"method\": \"restyle\"}, {\"args\": [\"visible\", [false, true, false, false, false, false, false, false, false, false, false, false, false, false]], \"label\": \"13\", \"method\": \"restyle\"}, {\"args\": [\"visible\", [false, false, true, false, false, false, false, false, false, false, false, false, false, false]], \"label\": \"12\", \"method\": \"restyle\"}, {\"args\": [\"visible\", [false, false, false, true, false, false, false, false, false, false, false, false, false, false]], \"label\": \"11\", \"method\": \"restyle\"}, {\"args\": [\"visible\", [false, false, false, false, true, false, false, false, false, false, false, false, false, false]], \"label\": \"10\", \"method\": \"restyle\"}, {\"args\": [\"visible\", [false, false, false, false, false, true, false, false, false, false, false, false, false, false]], \"label\": \"9\", \"method\": \"restyle\"}, {\"args\": [\"visible\", [false, false, false, false, false, false, true, false, false, false, false, false, false, false]], \"label\": \"8\", \"method\": \"restyle\"}, {\"args\": [\"visible\", [false, false, false, false, false, false, false, true, false, false, false, false, false, false]], \"label\": \"7\", \"method\": \"restyle\"}, {\"args\": [\"visible\", [false, false, false, false, false, false, false, false, true, false, false, false, false, false]], \"label\": \"6\", \"method\": \"restyle\"}, {\"args\": [\"visible\", [false, false, false, false, false, false, false, false, false, true, false, false, false, false]], \"label\": \"5\", \"method\": \"restyle\"}, {\"args\": [\"visible\", [false, false, false, false, false, false, false, false, false, false, true, false, false, false]], \"label\": \"4\", \"method\": \"restyle\"}, {\"args\": [\"visible\", [false, false, false, false, false, false, false, false, false, false, false, true, false, false]], \"label\": \"3\", \"method\": \"restyle\"}, {\"args\": [\"visible\", [false, false, false, false, false, false, false, false, false, false, false, false, true, false]], \"label\": \"2\", \"method\": \"restyle\"}, {\"args\": [\"visible\", [false, false, false, false, false, false, false, false, false, false, false, false, false, true]], \"label\": \"1\", \"method\": \"restyle\"}], \"x\": 0, \"y\": -0.09}], \"width\": 580, \"xaxis\": {\"autorange\": false, \"linecolor\": \"black\", \"linewidth\": 2, \"range\": [16, \"26\"], \"showgrid\": false}, \"yaxis\": {\"autorange\": true, \"linecolor\": \"black\", \"linewidth\": 2, \"showgrid\": false}},\n",
       "                        {\"showLink\": false, \"displayModeBar\": false, \"linkText\": \"Export to plot.ly\", \"plotlyServerURL\": \"https://plot.ly\", \"responsive\": true}\n",
       "                    ).then(function(){\n",
       "                            \n",
       "var gd = document.getElementById('07b85769-6444-4dbf-85d4-39e4c2ac3e72');\n",
       "var x = new MutationObserver(function (mutations, observer) {{\n",
       "        var display = window.getComputedStyle(gd).display;\n",
       "        if (!display || display === 'none') {{\n",
       "            console.log([gd, 'removed!']);\n",
       "            Plotly.purge(gd);\n",
       "            observer.disconnect();\n",
       "        }}\n",
       "}});\n",
       "\n",
       "// Listen for the removal of the full notebook cells\n",
       "var notebookContainer = gd.closest('#notebook-container');\n",
       "if (notebookContainer) {{\n",
       "    x.observe(notebookContainer, {childList: true});\n",
       "}}\n",
       "\n",
       "// Listen for the clearing of the current output cell\n",
       "var outputEl = gd.closest('.output');\n",
       "if (outputEl) {{\n",
       "    x.observe(outputEl, {childList: true});\n",
       "}}\n",
       "\n",
       "                        })\n",
       "                };\n",
       "                });\n",
       "            </script>\n",
       "        </div>"
      ]
     },
     "metadata": {},
     "output_type": "display_data"
    }
   ],
   "source": [
    "#DATA\n",
    "\n",
    "def temperature_correction(input_temperature):\n",
    "    #Dictionary of data\n",
    "    phantom_v2 = {\n",
    "        '14': {'16': '21.94', '18': '21.62','20': '21.44', '22': '21.28', '24': '21.26', '26': '21.31'},\n",
    "        '13': {'16': '31.05', '18': '30.65','20': '30.40', '22': '30.27', '24': '30.25', '26': '30.31'},\n",
    "        '12': {'16': '43.79', '18': '43.24','20': '42.89', '22': '42.72', '24': '42.70', '26': '42.80'},\n",
    "        '11': {'16': '61.49', '18': '60.70','20': '60.21', '22': '59.97', '24': '60.00', '26': '60.17'},\n",
    "        '10': {'16': '87.47', '18': '86.41','20': '85.75', '22': '85.03', '24': '85.01', '26': '85.28'},\n",
    "        '9': {'16': '122.99', '18': '121.79','20': '121.08', '22': '120.80', '24': '120.90', '26': '121.34'},\n",
    "        '8': {'16': '177.68', '18': '175.94','20': '174.95', '22': '174.59', '24': '174.78', '26': '175.48'},\n",
    "        '7': {'16': '243.77', '18': '241.84','20': '240.86', '22': '240.75', '24': '241.31', '26': '242.45'},\n",
    "        '6': {'16': '343.00', '18': '341.53','20': '341.58', '22': '342.58', '24': '344.23', '26': '346.67'},\n",
    "        '5': {'16': '483.91', '18': '482.91','20': '484.97', '22': '486.92', '24': '490.24', '26': '494.55'},\n",
    "        '4': {'16': '675.07', '18': '686.88','20': '690.08', '22': '695.01', '24': '701.06', '26': '709.48'},\n",
    "        '3': {'16': '950.71', '18': '963.56','20': '987.27', '22': '1000.81', '24': '1015.70', '26': '1030.78'},\n",
    "        '2': {'16': '1274.07', '18': '1317.71','20': '1330.16', '22': '1355.29', '24': '1367.79', '26': '1395.94'},\n",
    "        '1': {'16': '1766.68', '18': '1830.34','20': '1883.97', '22': '1937.34', '24': '1987.50', '26': '2066.95'}\n",
    "        };\n",
    "    \n",
    "    ##Get keys and values of dictionary to construct a 2D array##\n",
    "    #Get dictionary keys as lists\n",
    "    sphere = list(phantom_v2.keys());\n",
    "    temperature = list(phantom_v2['1'].keys());\n",
    "\n",
    "    #Define array (data2fit) to store data to be fitted\n",
    "    data2fit = np.empty([len(temperature),len(sphere)+1]);\n",
    "    #Fill data2fit array\n",
    "    row = 0;\n",
    "    for i in temperature:\n",
    "        row = row + 1;\n",
    "        data2fit[row-1,0] = int(i);\n",
    "        for j in sphere:\n",
    "            T1_value = float(phantom_v2[j][i]);\n",
    "            data2fit[row-1,int(j)] = T1_value;\n",
    "    \n",
    "    ##Code for Temperature Correction: Interpolation##\n",
    "    cs_estimatedT1_values = np.empty([len(input_temperature),len(sphere)]);\n",
    "    cs_outDic_T1values = {};\n",
    "    \n",
    "    c_estimatedT1_values = np.empty([len(input_temperature),len(sphere)]);\n",
    "    c_outDic_T1values = {};\n",
    "    #Interpolations\n",
    "    for k in range(len(sphere)):\n",
    "        for l in range(len(input_temperature)):\n",
    "            f_cubicSpline = interpolate.splrep(data2fit[:,0], data2fit[:,k+1]);\n",
    "            #input_temperature2 = input_temperature[l];\n",
    "            cs_estimatedT1_values[l,k] = interpolate.splev(input_temperature[l],f_cubicSpline);\n",
    "            cs_outDic_T1values[l,k+1] = cs_estimatedT1_values[l,k];\n",
    "        \n",
    "            f_cubic = interpolate.interp1d(data2fit[:,0], data2fit[:,k+1], kind='cubic');\n",
    "            c_estimatedT1_values[l,k] = f_cubic(input_temperature[l]);\n",
    "            c_outDic_T1values[l,k+1] = c_estimatedT1_values[l,k];\n",
    "    \n",
    "    #Interpolation of data for Sphere No. 1 only\n",
    "    #plt.plot(data2fit[:,0], data2fit[:,1], 'o')\n",
    "    #plt.plot(data2fit[:,0], cs_estimatedT1_values[:,0], '--');\n",
    "    #plt.plot(data2fit[:,0], c_estimatedT1_values[:,0], '-*');\n",
    "    #plt.legend(['data', 'cubic-spline', 'cubic'], loc='best');\n",
    "    #plt.title('Interpolation: Sphere No. 1');\n",
    "    #plt.xlabel('Temperature (°C)');\n",
    "    #plt.ylabel('T1 value (ms)')\n",
    "    #plt.show()\n",
    "    \n",
    "# PLOTS\n",
    "    init_notebook_mode(connected=True)\n",
    "    cs_estimatedT1_values = np.transpose(cs_estimatedT1_values)\n",
    "    c_estimatedT1_values = np.transpose(c_estimatedT1_values)\n",
    "    original_data = np.transpose(data2fit)\n",
    "    original_data = np.delete(original_data, 0, 0)\n",
    "    \n",
    "    data1 = [dict(\n",
    "        visible = False,\n",
    "        line=dict(color='orange'),\n",
    "        x = temperature,\n",
    "        y = abs(original_data[13-ii]),\n",
    "        name = 'Data',\n",
    "        text = 'Data)',\n",
    "        hoverinfo = 'x+y+text') for ii in range(len(sphere))]\n",
    "\n",
    "    data1[4]['visible'] = True\n",
    "    \n",
    "    data2 = [dict(\n",
    "        visible = False,\n",
    "        line=dict(color='royalblue'),\n",
    "        x = input_temperature,\n",
    "        y = abs(cs_estimatedT1_values[13-ii]),\n",
    "        name = 'Cubic-Spline',\n",
    "        text = 'Cubic-Spline',\n",
    "        hoverinfo = 'x+y+text') for ii in range(len(sphere))]\n",
    "\n",
    "    data2[4]['visible'] = True\n",
    "\n",
    "    data3 = [dict(\n",
    "        visible = False,\n",
    "        line=dict(color='firebrick'),\n",
    "        x = temperature,\n",
    "        y = abs(c_estimatedT1_values[13-ii]),\n",
    "        name = 'Cubic',\n",
    "        text = 'Cubic)',\n",
    "        hoverinfo = 'x+y+text') for ii in range(len(sphere))]\n",
    "\n",
    "    data3[4]['visible'] = True\n",
    "\n",
    "    data = data1 + data2 + data3\n",
    "\n",
    "    steps = []\n",
    "    for i in range(len(np.asarray(sphere))):\n",
    "        step = dict(\n",
    "            method = 'restyle',  \n",
    "            args = ['visible', [False] * len(data2)],\n",
    "            label = str(np.asarray(sphere)[i])\n",
    "            )\n",
    "        step['args'][1][i] = True # Toggle i'th trace to \"visible\"\n",
    "        steps.append(step)\n",
    "\n",
    "    sliders=[\n",
    "        dict(\n",
    "            x = 0,\n",
    "            y = -0.09,\n",
    "            active = 3,\n",
    "            currentvalue = {\"prefix\": \"Sphere No.: <b>\"},\n",
    "            pad = {\"t\": 50, \"b\": 10},\n",
    "            steps = steps)]\n",
    "\n",
    "    layout = go.Layout(\n",
    "        width=580,\n",
    "        height=450,\n",
    "        margin=go.layout.Margin(\n",
    "            l=80,\n",
    "            r=40,\n",
    "            b=60,\n",
    "            t=10,\n",
    "        ),\n",
    "        annotations=[\n",
    "            dict(\n",
    "                x=0.5004254919715793,\n",
    "                y=-0.18,\n",
    "                showarrow=False,\n",
    "                text='Temperature (°C)',\n",
    "                font=dict(\n",
    "                    family='Times New Roman',\n",
    "                    size=22\n",
    "                ),\n",
    "                xref='paper',\n",
    "                yref='paper'\n",
    "            ),\n",
    "            dict(\n",
    "                x=-0.15,\n",
    "                y=0.5,\n",
    "                showarrow=False,\n",
    "                text='Longitudinal Relaxation (T<sub>1</sub>)',\n",
    "                font=dict(\n",
    "                    family='Times New Roman',\n",
    "                    size=22\n",
    "                ),\n",
    "                textangle=-90,\n",
    "                xref='paper',\n",
    "                yref='paper'\n",
    "            ),\n",
    "        ],\n",
    "        xaxis=dict(\n",
    "            autorange=False,\n",
    "            range=[16, temperature[-1]],\n",
    "            showgrid=False,\n",
    "            linecolor='black',\n",
    "            linewidth=2\n",
    "        ),\n",
    "        yaxis=dict(\n",
    "            autorange=True,\n",
    "            showgrid=False,\n",
    "            linecolor='black',\n",
    "            linewidth=2\n",
    "        ),\n",
    "        legend=dict(\n",
    "            x=0.5,\n",
    "            y=0.9,\n",
    "            traceorder='normal',\n",
    "            font=dict(\n",
    "                family='Times New Roman',\n",
    "                size=12,\n",
    "                color='#000'\n",
    "            ),\n",
    "            bordercolor='#000000',\n",
    "            borderwidth=2\n",
    "        ), \n",
    "        sliders=sliders\n",
    "    )\n",
    "\n",
    "    fig = dict(data=data, layout=layout)\n",
    "\n",
    "    iplot(fig, filename = 'basic-line', config = config)\n",
    "        \n",
    "    return cs_outDic_T1values, cs_estimatedT1_values, c_outDic_T1values, c_estimatedT1_values, temperature, sphere;\n",
    "\n",
    "\n",
    "temperature_correction(np.arange(16,28,2));"
   ]
  },
  {
   "cell_type": "code",
   "execution_count": null,
   "metadata": {},
   "outputs": [],
   "source": []
  }
 ],
 "metadata": {
  "kernelspec": {
   "display_name": "Python 3",
   "language": "python",
   "name": "python3"
  },
  "language_info": {
   "codemirror_mode": {
    "name": "ipython",
    "version": 3
   },
   "file_extension": ".py",
   "mimetype": "text/x-python",
   "name": "python",
   "nbconvert_exporter": "python",
   "pygments_lexer": "ipython3",
   "version": "3.7.6"
  }
 },
 "nbformat": 4,
 "nbformat_minor": 4
}
