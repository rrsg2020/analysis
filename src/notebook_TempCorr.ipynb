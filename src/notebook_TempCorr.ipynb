{
 "cells": [
  {
   "cell_type": "code",
   "execution_count": 1,
   "metadata": {},
   "outputs": [
    {
     "data": {
      "text/html": [
       "        <script type=\"text/javascript\">\n",
       "        window.PlotlyConfig = {MathJaxConfig: 'local'};\n",
       "        if (window.MathJax) {MathJax.Hub.Config({SVG: {font: \"STIX-Web\"}});}\n",
       "        if (typeof require !== 'undefined') {\n",
       "        require.undef(\"plotly\");\n",
       "        requirejs.config({\n",
       "            paths: {\n",
       "                'plotly': ['https://cdn.plot.ly/plotly-latest.min']\n",
       "            }\n",
       "        });\n",
       "        require(['plotly'], function(Plotly) {\n",
       "            window._Plotly = Plotly;\n",
       "        });\n",
       "        }\n",
       "        </script>\n",
       "        "
      ]
     },
     "metadata": {},
     "output_type": "display_data"
    }
   ],
   "source": [
    "# PYTHON CODE\n",
    "# Module imports\n",
    "\n",
    "from scipy import interpolate\n",
    "import matplotlib.pyplot as plt\n",
    "import plotly.plotly as py\n",
    "import plotly.graph_objs as go\n",
    "import numpy as np\n",
    "from plotly import __version__\n",
    "from plotly.offline import download_plotlyjs, init_notebook_mode, plot, iplot\n",
    "config={'showLink': False, 'displayModeBar': False}\n",
    "\n",
    "init_notebook_mode(connected=True)\n",
    "\n",
    "from IPython.core.display import display, HTML"
   ]
  },
  {
   "cell_type": "code",
   "execution_count": 6,
   "metadata": {
    "scrolled": false
   },
   "outputs": [
    {
     "data": {
      "text/html": [
       "        <script type=\"text/javascript\">\n",
       "        window.PlotlyConfig = {MathJaxConfig: 'local'};\n",
       "        if (window.MathJax) {MathJax.Hub.Config({SVG: {font: \"STIX-Web\"}});}\n",
       "        if (typeof require !== 'undefined') {\n",
       "        require.undef(\"plotly\");\n",
       "        requirejs.config({\n",
       "            paths: {\n",
       "                'plotly': ['https://cdn.plot.ly/plotly-latest.min']\n",
       "            }\n",
       "        });\n",
       "        require(['plotly'], function(Plotly) {\n",
       "            window._Plotly = Plotly;\n",
       "        });\n",
       "        }\n",
       "        </script>\n",
       "        "
      ]
     },
     "metadata": {},
     "output_type": "display_data"
    },
    {
     "data": {
      "application/vnd.plotly.v1+json": {
       "config": {
        "displayModeBar": false,
        "linkText": "Export to plot.ly",
        "plotlyServerURL": "https://plot.ly",
        "showLink": false
       },
       "data": [
        {
         "hoverinfo": "x+y+text",
         "line": {
          "color": "orange"
         },
         "name": "Data",
         "text": "Data)",
         "type": "scatter",
         "uid": "b6a29e62-8ee0-4c1a-a1c9-d5f92a62bb5c",
         "visible": false,
         "x": [
          "16",
          "18",
          "20",
          "22",
          "24",
          "26"
         ],
         "y": [
          21.94,
          21.62,
          21.44,
          21.28,
          21.26,
          21.31
         ]
        },
        {
         "hoverinfo": "x+y+text",
         "line": {
          "color": "orange"
         },
         "name": "Data",
         "text": "Data)",
         "type": "scatter",
         "uid": "c4cd41d6-32ad-4b3f-8086-a335ef5887fc",
         "visible": false,
         "x": [
          "16",
          "18",
          "20",
          "22",
          "24",
          "26"
         ],
         "y": [
          31.05,
          30.65,
          30.4,
          30.27,
          30.25,
          30.31
         ]
        },
        {
         "hoverinfo": "x+y+text",
         "line": {
          "color": "orange"
         },
         "name": "Data",
         "text": "Data)",
         "type": "scatter",
         "uid": "9149cc08-7995-40c7-bcac-dfab77e7f4ba",
         "visible": false,
         "x": [
          "16",
          "18",
          "20",
          "22",
          "24",
          "26"
         ],
         "y": [
          43.79,
          43.24,
          42.89,
          42.72,
          42.7,
          42.8
         ]
        },
        {
         "hoverinfo": "x+y+text",
         "line": {
          "color": "orange"
         },
         "name": "Data",
         "text": "Data)",
         "type": "scatter",
         "uid": "b39a74b3-a0ad-49c2-a60d-f33c5e48b291",
         "visible": false,
         "x": [
          "16",
          "18",
          "20",
          "22",
          "24",
          "26"
         ],
         "y": [
          61.49,
          60.7,
          60.21,
          59.97,
          60,
          60.17
         ]
        },
        {
         "hoverinfo": "x+y+text",
         "line": {
          "color": "orange"
         },
         "name": "Data",
         "text": "Data)",
         "type": "scatter",
         "uid": "b18c50f5-6cc9-4232-b1dd-e3bc42fe7993",
         "visible": true,
         "x": [
          "16",
          "18",
          "20",
          "22",
          "24",
          "26"
         ],
         "y": [
          87.47,
          86.41,
          85.75,
          85.03,
          85.01,
          85.28
         ]
        },
        {
         "hoverinfo": "x+y+text",
         "line": {
          "color": "orange"
         },
         "name": "Data",
         "text": "Data)",
         "type": "scatter",
         "uid": "6369b43d-4935-43b8-8777-407d398787df",
         "visible": false,
         "x": [
          "16",
          "18",
          "20",
          "22",
          "24",
          "26"
         ],
         "y": [
          122.99,
          121.79,
          121.08,
          120.8,
          120.9,
          121.34
         ]
        },
        {
         "hoverinfo": "x+y+text",
         "line": {
          "color": "orange"
         },
         "name": "Data",
         "text": "Data)",
         "type": "scatter",
         "uid": "24193e75-a47e-4dee-a946-eb1ddd30026e",
         "visible": false,
         "x": [
          "16",
          "18",
          "20",
          "22",
          "24",
          "26"
         ],
         "y": [
          177.68,
          175.94,
          174.95,
          174.59,
          174.78,
          175.48
         ]
        },
        {
         "hoverinfo": "x+y+text",
         "line": {
          "color": "orange"
         },
         "name": "Data",
         "text": "Data)",
         "type": "scatter",
         "uid": "c4719de6-f7dc-4393-b05c-0adf75d0b16f",
         "visible": false,
         "x": [
          "16",
          "18",
          "20",
          "22",
          "24",
          "26"
         ],
         "y": [
          243.77,
          241.84,
          240.86,
          240.75,
          241.31,
          242.45
         ]
        },
        {
         "hoverinfo": "x+y+text",
         "line": {
          "color": "orange"
         },
         "name": "Data",
         "text": "Data)",
         "type": "scatter",
         "uid": "97470873-44fd-4379-957d-bcbb66dbaa3e",
         "visible": false,
         "x": [
          "16",
          "18",
          "20",
          "22",
          "24",
          "26"
         ],
         "y": [
          343,
          341.53,
          341.58,
          342.58,
          344.23,
          346.67
         ]
        },
        {
         "hoverinfo": "x+y+text",
         "line": {
          "color": "orange"
         },
         "name": "Data",
         "text": "Data)",
         "type": "scatter",
         "uid": "29686a20-b1b8-40ad-8888-7a0da7ad6c48",
         "visible": false,
         "x": [
          "16",
          "18",
          "20",
          "22",
          "24",
          "26"
         ],
         "y": [
          483.91,
          482.91,
          484.97,
          486.92,
          490.24,
          494.55
         ]
        },
        {
         "hoverinfo": "x+y+text",
         "line": {
          "color": "orange"
         },
         "name": "Data",
         "text": "Data)",
         "type": "scatter",
         "uid": "f489bd98-9219-4191-8767-70a5646d595b",
         "visible": false,
         "x": [
          "16",
          "18",
          "20",
          "22",
          "24",
          "26"
         ],
         "y": [
          675.07,
          686.88,
          690.08,
          695.01,
          701.06,
          709.48
         ]
        },
        {
         "hoverinfo": "x+y+text",
         "line": {
          "color": "orange"
         },
         "name": "Data",
         "text": "Data)",
         "type": "scatter",
         "uid": "55927f1f-6e0e-4d8f-b538-f1e71ff79a78",
         "visible": false,
         "x": [
          "16",
          "18",
          "20",
          "22",
          "24",
          "26"
         ],
         "y": [
          950.71,
          963.56,
          987.27,
          1000.81,
          1015.7,
          1030.78
         ]
        },
        {
         "hoverinfo": "x+y+text",
         "line": {
          "color": "orange"
         },
         "name": "Data",
         "text": "Data)",
         "type": "scatter",
         "uid": "e8872b32-4bb7-4fb6-83e0-d97ddd84f172",
         "visible": false,
         "x": [
          "16",
          "18",
          "20",
          "22",
          "24",
          "26"
         ],
         "y": [
          1274.07,
          1317.71,
          1330.16,
          1355.29,
          1367.79,
          1395.94
         ]
        },
        {
         "hoverinfo": "x+y+text",
         "line": {
          "color": "orange"
         },
         "name": "Data",
         "text": "Data)",
         "type": "scatter",
         "uid": "0b2548e8-93b7-46ad-b440-d92385664946",
         "visible": false,
         "x": [
          "16",
          "18",
          "20",
          "22",
          "24",
          "26"
         ],
         "y": [
          1766.68,
          1830.34,
          1883.97,
          1937.34,
          1987.5,
          2066.95
         ]
        },
        {
         "hoverinfo": "x+y+text",
         "line": {
          "color": "royalblue"
         },
         "name": "Cubic-Spline",
         "text": "Cubic-Spline",
         "type": "scatter",
         "uid": "91434561-f96a-4d30-ab35-8b0791a85e38",
         "visible": false,
         "x": [
          16,
          18,
          20,
          22,
          24,
          26
         ],
         "y": [
          21.940000000000005,
          21.62,
          21.440000000000005,
          21.279999999999998,
          21.259999999999998,
          21.31
         ]
        },
        {
         "hoverinfo": "x+y+text",
         "line": {
          "color": "royalblue"
         },
         "name": "Cubic-Spline",
         "text": "Cubic-Spline",
         "type": "scatter",
         "uid": "1166215d-00e4-44d8-b596-dedf07fc6e20",
         "visible": false,
         "x": [
          16,
          18,
          20,
          22,
          24,
          26
         ],
         "y": [
          31.05,
          30.65000000000001,
          30.400000000000006,
          30.269999999999992,
          30.249999999999993,
          30.31
         ]
        },
        {
         "hoverinfo": "x+y+text",
         "line": {
          "color": "royalblue"
         },
         "name": "Cubic-Spline",
         "text": "Cubic-Spline",
         "type": "scatter",
         "uid": "8de95400-8d7d-489e-9902-accafe574880",
         "visible": false,
         "x": [
          16,
          18,
          20,
          22,
          24,
          26
         ],
         "y": [
          43.79,
          43.239999999999995,
          42.89000000000001,
          42.72,
          42.699999999999996,
          42.8
         ]
        },
        {
         "hoverinfo": "x+y+text",
         "line": {
          "color": "royalblue"
         },
         "name": "Cubic-Spline",
         "text": "Cubic-Spline",
         "type": "scatter",
         "uid": "25bf5399-000c-4dc3-957f-e03ba70284b5",
         "visible": false,
         "x": [
          16,
          18,
          20,
          22,
          24,
          26
         ],
         "y": [
          61.49000000000001,
          60.7,
          60.209999999999994,
          59.96999999999999,
          59.99999999999999,
          60.17
         ]
        },
        {
         "hoverinfo": "x+y+text",
         "line": {
          "color": "royalblue"
         },
         "name": "Cubic-Spline",
         "text": "Cubic-Spline",
         "type": "scatter",
         "uid": "2b5f0c4d-5794-4a10-8bbd-4a07a9d9d357",
         "visible": true,
         "x": [
          16,
          18,
          20,
          22,
          24,
          26
         ],
         "y": [
          87.47,
          86.41,
          85.75000000000001,
          85.02999999999999,
          85.00999999999999,
          85.28
         ]
        },
        {
         "hoverinfo": "x+y+text",
         "line": {
          "color": "royalblue"
         },
         "name": "Cubic-Spline",
         "text": "Cubic-Spline",
         "type": "scatter",
         "uid": "5ad1ba17-9d36-4d4b-86b3-dfed5197e185",
         "visible": false,
         "x": [
          16,
          18,
          20,
          22,
          24,
          26
         ],
         "y": [
          122.99000000000001,
          121.79,
          121.08000000000001,
          120.79999999999997,
          120.89999999999999,
          121.34
         ]
        },
        {
         "hoverinfo": "x+y+text",
         "line": {
          "color": "royalblue"
         },
         "name": "Cubic-Spline",
         "text": "Cubic-Spline",
         "type": "scatter",
         "uid": "77716ff4-e9a7-4b98-ab26-dd03652424a0",
         "visible": false,
         "x": [
          16,
          18,
          20,
          22,
          24,
          26
         ],
         "y": [
          177.68000000000006,
          175.94000000000003,
          174.95,
          174.58999999999995,
          174.77999999999994,
          175.48
         ]
        },
        {
         "hoverinfo": "x+y+text",
         "line": {
          "color": "royalblue"
         },
         "name": "Cubic-Spline",
         "text": "Cubic-Spline",
         "type": "scatter",
         "uid": "23fd1d28-9e76-4278-8559-44e0c69c9051",
         "visible": false,
         "x": [
          16,
          18,
          20,
          22,
          24,
          26
         ],
         "y": [
          243.77000000000007,
          241.84000000000006,
          240.86000000000007,
          240.74999999999997,
          241.30999999999997,
          242.45
         ]
        },
        {
         "hoverinfo": "x+y+text",
         "line": {
          "color": "royalblue"
         },
         "name": "Cubic-Spline",
         "text": "Cubic-Spline",
         "type": "scatter",
         "uid": "79155abe-adb7-4f12-8fcf-5d86a5b97656",
         "visible": false,
         "x": [
          16,
          18,
          20,
          22,
          24,
          26
         ],
         "y": [
          343.00000000000006,
          341.53,
          341.58000000000004,
          342.58,
          344.23,
          346.67
         ]
        },
        {
         "hoverinfo": "x+y+text",
         "line": {
          "color": "royalblue"
         },
         "name": "Cubic-Spline",
         "text": "Cubic-Spline",
         "type": "scatter",
         "uid": "9d64b8fc-dfb3-4bd8-89f1-fb681afb2ebd",
         "visible": false,
         "x": [
          16,
          18,
          20,
          22,
          24,
          26
         ],
         "y": [
          483.9100000000001,
          482.9100000000001,
          484.9699999999999,
          486.91999999999985,
          490.24,
          494.55
         ]
        },
        {
         "hoverinfo": "x+y+text",
         "line": {
          "color": "royalblue"
         },
         "name": "Cubic-Spline",
         "text": "Cubic-Spline",
         "type": "scatter",
         "uid": "8021cb96-595d-43fb-8413-28943498ece1",
         "visible": false,
         "x": [
          16,
          18,
          20,
          22,
          24,
          26
         ],
         "y": [
          675.0700000000003,
          686.8800000000001,
          690.0800000000002,
          695.0099999999999,
          701.0599999999997,
          709.48
         ]
        },
        {
         "hoverinfo": "x+y+text",
         "line": {
          "color": "royalblue"
         },
         "name": "Cubic-Spline",
         "text": "Cubic-Spline",
         "type": "scatter",
         "uid": "1ee0b209-21ab-4e34-b553-337a63ffaaed",
         "visible": false,
         "x": [
          16,
          18,
          20,
          22,
          24,
          26
         ],
         "y": [
          950.71,
          963.56,
          987.27,
          1000.8099999999997,
          1015.6999999999997,
          1030.78
         ]
        },
        {
         "hoverinfo": "x+y+text",
         "line": {
          "color": "royalblue"
         },
         "name": "Cubic-Spline",
         "text": "Cubic-Spline",
         "type": "scatter",
         "uid": "aafff72b-ace0-46ed-8474-37f8c9d643a8",
         "visible": false,
         "x": [
          16,
          18,
          20,
          22,
          24,
          26
         ],
         "y": [
          1274.0700000000002,
          1317.7100000000003,
          1330.1600000000003,
          1355.2899999999995,
          1367.7899999999997,
          1395.94
         ]
        },
        {
         "hoverinfo": "x+y+text",
         "line": {
          "color": "royalblue"
         },
         "name": "Cubic-Spline",
         "text": "Cubic-Spline",
         "type": "scatter",
         "uid": "c9e6c3a5-2169-4952-9ea6-646a038cdf85",
         "visible": false,
         "x": [
          16,
          18,
          20,
          22,
          24,
          26
         ],
         "y": [
          1766.6800000000003,
          1830.3400000000004,
          1883.9699999999996,
          1937.3399999999997,
          1987.5,
          2066.95
         ]
        },
        {
         "hoverinfo": "x+y+text",
         "line": {
          "color": "firebrick"
         },
         "name": "Cubic",
         "text": "Cubic)",
         "type": "scatter",
         "uid": "3cd3d160-152c-4656-bfff-d90c77fb4ab2",
         "visible": false,
         "x": [
          "16",
          "18",
          "20",
          "22",
          "24",
          "26"
         ],
         "y": [
          21.94,
          21.62,
          21.44,
          21.28,
          21.260000000000005,
          21.31
         ]
        },
        {
         "hoverinfo": "x+y+text",
         "line": {
          "color": "firebrick"
         },
         "name": "Cubic",
         "text": "Cubic)",
         "type": "scatter",
         "uid": "31c7f86b-0f30-4a10-9699-5ddffd7d8bcb",
         "visible": false,
         "x": [
          "16",
          "18",
          "20",
          "22",
          "24",
          "26"
         ],
         "y": [
          31.05,
          30.65,
          30.399999999999995,
          30.27,
          30.25,
          30.31
         ]
        },
        {
         "hoverinfo": "x+y+text",
         "line": {
          "color": "firebrick"
         },
         "name": "Cubic",
         "text": "Cubic)",
         "type": "scatter",
         "uid": "b62b57bf-3e48-49cf-a28f-e43547f3d417",
         "visible": false,
         "x": [
          "16",
          "18",
          "20",
          "22",
          "24",
          "26"
         ],
         "y": [
          43.79,
          43.24000000000001,
          42.89,
          42.72,
          42.7,
          42.8
         ]
        },
        {
         "hoverinfo": "x+y+text",
         "line": {
          "color": "firebrick"
         },
         "name": "Cubic",
         "text": "Cubic)",
         "type": "scatter",
         "uid": "40577c89-7ee0-412a-833b-699d28a6bab8",
         "visible": false,
         "x": [
          "16",
          "18",
          "20",
          "22",
          "24",
          "26"
         ],
         "y": [
          61.49,
          60.7,
          60.21,
          59.96999999999999,
          60,
          60.17
         ]
        },
        {
         "hoverinfo": "x+y+text",
         "line": {
          "color": "firebrick"
         },
         "name": "Cubic",
         "text": "Cubic)",
         "type": "scatter",
         "uid": "e613b6a6-1270-4fef-a14c-a2ffae41be24",
         "visible": true,
         "x": [
          "16",
          "18",
          "20",
          "22",
          "24",
          "26"
         ],
         "y": [
          87.47,
          86.41,
          85.75,
          85.03,
          85.01,
          85.28
         ]
        },
        {
         "hoverinfo": "x+y+text",
         "line": {
          "color": "firebrick"
         },
         "name": "Cubic",
         "text": "Cubic)",
         "type": "scatter",
         "uid": "b7385c5b-84b3-4b1f-b779-455dc2e48626",
         "visible": false,
         "x": [
          "16",
          "18",
          "20",
          "22",
          "24",
          "26"
         ],
         "y": [
          122.99,
          121.79,
          121.07999999999998,
          120.8,
          120.90000000000002,
          121.34
         ]
        },
        {
         "hoverinfo": "x+y+text",
         "line": {
          "color": "firebrick"
         },
         "name": "Cubic",
         "text": "Cubic)",
         "type": "scatter",
         "uid": "e0c93029-0617-4df6-9866-797b61de9fd1",
         "visible": false,
         "x": [
          "16",
          "18",
          "20",
          "22",
          "24",
          "26"
         ],
         "y": [
          177.68,
          175.94,
          174.94999999999996,
          174.58999999999997,
          174.77999999999997,
          175.48
         ]
        },
        {
         "hoverinfo": "x+y+text",
         "line": {
          "color": "firebrick"
         },
         "name": "Cubic",
         "text": "Cubic)",
         "type": "scatter",
         "uid": "f8d12988-dc01-4e7d-b376-07f4e07077af",
         "visible": false,
         "x": [
          "16",
          "18",
          "20",
          "22",
          "24",
          "26"
         ],
         "y": [
          243.77,
          241.84,
          240.86,
          240.75,
          241.31,
          242.45
         ]
        },
        {
         "hoverinfo": "x+y+text",
         "line": {
          "color": "firebrick"
         },
         "name": "Cubic",
         "text": "Cubic)",
         "type": "scatter",
         "uid": "688baaae-2425-4c02-98fb-1fd0773cb8fd",
         "visible": false,
         "x": [
          "16",
          "18",
          "20",
          "22",
          "24",
          "26"
         ],
         "y": [
          343,
          341.53,
          341.58,
          342.5799999999999,
          344.23,
          346.67
         ]
        },
        {
         "hoverinfo": "x+y+text",
         "line": {
          "color": "firebrick"
         },
         "name": "Cubic",
         "text": "Cubic)",
         "type": "scatter",
         "uid": "eeae15a4-ab5d-46f0-ad17-0c319c745c74",
         "visible": false,
         "x": [
          "16",
          "18",
          "20",
          "22",
          "24",
          "26"
         ],
         "y": [
          483.91,
          482.91,
          484.97,
          486.91999999999996,
          490.24,
          494.55
         ]
        },
        {
         "hoverinfo": "x+y+text",
         "line": {
          "color": "firebrick"
         },
         "name": "Cubic",
         "text": "Cubic)",
         "type": "scatter",
         "uid": "487a073f-e467-407e-b5e9-3b8b4539d02b",
         "visible": false,
         "x": [
          "16",
          "18",
          "20",
          "22",
          "24",
          "26"
         ],
         "y": [
          675.07,
          686.88,
          690.08,
          695.01,
          701.06,
          709.48
         ]
        },
        {
         "hoverinfo": "x+y+text",
         "line": {
          "color": "firebrick"
         },
         "name": "Cubic",
         "text": "Cubic)",
         "type": "scatter",
         "uid": "68cd9dc8-7bc5-4aab-9718-2103b9411101",
         "visible": false,
         "x": [
          "16",
          "18",
          "20",
          "22",
          "24",
          "26"
         ],
         "y": [
          950.71,
          963.56,
          987.27,
          1000.81,
          1015.7000000000002,
          1030.78
         ]
        },
        {
         "hoverinfo": "x+y+text",
         "line": {
          "color": "firebrick"
         },
         "name": "Cubic",
         "text": "Cubic)",
         "type": "scatter",
         "uid": "921e1f82-2399-40ae-9834-d7569385c617",
         "visible": false,
         "x": [
          "16",
          "18",
          "20",
          "22",
          "24",
          "26"
         ],
         "y": [
          1274.07,
          1317.71,
          1330.16,
          1355.2900000000002,
          1367.7900000000002,
          1395.94
         ]
        },
        {
         "hoverinfo": "x+y+text",
         "line": {
          "color": "firebrick"
         },
         "name": "Cubic",
         "text": "Cubic)",
         "type": "scatter",
         "uid": "9049f953-7b52-46d4-86e6-2e2408ceb21e",
         "visible": false,
         "x": [
          "16",
          "18",
          "20",
          "22",
          "24",
          "26"
         ],
         "y": [
          1766.68,
          1830.3399999999997,
          1883.9699999999998,
          1937.34,
          1987.5,
          2066.95
         ]
        }
       ],
       "layout": {
        "annotations": [
         {
          "font": {
           "family": "Times New Roman",
           "size": 22
          },
          "showarrow": false,
          "text": "Temperature (°C)",
          "x": 0.5004254919715793,
          "xref": "paper",
          "y": -0.18,
          "yref": "paper"
         },
         {
          "font": {
           "family": "Times New Roman",
           "size": 22
          },
          "showarrow": false,
          "text": "T<sub>1</sub> values",
          "textangle": -90,
          "x": -0.15,
          "xref": "paper",
          "y": 0.5,
          "yref": "paper"
         }
        ],
        "height": 450,
        "legend": {
         "bordercolor": "#000000",
         "borderwidth": 2,
         "font": {
          "color": "#000",
          "family": "Times New Roman",
          "size": 12
         },
         "traceorder": "normal",
         "x": 0.5,
         "y": 0.9
        },
        "margin": {
         "b": 60,
         "l": 80,
         "r": 40,
         "t": 10
        },
        "sliders": [
         {
          "active": 3,
          "currentvalue": {
           "prefix": "Sphere No.: <b>"
          },
          "pad": {
           "b": 10,
           "t": 50
          },
          "steps": [
           {
            "args": [
             "visible",
             [
              true,
              false,
              false,
              false,
              false,
              false,
              false,
              false,
              false,
              false,
              false,
              false,
              false,
              false
             ]
            ],
            "label": "14",
            "method": "restyle"
           },
           {
            "args": [
             "visible",
             [
              false,
              true,
              false,
              false,
              false,
              false,
              false,
              false,
              false,
              false,
              false,
              false,
              false,
              false
             ]
            ],
            "label": "13",
            "method": "restyle"
           },
           {
            "args": [
             "visible",
             [
              false,
              false,
              true,
              false,
              false,
              false,
              false,
              false,
              false,
              false,
              false,
              false,
              false,
              false
             ]
            ],
            "label": "12",
            "method": "restyle"
           },
           {
            "args": [
             "visible",
             [
              false,
              false,
              false,
              true,
              false,
              false,
              false,
              false,
              false,
              false,
              false,
              false,
              false,
              false
             ]
            ],
            "label": "11",
            "method": "restyle"
           },
           {
            "args": [
             "visible",
             [
              false,
              false,
              false,
              false,
              true,
              false,
              false,
              false,
              false,
              false,
              false,
              false,
              false,
              false
             ]
            ],
            "label": "10",
            "method": "restyle"
           },
           {
            "args": [
             "visible",
             [
              false,
              false,
              false,
              false,
              false,
              true,
              false,
              false,
              false,
              false,
              false,
              false,
              false,
              false
             ]
            ],
            "label": "9",
            "method": "restyle"
           },
           {
            "args": [
             "visible",
             [
              false,
              false,
              false,
              false,
              false,
              false,
              true,
              false,
              false,
              false,
              false,
              false,
              false,
              false
             ]
            ],
            "label": "8",
            "method": "restyle"
           },
           {
            "args": [
             "visible",
             [
              false,
              false,
              false,
              false,
              false,
              false,
              false,
              true,
              false,
              false,
              false,
              false,
              false,
              false
             ]
            ],
            "label": "7",
            "method": "restyle"
           },
           {
            "args": [
             "visible",
             [
              false,
              false,
              false,
              false,
              false,
              false,
              false,
              false,
              true,
              false,
              false,
              false,
              false,
              false
             ]
            ],
            "label": "6",
            "method": "restyle"
           },
           {
            "args": [
             "visible",
             [
              false,
              false,
              false,
              false,
              false,
              false,
              false,
              false,
              false,
              true,
              false,
              false,
              false,
              false
             ]
            ],
            "label": "5",
            "method": "restyle"
           },
           {
            "args": [
             "visible",
             [
              false,
              false,
              false,
              false,
              false,
              false,
              false,
              false,
              false,
              false,
              true,
              false,
              false,
              false
             ]
            ],
            "label": "4",
            "method": "restyle"
           },
           {
            "args": [
             "visible",
             [
              false,
              false,
              false,
              false,
              false,
              false,
              false,
              false,
              false,
              false,
              false,
              true,
              false,
              false
             ]
            ],
            "label": "3",
            "method": "restyle"
           },
           {
            "args": [
             "visible",
             [
              false,
              false,
              false,
              false,
              false,
              false,
              false,
              false,
              false,
              false,
              false,
              false,
              true,
              false
             ]
            ],
            "label": "2",
            "method": "restyle"
           },
           {
            "args": [
             "visible",
             [
              false,
              false,
              false,
              false,
              false,
              false,
              false,
              false,
              false,
              false,
              false,
              false,
              false,
              true
             ]
            ],
            "label": "1",
            "method": "restyle"
           }
          ],
          "x": 0,
          "y": -0.09
         }
        ],
        "width": 580,
        "xaxis": {
         "autorange": false,
         "linecolor": "black",
         "linewidth": 2,
         "range": [
          16,
          "26"
         ],
         "showgrid": false
        },
        "yaxis": {
         "autorange": true,
         "linecolor": "black",
         "linewidth": 2,
         "showgrid": false
        }
       }
      },
      "text/html": [
       "<div>\n",
       "        \n",
       "        \n",
       "            <div id=\"c2a5cbd3-93f4-45ca-9d79-bc17fa22bf70\" class=\"plotly-graph-div\" style=\"height:450px; width:580px;\"></div>\n",
       "            <script type=\"text/javascript\">\n",
       "                require([\"plotly\"], function(Plotly) {\n",
       "                    window.PLOTLYENV=window.PLOTLYENV || {};\n",
       "                    window.PLOTLYENV.BASE_URL='https://plot.ly';\n",
       "                    \n",
       "                if (document.getElementById(\"c2a5cbd3-93f4-45ca-9d79-bc17fa22bf70\")) {\n",
       "                    Plotly.newPlot(\n",
       "                        'c2a5cbd3-93f4-45ca-9d79-bc17fa22bf70',\n",
       "                        [{\"hoverinfo\": \"x+y+text\", \"line\": {\"color\": \"orange\"}, \"name\": \"Data\", \"text\": \"Data)\", \"type\": \"scatter\", \"uid\": \"b6a29e62-8ee0-4c1a-a1c9-d5f92a62bb5c\", \"visible\": false, \"x\": [\"16\", \"18\", \"20\", \"22\", \"24\", \"26\"], \"y\": [21.94, 21.62, 21.44, 21.28, 21.26, 21.31]}, {\"hoverinfo\": \"x+y+text\", \"line\": {\"color\": \"orange\"}, \"name\": \"Data\", \"text\": \"Data)\", \"type\": \"scatter\", \"uid\": \"c4cd41d6-32ad-4b3f-8086-a335ef5887fc\", \"visible\": false, \"x\": [\"16\", \"18\", \"20\", \"22\", \"24\", \"26\"], \"y\": [31.05, 30.65, 30.4, 30.27, 30.25, 30.31]}, {\"hoverinfo\": \"x+y+text\", \"line\": {\"color\": \"orange\"}, \"name\": \"Data\", \"text\": \"Data)\", \"type\": \"scatter\", \"uid\": \"9149cc08-7995-40c7-bcac-dfab77e7f4ba\", \"visible\": false, \"x\": [\"16\", \"18\", \"20\", \"22\", \"24\", \"26\"], \"y\": [43.79, 43.24, 42.89, 42.72, 42.7, 42.8]}, {\"hoverinfo\": \"x+y+text\", \"line\": {\"color\": \"orange\"}, \"name\": \"Data\", \"text\": \"Data)\", \"type\": \"scatter\", \"uid\": \"b39a74b3-a0ad-49c2-a60d-f33c5e48b291\", \"visible\": false, \"x\": [\"16\", \"18\", \"20\", \"22\", \"24\", \"26\"], \"y\": [61.49, 60.7, 60.21, 59.97, 60.0, 60.17]}, {\"hoverinfo\": \"x+y+text\", \"line\": {\"color\": \"orange\"}, \"name\": \"Data\", \"text\": \"Data)\", \"type\": \"scatter\", \"uid\": \"b18c50f5-6cc9-4232-b1dd-e3bc42fe7993\", \"visible\": true, \"x\": [\"16\", \"18\", \"20\", \"22\", \"24\", \"26\"], \"y\": [87.47, 86.41, 85.75, 85.03, 85.01, 85.28]}, {\"hoverinfo\": \"x+y+text\", \"line\": {\"color\": \"orange\"}, \"name\": \"Data\", \"text\": \"Data)\", \"type\": \"scatter\", \"uid\": \"6369b43d-4935-43b8-8777-407d398787df\", \"visible\": false, \"x\": [\"16\", \"18\", \"20\", \"22\", \"24\", \"26\"], \"y\": [122.99, 121.79, 121.08, 120.8, 120.9, 121.34]}, {\"hoverinfo\": \"x+y+text\", \"line\": {\"color\": \"orange\"}, \"name\": \"Data\", \"text\": \"Data)\", \"type\": \"scatter\", \"uid\": \"24193e75-a47e-4dee-a946-eb1ddd30026e\", \"visible\": false, \"x\": [\"16\", \"18\", \"20\", \"22\", \"24\", \"26\"], \"y\": [177.68, 175.94, 174.95, 174.59, 174.78, 175.48]}, {\"hoverinfo\": \"x+y+text\", \"line\": {\"color\": \"orange\"}, \"name\": \"Data\", \"text\": \"Data)\", \"type\": \"scatter\", \"uid\": \"c4719de6-f7dc-4393-b05c-0adf75d0b16f\", \"visible\": false, \"x\": [\"16\", \"18\", \"20\", \"22\", \"24\", \"26\"], \"y\": [243.77, 241.84, 240.86, 240.75, 241.31, 242.45]}, {\"hoverinfo\": \"x+y+text\", \"line\": {\"color\": \"orange\"}, \"name\": \"Data\", \"text\": \"Data)\", \"type\": \"scatter\", \"uid\": \"97470873-44fd-4379-957d-bcbb66dbaa3e\", \"visible\": false, \"x\": [\"16\", \"18\", \"20\", \"22\", \"24\", \"26\"], \"y\": [343.0, 341.53, 341.58, 342.58, 344.23, 346.67]}, {\"hoverinfo\": \"x+y+text\", \"line\": {\"color\": \"orange\"}, \"name\": \"Data\", \"text\": \"Data)\", \"type\": \"scatter\", \"uid\": \"29686a20-b1b8-40ad-8888-7a0da7ad6c48\", \"visible\": false, \"x\": [\"16\", \"18\", \"20\", \"22\", \"24\", \"26\"], \"y\": [483.91, 482.91, 484.97, 486.92, 490.24, 494.55]}, {\"hoverinfo\": \"x+y+text\", \"line\": {\"color\": \"orange\"}, \"name\": \"Data\", \"text\": \"Data)\", \"type\": \"scatter\", \"uid\": \"f489bd98-9219-4191-8767-70a5646d595b\", \"visible\": false, \"x\": [\"16\", \"18\", \"20\", \"22\", \"24\", \"26\"], \"y\": [675.07, 686.88, 690.08, 695.01, 701.06, 709.48]}, {\"hoverinfo\": \"x+y+text\", \"line\": {\"color\": \"orange\"}, \"name\": \"Data\", \"text\": \"Data)\", \"type\": \"scatter\", \"uid\": \"55927f1f-6e0e-4d8f-b538-f1e71ff79a78\", \"visible\": false, \"x\": [\"16\", \"18\", \"20\", \"22\", \"24\", \"26\"], \"y\": [950.71, 963.56, 987.27, 1000.81, 1015.7, 1030.78]}, {\"hoverinfo\": \"x+y+text\", \"line\": {\"color\": \"orange\"}, \"name\": \"Data\", \"text\": \"Data)\", \"type\": \"scatter\", \"uid\": \"e8872b32-4bb7-4fb6-83e0-d97ddd84f172\", \"visible\": false, \"x\": [\"16\", \"18\", \"20\", \"22\", \"24\", \"26\"], \"y\": [1274.07, 1317.71, 1330.16, 1355.29, 1367.79, 1395.94]}, {\"hoverinfo\": \"x+y+text\", \"line\": {\"color\": \"orange\"}, \"name\": \"Data\", \"text\": \"Data)\", \"type\": \"scatter\", \"uid\": \"0b2548e8-93b7-46ad-b440-d92385664946\", \"visible\": false, \"x\": [\"16\", \"18\", \"20\", \"22\", \"24\", \"26\"], \"y\": [1766.68, 1830.34, 1883.97, 1937.34, 1987.5, 2066.95]}, {\"hoverinfo\": \"x+y+text\", \"line\": {\"color\": \"royalblue\"}, \"name\": \"Cubic-Spline\", \"text\": \"Cubic-Spline\", \"type\": \"scatter\", \"uid\": \"91434561-f96a-4d30-ab35-8b0791a85e38\", \"visible\": false, \"x\": [16, 18, 20, 22, 24, 26], \"y\": [21.940000000000005, 21.62, 21.440000000000005, 21.279999999999998, 21.259999999999998, 21.31]}, {\"hoverinfo\": \"x+y+text\", \"line\": {\"color\": \"royalblue\"}, \"name\": \"Cubic-Spline\", \"text\": \"Cubic-Spline\", \"type\": \"scatter\", \"uid\": \"1166215d-00e4-44d8-b596-dedf07fc6e20\", \"visible\": false, \"x\": [16, 18, 20, 22, 24, 26], \"y\": [31.05, 30.65000000000001, 30.400000000000006, 30.269999999999992, 30.249999999999993, 30.31]}, {\"hoverinfo\": \"x+y+text\", \"line\": {\"color\": \"royalblue\"}, \"name\": \"Cubic-Spline\", \"text\": \"Cubic-Spline\", \"type\": \"scatter\", \"uid\": \"8de95400-8d7d-489e-9902-accafe574880\", \"visible\": false, \"x\": [16, 18, 20, 22, 24, 26], \"y\": [43.79, 43.239999999999995, 42.89000000000001, 42.72, 42.699999999999996, 42.8]}, {\"hoverinfo\": \"x+y+text\", \"line\": {\"color\": \"royalblue\"}, \"name\": \"Cubic-Spline\", \"text\": \"Cubic-Spline\", \"type\": \"scatter\", \"uid\": \"25bf5399-000c-4dc3-957f-e03ba70284b5\", \"visible\": false, \"x\": [16, 18, 20, 22, 24, 26], \"y\": [61.49000000000001, 60.7, 60.209999999999994, 59.96999999999999, 59.99999999999999, 60.17]}, {\"hoverinfo\": \"x+y+text\", \"line\": {\"color\": \"royalblue\"}, \"name\": \"Cubic-Spline\", \"text\": \"Cubic-Spline\", \"type\": \"scatter\", \"uid\": \"2b5f0c4d-5794-4a10-8bbd-4a07a9d9d357\", \"visible\": true, \"x\": [16, 18, 20, 22, 24, 26], \"y\": [87.47, 86.41, 85.75000000000001, 85.02999999999999, 85.00999999999999, 85.28]}, {\"hoverinfo\": \"x+y+text\", \"line\": {\"color\": \"royalblue\"}, \"name\": \"Cubic-Spline\", \"text\": \"Cubic-Spline\", \"type\": \"scatter\", \"uid\": \"5ad1ba17-9d36-4d4b-86b3-dfed5197e185\", \"visible\": false, \"x\": [16, 18, 20, 22, 24, 26], \"y\": [122.99000000000001, 121.79, 121.08000000000001, 120.79999999999997, 120.89999999999999, 121.34]}, {\"hoverinfo\": \"x+y+text\", \"line\": {\"color\": \"royalblue\"}, \"name\": \"Cubic-Spline\", \"text\": \"Cubic-Spline\", \"type\": \"scatter\", \"uid\": \"77716ff4-e9a7-4b98-ab26-dd03652424a0\", \"visible\": false, \"x\": [16, 18, 20, 22, 24, 26], \"y\": [177.68000000000006, 175.94000000000003, 174.95, 174.58999999999995, 174.77999999999994, 175.48]}, {\"hoverinfo\": \"x+y+text\", \"line\": {\"color\": \"royalblue\"}, \"name\": \"Cubic-Spline\", \"text\": \"Cubic-Spline\", \"type\": \"scatter\", \"uid\": \"23fd1d28-9e76-4278-8559-44e0c69c9051\", \"visible\": false, \"x\": [16, 18, 20, 22, 24, 26], \"y\": [243.77000000000007, 241.84000000000006, 240.86000000000007, 240.74999999999997, 241.30999999999997, 242.45]}, {\"hoverinfo\": \"x+y+text\", \"line\": {\"color\": \"royalblue\"}, \"name\": \"Cubic-Spline\", \"text\": \"Cubic-Spline\", \"type\": \"scatter\", \"uid\": \"79155abe-adb7-4f12-8fcf-5d86a5b97656\", \"visible\": false, \"x\": [16, 18, 20, 22, 24, 26], \"y\": [343.00000000000006, 341.53, 341.58000000000004, 342.58, 344.23, 346.67]}, {\"hoverinfo\": \"x+y+text\", \"line\": {\"color\": \"royalblue\"}, \"name\": \"Cubic-Spline\", \"text\": \"Cubic-Spline\", \"type\": \"scatter\", \"uid\": \"9d64b8fc-dfb3-4bd8-89f1-fb681afb2ebd\", \"visible\": false, \"x\": [16, 18, 20, 22, 24, 26], \"y\": [483.9100000000001, 482.9100000000001, 484.9699999999999, 486.91999999999985, 490.24, 494.55]}, {\"hoverinfo\": \"x+y+text\", \"line\": {\"color\": \"royalblue\"}, \"name\": \"Cubic-Spline\", \"text\": \"Cubic-Spline\", \"type\": \"scatter\", \"uid\": \"8021cb96-595d-43fb-8413-28943498ece1\", \"visible\": false, \"x\": [16, 18, 20, 22, 24, 26], \"y\": [675.0700000000003, 686.8800000000001, 690.0800000000002, 695.0099999999999, 701.0599999999997, 709.48]}, {\"hoverinfo\": \"x+y+text\", \"line\": {\"color\": \"royalblue\"}, \"name\": \"Cubic-Spline\", \"text\": \"Cubic-Spline\", \"type\": \"scatter\", \"uid\": \"1ee0b209-21ab-4e34-b553-337a63ffaaed\", \"visible\": false, \"x\": [16, 18, 20, 22, 24, 26], \"y\": [950.71, 963.56, 987.27, 1000.8099999999997, 1015.6999999999997, 1030.78]}, {\"hoverinfo\": \"x+y+text\", \"line\": {\"color\": \"royalblue\"}, \"name\": \"Cubic-Spline\", \"text\": \"Cubic-Spline\", \"type\": \"scatter\", \"uid\": \"aafff72b-ace0-46ed-8474-37f8c9d643a8\", \"visible\": false, \"x\": [16, 18, 20, 22, 24, 26], \"y\": [1274.0700000000002, 1317.7100000000003, 1330.1600000000003, 1355.2899999999995, 1367.7899999999997, 1395.94]}, {\"hoverinfo\": \"x+y+text\", \"line\": {\"color\": \"royalblue\"}, \"name\": \"Cubic-Spline\", \"text\": \"Cubic-Spline\", \"type\": \"scatter\", \"uid\": \"c9e6c3a5-2169-4952-9ea6-646a038cdf85\", \"visible\": false, \"x\": [16, 18, 20, 22, 24, 26], \"y\": [1766.6800000000003, 1830.3400000000004, 1883.9699999999996, 1937.3399999999997, 1987.5, 2066.95]}, {\"hoverinfo\": \"x+y+text\", \"line\": {\"color\": \"firebrick\"}, \"name\": \"Cubic\", \"text\": \"Cubic)\", \"type\": \"scatter\", \"uid\": \"3cd3d160-152c-4656-bfff-d90c77fb4ab2\", \"visible\": false, \"x\": [\"16\", \"18\", \"20\", \"22\", \"24\", \"26\"], \"y\": [21.94, 21.62, 21.44, 21.28, 21.260000000000005, 21.31]}, {\"hoverinfo\": \"x+y+text\", \"line\": {\"color\": \"firebrick\"}, \"name\": \"Cubic\", \"text\": \"Cubic)\", \"type\": \"scatter\", \"uid\": \"31c7f86b-0f30-4a10-9699-5ddffd7d8bcb\", \"visible\": false, \"x\": [\"16\", \"18\", \"20\", \"22\", \"24\", \"26\"], \"y\": [31.05, 30.65, 30.399999999999995, 30.27, 30.25, 30.31]}, {\"hoverinfo\": \"x+y+text\", \"line\": {\"color\": \"firebrick\"}, \"name\": \"Cubic\", \"text\": \"Cubic)\", \"type\": \"scatter\", \"uid\": \"b62b57bf-3e48-49cf-a28f-e43547f3d417\", \"visible\": false, \"x\": [\"16\", \"18\", \"20\", \"22\", \"24\", \"26\"], \"y\": [43.79, 43.24000000000001, 42.89, 42.72, 42.7, 42.8]}, {\"hoverinfo\": \"x+y+text\", \"line\": {\"color\": \"firebrick\"}, \"name\": \"Cubic\", \"text\": \"Cubic)\", \"type\": \"scatter\", \"uid\": \"40577c89-7ee0-412a-833b-699d28a6bab8\", \"visible\": false, \"x\": [\"16\", \"18\", \"20\", \"22\", \"24\", \"26\"], \"y\": [61.49, 60.7, 60.21, 59.96999999999999, 60.0, 60.17]}, {\"hoverinfo\": \"x+y+text\", \"line\": {\"color\": \"firebrick\"}, \"name\": \"Cubic\", \"text\": \"Cubic)\", \"type\": \"scatter\", \"uid\": \"e613b6a6-1270-4fef-a14c-a2ffae41be24\", \"visible\": true, \"x\": [\"16\", \"18\", \"20\", \"22\", \"24\", \"26\"], \"y\": [87.47, 86.41, 85.75, 85.03, 85.01, 85.28]}, {\"hoverinfo\": \"x+y+text\", \"line\": {\"color\": \"firebrick\"}, \"name\": \"Cubic\", \"text\": \"Cubic)\", \"type\": \"scatter\", \"uid\": \"b7385c5b-84b3-4b1f-b779-455dc2e48626\", \"visible\": false, \"x\": [\"16\", \"18\", \"20\", \"22\", \"24\", \"26\"], \"y\": [122.99, 121.79, 121.07999999999998, 120.8, 120.90000000000002, 121.34]}, {\"hoverinfo\": \"x+y+text\", \"line\": {\"color\": \"firebrick\"}, \"name\": \"Cubic\", \"text\": \"Cubic)\", \"type\": \"scatter\", \"uid\": \"e0c93029-0617-4df6-9866-797b61de9fd1\", \"visible\": false, \"x\": [\"16\", \"18\", \"20\", \"22\", \"24\", \"26\"], \"y\": [177.68, 175.94, 174.94999999999996, 174.58999999999997, 174.77999999999997, 175.48]}, {\"hoverinfo\": \"x+y+text\", \"line\": {\"color\": \"firebrick\"}, \"name\": \"Cubic\", \"text\": \"Cubic)\", \"type\": \"scatter\", \"uid\": \"f8d12988-dc01-4e7d-b376-07f4e07077af\", \"visible\": false, \"x\": [\"16\", \"18\", \"20\", \"22\", \"24\", \"26\"], \"y\": [243.77, 241.84, 240.86, 240.75, 241.31, 242.45]}, {\"hoverinfo\": \"x+y+text\", \"line\": {\"color\": \"firebrick\"}, \"name\": \"Cubic\", \"text\": \"Cubic)\", \"type\": \"scatter\", \"uid\": \"688baaae-2425-4c02-98fb-1fd0773cb8fd\", \"visible\": false, \"x\": [\"16\", \"18\", \"20\", \"22\", \"24\", \"26\"], \"y\": [343.0, 341.53, 341.58, 342.5799999999999, 344.23, 346.67]}, {\"hoverinfo\": \"x+y+text\", \"line\": {\"color\": \"firebrick\"}, \"name\": \"Cubic\", \"text\": \"Cubic)\", \"type\": \"scatter\", \"uid\": \"eeae15a4-ab5d-46f0-ad17-0c319c745c74\", \"visible\": false, \"x\": [\"16\", \"18\", \"20\", \"22\", \"24\", \"26\"], \"y\": [483.91, 482.91, 484.97, 486.91999999999996, 490.24, 494.55]}, {\"hoverinfo\": \"x+y+text\", \"line\": {\"color\": \"firebrick\"}, \"name\": \"Cubic\", \"text\": \"Cubic)\", \"type\": \"scatter\", \"uid\": \"487a073f-e467-407e-b5e9-3b8b4539d02b\", \"visible\": false, \"x\": [\"16\", \"18\", \"20\", \"22\", \"24\", \"26\"], \"y\": [675.07, 686.88, 690.08, 695.01, 701.06, 709.48]}, {\"hoverinfo\": \"x+y+text\", \"line\": {\"color\": \"firebrick\"}, \"name\": \"Cubic\", \"text\": \"Cubic)\", \"type\": \"scatter\", \"uid\": \"68cd9dc8-7bc5-4aab-9718-2103b9411101\", \"visible\": false, \"x\": [\"16\", \"18\", \"20\", \"22\", \"24\", \"26\"], \"y\": [950.71, 963.56, 987.27, 1000.81, 1015.7000000000002, 1030.78]}, {\"hoverinfo\": \"x+y+text\", \"line\": {\"color\": \"firebrick\"}, \"name\": \"Cubic\", \"text\": \"Cubic)\", \"type\": \"scatter\", \"uid\": \"921e1f82-2399-40ae-9834-d7569385c617\", \"visible\": false, \"x\": [\"16\", \"18\", \"20\", \"22\", \"24\", \"26\"], \"y\": [1274.07, 1317.71, 1330.16, 1355.2900000000002, 1367.7900000000002, 1395.94]}, {\"hoverinfo\": \"x+y+text\", \"line\": {\"color\": \"firebrick\"}, \"name\": \"Cubic\", \"text\": \"Cubic)\", \"type\": \"scatter\", \"uid\": \"9049f953-7b52-46d4-86e6-2e2408ceb21e\", \"visible\": false, \"x\": [\"16\", \"18\", \"20\", \"22\", \"24\", \"26\"], \"y\": [1766.68, 1830.3399999999997, 1883.9699999999998, 1937.34, 1987.5, 2066.95]}],\n",
       "                        {\"annotations\": [{\"font\": {\"family\": \"Times New Roman\", \"size\": 22}, \"showarrow\": false, \"text\": \"Temperature (\\u00b0C)\", \"x\": 0.5004254919715793, \"xref\": \"paper\", \"y\": -0.18, \"yref\": \"paper\"}, {\"font\": {\"family\": \"Times New Roman\", \"size\": 22}, \"showarrow\": false, \"text\": \"T<sub>1</sub> values\", \"textangle\": -90, \"x\": -0.15, \"xref\": \"paper\", \"y\": 0.5, \"yref\": \"paper\"}], \"height\": 450, \"legend\": {\"bordercolor\": \"#000000\", \"borderwidth\": 2, \"font\": {\"color\": \"#000\", \"family\": \"Times New Roman\", \"size\": 12}, \"traceorder\": \"normal\", \"x\": 0.5, \"y\": 0.9}, \"margin\": {\"b\": 60, \"l\": 80, \"r\": 40, \"t\": 10}, \"sliders\": [{\"active\": 3, \"currentvalue\": {\"prefix\": \"Sphere No.: <b>\"}, \"pad\": {\"b\": 10, \"t\": 50}, \"steps\": [{\"args\": [\"visible\", [true, false, false, false, false, false, false, false, false, false, false, false, false, false]], \"label\": \"14\", \"method\": \"restyle\"}, {\"args\": [\"visible\", [false, true, false, false, false, false, false, false, false, false, false, false, false, false]], \"label\": \"13\", \"method\": \"restyle\"}, {\"args\": [\"visible\", [false, false, true, false, false, false, false, false, false, false, false, false, false, false]], \"label\": \"12\", \"method\": \"restyle\"}, {\"args\": [\"visible\", [false, false, false, true, false, false, false, false, false, false, false, false, false, false]], \"label\": \"11\", \"method\": \"restyle\"}, {\"args\": [\"visible\", [false, false, false, false, true, false, false, false, false, false, false, false, false, false]], \"label\": \"10\", \"method\": \"restyle\"}, {\"args\": [\"visible\", [false, false, false, false, false, true, false, false, false, false, false, false, false, false]], \"label\": \"9\", \"method\": \"restyle\"}, {\"args\": [\"visible\", [false, false, false, false, false, false, true, false, false, false, false, false, false, false]], \"label\": \"8\", \"method\": \"restyle\"}, {\"args\": [\"visible\", [false, false, false, false, false, false, false, true, false, false, false, false, false, false]], \"label\": \"7\", \"method\": \"restyle\"}, {\"args\": [\"visible\", [false, false, false, false, false, false, false, false, true, false, false, false, false, false]], \"label\": \"6\", \"method\": \"restyle\"}, {\"args\": [\"visible\", [false, false, false, false, false, false, false, false, false, true, false, false, false, false]], \"label\": \"5\", \"method\": \"restyle\"}, {\"args\": [\"visible\", [false, false, false, false, false, false, false, false, false, false, true, false, false, false]], \"label\": \"4\", \"method\": \"restyle\"}, {\"args\": [\"visible\", [false, false, false, false, false, false, false, false, false, false, false, true, false, false]], \"label\": \"3\", \"method\": \"restyle\"}, {\"args\": [\"visible\", [false, false, false, false, false, false, false, false, false, false, false, false, true, false]], \"label\": \"2\", \"method\": \"restyle\"}, {\"args\": [\"visible\", [false, false, false, false, false, false, false, false, false, false, false, false, false, true]], \"label\": \"1\", \"method\": \"restyle\"}], \"x\": 0, \"y\": -0.09}], \"width\": 580, \"xaxis\": {\"autorange\": false, \"linecolor\": \"black\", \"linewidth\": 2, \"range\": [16, \"26\"], \"showgrid\": false}, \"yaxis\": {\"autorange\": true, \"linecolor\": \"black\", \"linewidth\": 2, \"showgrid\": false}},\n",
       "                        {\"showLink\": false, \"displayModeBar\": false, \"linkText\": \"Export to plot.ly\", \"plotlyServerURL\": \"https://plot.ly\", \"responsive\": true}\n",
       "                    ).then(function(){\n",
       "                            \n",
       "var gd = document.getElementById('c2a5cbd3-93f4-45ca-9d79-bc17fa22bf70');\n",
       "var x = new MutationObserver(function (mutations, observer) {{\n",
       "        var display = window.getComputedStyle(gd).display;\n",
       "        if (!display || display === 'none') {{\n",
       "            console.log([gd, 'removed!']);\n",
       "            Plotly.purge(gd);\n",
       "            observer.disconnect();\n",
       "        }}\n",
       "}});\n",
       "\n",
       "// Listen for the removal of the full notebook cells\n",
       "var notebookContainer = gd.closest('#notebook-container');\n",
       "if (notebookContainer) {{\n",
       "    x.observe(notebookContainer, {childList: true});\n",
       "}}\n",
       "\n",
       "// Listen for the clearing of the current output cell\n",
       "var outputEl = gd.closest('.output');\n",
       "if (outputEl) {{\n",
       "    x.observe(outputEl, {childList: true});\n",
       "}}\n",
       "\n",
       "                        })\n",
       "                };\n",
       "                });\n",
       "            </script>\n",
       "        </div>"
      ]
     },
     "metadata": {},
     "output_type": "display_data"
    }
   ],
   "source": [
    "#DATA\n",
    "\n",
    "def temperature_correction(input_temperature):\n",
    "    #Dictionary of data\n",
    "    phantom_v2 = {\n",
    "        '14': {'16': '21.94', '18': '21.62','20': '21.44', '22': '21.28', '24': '21.26', '26': '21.31'},\n",
    "        '13': {'16': '31.05', '18': '30.65','20': '30.40', '22': '30.27', '24': '30.25', '26': '30.31'},\n",
    "        '12': {'16': '43.79', '18': '43.24','20': '42.89', '22': '42.72', '24': '42.70', '26': '42.80'},\n",
    "        '11': {'16': '61.49', '18': '60.70','20': '60.21', '22': '59.97', '24': '60.00', '26': '60.17'},\n",
    "        '10': {'16': '87.47', '18': '86.41','20': '85.75', '22': '85.03', '24': '85.01', '26': '85.28'},\n",
    "        '9': {'16': '122.99', '18': '121.79','20': '121.08', '22': '120.80', '24': '120.90', '26': '121.34'},\n",
    "        '8': {'16': '177.68', '18': '175.94','20': '174.95', '22': '174.59', '24': '174.78', '26': '175.48'},\n",
    "        '7': {'16': '243.77', '18': '241.84','20': '240.86', '22': '240.75', '24': '241.31', '26': '242.45'},\n",
    "        '6': {'16': '343.00', '18': '341.53','20': '341.58', '22': '342.58', '24': '344.23', '26': '346.67'},\n",
    "        '5': {'16': '483.91', '18': '482.91','20': '484.97', '22': '486.92', '24': '490.24', '26': '494.55'},\n",
    "        '4': {'16': '675.07', '18': '686.88','20': '690.08', '22': '695.01', '24': '701.06', '26': '709.48'},\n",
    "        '3': {'16': '950.71', '18': '963.56','20': '987.27', '22': '1000.81', '24': '1015.70', '26': '1030.78'},\n",
    "        '2': {'16': '1274.07', '18': '1317.71','20': '1330.16', '22': '1355.29', '24': '1367.79', '26': '1395.94'},\n",
    "        '1': {'16': '1766.68', '18': '1830.34','20': '1883.97', '22': '1937.34', '24': '1987.50', '26': '2066.95'}\n",
    "        };\n",
    "    \n",
    "    ##Get keys and values of dictionary to construct a 2D array##\n",
    "    #Get dictionary keys as lists\n",
    "    sphereID = list(phantom_v2.keys());\n",
    "    temperature = list(phantom_v2['1'].keys());\n",
    "\n",
    "    #Define array (data) to store data for interpolation\n",
    "    data = np.empty([len(temperature),len(sphereID)+1]);\n",
    "    #Fill data array\n",
    "    row = 0;\n",
    "    for i in temperature:\n",
    "        row = row + 1;\n",
    "        data[row-1,0] = int(i);\n",
    "        for j in sphereID:\n",
    "            T1_value = float(phantom_v2[j][i]);\n",
    "            data[row-1,int(j)] = T1_value;\n",
    "    \n",
    "    ##Code for Temperature Correction: Interpolation##\n",
    "    #If input_temperature is a scalar:\n",
    "    #Validate input_temperature\n",
    "    validTemperature = lambda input_temperature: np.isscalar(input_temperature);\n",
    "    if validTemperature(input_temperature) == True:\n",
    "        input2array = input_temperature;\n",
    "        input_temperature = np.arange(1);\n",
    "        input_temperature[0] = input2array;\n",
    "        \n",
    "    #Cubic Spline (define output as array and dictionary)\n",
    "    spline_estimatedT1 = np.empty([len(input_temperature),len(sphereID)]);\n",
    "    spline_estimatedT1_dictionary = {};\n",
    "    \n",
    "    #Cubic (define output as array and dictionary)\n",
    "    cubic_estimatedT1 = np.empty([len(input_temperature),len(sphereID)]);\n",
    "    cubic_estimatedT1_dictionary = {};\n",
    "    \n",
    "    #Interpolations\n",
    "    for k in range(len(sphereID)):\n",
    "        for l in range(len(input_temperature)):\n",
    "            #Cubic Spline\n",
    "            cubicSpline = interpolate.splrep(data[:,0], data[:,k+1]);\n",
    "            spline_estimatedT1[l,k] = interpolate.splev(input_temperature[l],cubicSpline);\n",
    "            spline_estimatedT1_dictionary[l,k+1] = spline_estimatedT1[l,k];\n",
    "            \n",
    "            #Cubic        \n",
    "            cubic = interpolate.interp1d(data[:,0], data[:,k+1], kind='cubic');\n",
    "            cubic_estimatedT1[l,k] = cubic(input_temperature[l]);\n",
    "            cubic_estimatedT1_dictionary[l,k+1] = cubic_estimatedT1[l,k];\n",
    "    \n",
    "    #Interpolation of data for Sphere No. 1 only\n",
    "    #plt.plot(data2fit[:,0], data2fit[:,1], 'o')\n",
    "    #plt.plot(data2fit[:,0], cs_estimatedT1_values[:,0], '--');\n",
    "    #plt.plot(data2fit[:,0], c_estimatedT1_values[:,0], '-*');\n",
    "    #plt.legend(['data', 'cubic-spline', 'cubic'], loc='best');\n",
    "    #plt.title('Interpolation: Sphere No. 1');\n",
    "    #plt.xlabel('Temperature (°C)');\n",
    "    #plt.ylabel('T1 value (ms)')\n",
    "    #plt.show()\n",
    "    \n",
    "# PLOTS\n",
    "    init_notebook_mode(connected=True)\n",
    "    spline_estimatedT1 = np.transpose(spline_estimatedT1)\n",
    "    cubic_estimatedT1 = np.transpose(cubic_estimatedT1)\n",
    "    original_data = np.transpose(data)\n",
    "    original_data = np.delete(original_data, 0, 0)\n",
    "    \n",
    "    data1 = [dict(\n",
    "        visible = False,\n",
    "        line=dict(color='orange'),\n",
    "        x = temperature,\n",
    "        y = abs(original_data[13-ii]),\n",
    "        name = 'Data',\n",
    "        text = 'Data)',\n",
    "        hoverinfo = 'x+y+text') for ii in range(len(sphereID))]\n",
    "\n",
    "    data1[4]['visible'] = True\n",
    "    \n",
    "    data2 = [dict(\n",
    "        visible = False,\n",
    "        line=dict(color='royalblue'),\n",
    "        x = input_temperature,\n",
    "        y = abs(spline_estimatedT1[13-ii]),\n",
    "        name = 'Cubic-Spline',\n",
    "        text = 'Cubic-Spline',\n",
    "        hoverinfo = 'x+y+text') for ii in range(len(sphereID))]\n",
    "\n",
    "    data2[4]['visible'] = True\n",
    "\n",
    "    data3 = [dict(\n",
    "        visible = False,\n",
    "        line=dict(color='firebrick'),\n",
    "        x = temperature,\n",
    "        y = abs(cubic_estimatedT1[13-ii]),\n",
    "        name = 'Cubic',\n",
    "        text = 'Cubic)',\n",
    "        hoverinfo = 'x+y+text') for ii in range(len(sphereID))]\n",
    "\n",
    "    data3[4]['visible'] = True\n",
    "\n",
    "    data = data1 + data2 + data3\n",
    "\n",
    "    steps = []\n",
    "    for i in range(len(np.asarray(sphereID))):\n",
    "        step = dict(\n",
    "            method = 'restyle',  \n",
    "            args = ['visible', [False] * len(data2)],\n",
    "            label = str(np.asarray(sphereID)[i])\n",
    "            )\n",
    "        step['args'][1][i] = True # Toggle i'th trace to \"visible\"\n",
    "        steps.append(step)\n",
    "\n",
    "    sliders=[\n",
    "        dict(\n",
    "            x = 0,\n",
    "            y = -0.09,\n",
    "            active = 3,\n",
    "            currentvalue = {\"prefix\": \"Sphere No.: <b>\"},\n",
    "            pad = {\"t\": 50, \"b\": 10},\n",
    "            steps = steps)]\n",
    "\n",
    "    layout = go.Layout(\n",
    "        width=580,\n",
    "        height=450,\n",
    "        margin=go.layout.Margin(\n",
    "            l=80,\n",
    "            r=40,\n",
    "            b=60,\n",
    "            t=10,\n",
    "        ),\n",
    "        annotations=[\n",
    "            dict(\n",
    "                x=0.5004254919715793,\n",
    "                y=-0.18,\n",
    "                showarrow=False,\n",
    "                text='Temperature (°C)',\n",
    "                font=dict(\n",
    "                    family='Times New Roman',\n",
    "                    size=22\n",
    "                ),\n",
    "                xref='paper',\n",
    "                yref='paper'\n",
    "            ),\n",
    "            dict(\n",
    "                x=-0.15,\n",
    "                y=0.5,\n",
    "                showarrow=False,\n",
    "                text='T<sub>1</sub> values',\n",
    "                font=dict(\n",
    "                    family='Times New Roman',\n",
    "                    size=22\n",
    "                ),\n",
    "                textangle=-90,\n",
    "                xref='paper',\n",
    "                yref='paper'\n",
    "            ),\n",
    "        ],\n",
    "        xaxis=dict(\n",
    "            autorange=False,\n",
    "            range=[16, temperature[-1]],\n",
    "            showgrid=False,\n",
    "            linecolor='black',\n",
    "            linewidth=2\n",
    "        ),\n",
    "        yaxis=dict(\n",
    "            autorange=True,\n",
    "            showgrid=False,\n",
    "            linecolor='black',\n",
    "            linewidth=2\n",
    "        ),\n",
    "        legend=dict(\n",
    "            x=0.5,\n",
    "            y=0.9,\n",
    "            traceorder='normal',\n",
    "            font=dict(\n",
    "                family='Times New Roman',\n",
    "                size=12,\n",
    "                color='#000'\n",
    "            ),\n",
    "            bordercolor='#000000',\n",
    "            borderwidth=2\n",
    "        ), \n",
    "        sliders=sliders\n",
    "    )\n",
    "\n",
    "    fig = dict(data=data, layout=layout)\n",
    "\n",
    "    iplot(fig, filename = 'basic-line', config = config)\n",
    "        \n",
    "    return spline_estimatedT1_dictionary, spline_estimatedT1, cubic_estimatedT1_dictionary, cubic_estimatedT1;\n",
    "\n",
    "\n",
    "temperature_correction(np.arange(16,28,2));"
   ]
  },
  {
   "cell_type": "code",
   "execution_count": null,
   "metadata": {},
   "outputs": [],
   "source": []
  }
 ],
 "metadata": {
  "kernelspec": {
   "display_name": "Python 3",
   "language": "python",
   "name": "python3"
  },
  "language_info": {
   "codemirror_mode": {
    "name": "ipython",
    "version": 3
   },
   "file_extension": ".py",
   "mimetype": "text/x-python",
   "name": "python",
   "nbconvert_exporter": "python",
   "pygments_lexer": "ipython3",
   "version": "3.7.6"
  }
 },
 "nbformat": 4,
 "nbformat_minor": 4
}
