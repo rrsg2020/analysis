{
 "cells": [
  {
   "cell_type": "code",
   "execution_count": 2,
   "metadata": {},
   "outputs": [
    {
     "data": {
      "text/html": [
       "        <script type=\"text/javascript\">\n",
       "        window.PlotlyConfig = {MathJaxConfig: 'local'};\n",
       "        if (window.MathJax) {MathJax.Hub.Config({SVG: {font: \"STIX-Web\"}});}\n",
       "        if (typeof require !== 'undefined') {\n",
       "        require.undef(\"plotly\");\n",
       "        requirejs.config({\n",
       "            paths: {\n",
       "                'plotly': ['https://cdn.plot.ly/plotly-latest.min']\n",
       "            }\n",
       "        });\n",
       "        require(['plotly'], function(Plotly) {\n",
       "            window._Plotly = Plotly;\n",
       "        });\n",
       "        }\n",
       "        </script>\n",
       "        "
      ]
     },
     "metadata": {},
     "output_type": "display_data"
    }
   ],
   "source": [
    "# PYTHON CODE\n",
    "# Module imports\n",
    "\n",
    "from scipy import interpolate\n",
    "import matplotlib.pyplot as plt\n",
    "import plotly.plotly as py\n",
    "import plotly.graph_objs as go\n",
    "import numpy as np\n",
    "from plotly import __version__\n",
    "from plotly.offline import download_plotlyjs, init_notebook_mode, plot, iplot\n",
    "config={'showLink': False, 'displayModeBar': False}\n",
    "\n",
    "init_notebook_mode(connected=True)\n",
    "\n",
    "from IPython.core.display import display, HTML"
   ]
  },
  {
   "cell_type": "code",
   "execution_count": 49,
   "metadata": {
    "scrolled": false
   },
   "outputs": [
    {
     "name": "stdout",
     "output_type": "stream",
     "text": [
      "(6, 14)\n",
      "[1883.97 1330.16  987.27  690.08  484.97  341.58  240.86  174.95  121.08\n",
      "   85.75   60.21   42.89   30.4    21.44]\n",
      "14\n"
     ]
    },
    {
     "data": {
      "text/html": [
       "        <script type=\"text/javascript\">\n",
       "        window.PlotlyConfig = {MathJaxConfig: 'local'};\n",
       "        if (window.MathJax) {MathJax.Hub.Config({SVG: {font: \"STIX-Web\"}});}\n",
       "        if (typeof require !== 'undefined') {\n",
       "        require.undef(\"plotly\");\n",
       "        requirejs.config({\n",
       "            paths: {\n",
       "                'plotly': ['https://cdn.plot.ly/plotly-latest.min']\n",
       "            }\n",
       "        });\n",
       "        require(['plotly'], function(Plotly) {\n",
       "            window._Plotly = Plotly;\n",
       "        });\n",
       "        }\n",
       "        </script>\n",
       "        "
      ]
     },
     "metadata": {},
     "output_type": "display_data"
    },
    {
     "name": "stdout",
     "output_type": "stream",
     "text": [
      "[1766.68 1830.34 1883.97 1937.34 1987.5  2066.95]\n"
     ]
    },
    {
     "data": {
      "application/vnd.plotly.v1+json": {
       "config": {
        "displayModeBar": false,
        "linkText": "Export to plot.ly",
        "plotlyServerURL": "https://plot.ly",
        "showLink": false
       },
       "data": [
        {
         "hoverinfo": "x+y+text",
         "line": {
          "color": "royalblue"
         },
         "name": "Cubic-Spline",
         "text": "Cubic-Spline",
         "type": "scatter",
         "uid": "3953d117-d529-4b0f-a283-9e84821c7c33",
         "visible": false,
         "x": [
          16,
          18,
          20,
          22,
          24,
          26
         ],
         "y": [
          21.940000000000005,
          21.62,
          21.440000000000005,
          21.279999999999998,
          21.259999999999998,
          21.31
         ]
        },
        {
         "hoverinfo": "x+y+text",
         "line": {
          "color": "royalblue"
         },
         "name": "Cubic-Spline",
         "text": "Cubic-Spline",
         "type": "scatter",
         "uid": "1487d5a2-a91e-4b66-9f0d-358cdfbeb1d4",
         "visible": false,
         "x": [
          16,
          18,
          20,
          22,
          24,
          26
         ],
         "y": [
          31.05,
          30.65000000000001,
          30.400000000000006,
          30.269999999999992,
          30.249999999999993,
          30.31
         ]
        },
        {
         "hoverinfo": "x+y+text",
         "line": {
          "color": "royalblue"
         },
         "name": "Cubic-Spline",
         "text": "Cubic-Spline",
         "type": "scatter",
         "uid": "0d4ae3a6-ce53-4511-a5c4-2677a04ef5b5",
         "visible": false,
         "x": [
          16,
          18,
          20,
          22,
          24,
          26
         ],
         "y": [
          43.79,
          43.239999999999995,
          42.89000000000001,
          42.72,
          42.699999999999996,
          42.8
         ]
        },
        {
         "hoverinfo": "x+y+text",
         "line": {
          "color": "royalblue"
         },
         "name": "Cubic-Spline",
         "text": "Cubic-Spline",
         "type": "scatter",
         "uid": "61a058f8-ec2c-4fba-a696-496df35d51e1",
         "visible": false,
         "x": [
          16,
          18,
          20,
          22,
          24,
          26
         ],
         "y": [
          61.49000000000001,
          60.7,
          60.209999999999994,
          59.96999999999999,
          59.99999999999999,
          60.17
         ]
        },
        {
         "hoverinfo": "x+y+text",
         "line": {
          "color": "royalblue"
         },
         "name": "Cubic-Spline",
         "text": "Cubic-Spline",
         "type": "scatter",
         "uid": "534b9f34-15b9-41b7-a062-8323d65b6548",
         "visible": true,
         "x": [
          16,
          18,
          20,
          22,
          24,
          26
         ],
         "y": [
          87.47,
          86.41,
          85.75000000000001,
          85.02999999999999,
          85.00999999999999,
          85.28
         ]
        },
        {
         "hoverinfo": "x+y+text",
         "line": {
          "color": "royalblue"
         },
         "name": "Cubic-Spline",
         "text": "Cubic-Spline",
         "type": "scatter",
         "uid": "edbd45e3-4986-4d23-b210-150fc5d45c17",
         "visible": false,
         "x": [
          16,
          18,
          20,
          22,
          24,
          26
         ],
         "y": [
          122.99000000000001,
          121.79,
          121.08000000000001,
          120.79999999999997,
          120.89999999999999,
          121.34
         ]
        },
        {
         "hoverinfo": "x+y+text",
         "line": {
          "color": "royalblue"
         },
         "name": "Cubic-Spline",
         "text": "Cubic-Spline",
         "type": "scatter",
         "uid": "c5b1ad70-d813-43f4-8ae3-35c9447face2",
         "visible": false,
         "x": [
          16,
          18,
          20,
          22,
          24,
          26
         ],
         "y": [
          177.68000000000006,
          175.94000000000003,
          174.95,
          174.58999999999995,
          174.77999999999994,
          175.48
         ]
        },
        {
         "hoverinfo": "x+y+text",
         "line": {
          "color": "royalblue"
         },
         "name": "Cubic-Spline",
         "text": "Cubic-Spline",
         "type": "scatter",
         "uid": "4fb0d110-5bca-4e24-a057-c641c44880a1",
         "visible": false,
         "x": [
          16,
          18,
          20,
          22,
          24,
          26
         ],
         "y": [
          243.77000000000007,
          241.84000000000006,
          240.86000000000007,
          240.74999999999997,
          241.30999999999997,
          242.45
         ]
        },
        {
         "hoverinfo": "x+y+text",
         "line": {
          "color": "royalblue"
         },
         "name": "Cubic-Spline",
         "text": "Cubic-Spline",
         "type": "scatter",
         "uid": "9c8560f8-4af2-4937-8454-e523e9668721",
         "visible": false,
         "x": [
          16,
          18,
          20,
          22,
          24,
          26
         ],
         "y": [
          343.00000000000006,
          341.53,
          341.58000000000004,
          342.58,
          344.23,
          346.67
         ]
        },
        {
         "hoverinfo": "x+y+text",
         "line": {
          "color": "royalblue"
         },
         "name": "Cubic-Spline",
         "text": "Cubic-Spline",
         "type": "scatter",
         "uid": "77529ce0-c476-4e37-b32b-b01eea8e207a",
         "visible": false,
         "x": [
          16,
          18,
          20,
          22,
          24,
          26
         ],
         "y": [
          483.9100000000001,
          482.9100000000001,
          484.9699999999999,
          486.91999999999985,
          490.24,
          494.55
         ]
        },
        {
         "hoverinfo": "x+y+text",
         "line": {
          "color": "royalblue"
         },
         "name": "Cubic-Spline",
         "text": "Cubic-Spline",
         "type": "scatter",
         "uid": "b366ff40-53dd-4be6-993b-60167c779445",
         "visible": false,
         "x": [
          16,
          18,
          20,
          22,
          24,
          26
         ],
         "y": [
          675.0700000000003,
          686.8800000000001,
          690.0800000000002,
          695.0099999999999,
          701.0599999999997,
          709.48
         ]
        },
        {
         "hoverinfo": "x+y+text",
         "line": {
          "color": "royalblue"
         },
         "name": "Cubic-Spline",
         "text": "Cubic-Spline",
         "type": "scatter",
         "uid": "3d3d205c-b5ff-4f95-aa31-08338379aa4e",
         "visible": false,
         "x": [
          16,
          18,
          20,
          22,
          24,
          26
         ],
         "y": [
          950.71,
          963.56,
          987.27,
          1000.8099999999997,
          1015.6999999999997,
          1030.78
         ]
        },
        {
         "hoverinfo": "x+y+text",
         "line": {
          "color": "royalblue"
         },
         "name": "Cubic-Spline",
         "text": "Cubic-Spline",
         "type": "scatter",
         "uid": "61fc4238-261b-4598-9fa3-33b86c2f5bbe",
         "visible": false,
         "x": [
          16,
          18,
          20,
          22,
          24,
          26
         ],
         "y": [
          1274.0700000000002,
          1317.7100000000003,
          1330.1600000000003,
          1355.2899999999995,
          1367.7899999999997,
          1395.94
         ]
        },
        {
         "hoverinfo": "x+y+text",
         "line": {
          "color": "royalblue"
         },
         "name": "Cubic-Spline",
         "text": "Cubic-Spline",
         "type": "scatter",
         "uid": "41485c48-622c-476e-843e-87c11ab63ddf",
         "visible": false,
         "x": [
          16,
          18,
          20,
          22,
          24,
          26
         ],
         "y": [
          1766.6800000000003,
          1830.3400000000004,
          1883.9699999999996,
          1937.3399999999997,
          1987.5,
          2066.95
         ]
        },
        {
         "hoverinfo": "x+y+text",
         "line": {
          "color": "firebrick"
         },
         "name": "Cubic",
         "text": "Cubic)",
         "type": "scatter",
         "uid": "74b0ec3d-2435-493e-8669-1f4f3499ac3e",
         "visible": false,
         "x": [
          "16",
          "18",
          "20",
          "22",
          "24",
          "26"
         ],
         "y": [
          21.94,
          21.62,
          21.44,
          21.28,
          21.260000000000005,
          21.31
         ]
        },
        {
         "hoverinfo": "x+y+text",
         "line": {
          "color": "firebrick"
         },
         "name": "Cubic",
         "text": "Cubic)",
         "type": "scatter",
         "uid": "f911b408-5c86-4835-a077-fa2a8c1c6236",
         "visible": false,
         "x": [
          "16",
          "18",
          "20",
          "22",
          "24",
          "26"
         ],
         "y": [
          31.05,
          30.65,
          30.399999999999995,
          30.27,
          30.25,
          30.31
         ]
        },
        {
         "hoverinfo": "x+y+text",
         "line": {
          "color": "firebrick"
         },
         "name": "Cubic",
         "text": "Cubic)",
         "type": "scatter",
         "uid": "68082acc-5653-47d4-9366-c485cdee47f3",
         "visible": false,
         "x": [
          "16",
          "18",
          "20",
          "22",
          "24",
          "26"
         ],
         "y": [
          43.79,
          43.24000000000001,
          42.89,
          42.72,
          42.7,
          42.8
         ]
        },
        {
         "hoverinfo": "x+y+text",
         "line": {
          "color": "firebrick"
         },
         "name": "Cubic",
         "text": "Cubic)",
         "type": "scatter",
         "uid": "880b286f-a553-43ba-b95e-cf4ef828ce41",
         "visible": false,
         "x": [
          "16",
          "18",
          "20",
          "22",
          "24",
          "26"
         ],
         "y": [
          61.49,
          60.7,
          60.21,
          59.96999999999999,
          60,
          60.17
         ]
        },
        {
         "hoverinfo": "x+y+text",
         "line": {
          "color": "firebrick"
         },
         "name": "Cubic",
         "text": "Cubic)",
         "type": "scatter",
         "uid": "fa867f43-29d3-4a99-bf55-3bab915e44d4",
         "visible": true,
         "x": [
          "16",
          "18",
          "20",
          "22",
          "24",
          "26"
         ],
         "y": [
          87.47,
          86.41,
          85.75,
          85.03,
          85.01,
          85.28
         ]
        },
        {
         "hoverinfo": "x+y+text",
         "line": {
          "color": "firebrick"
         },
         "name": "Cubic",
         "text": "Cubic)",
         "type": "scatter",
         "uid": "0384f405-835e-4977-b97b-780aaf520804",
         "visible": false,
         "x": [
          "16",
          "18",
          "20",
          "22",
          "24",
          "26"
         ],
         "y": [
          122.99,
          121.79,
          121.07999999999998,
          120.8,
          120.90000000000002,
          121.34
         ]
        },
        {
         "hoverinfo": "x+y+text",
         "line": {
          "color": "firebrick"
         },
         "name": "Cubic",
         "text": "Cubic)",
         "type": "scatter",
         "uid": "d6685af7-7cf9-40a0-85a1-06021484226c",
         "visible": false,
         "x": [
          "16",
          "18",
          "20",
          "22",
          "24",
          "26"
         ],
         "y": [
          177.68,
          175.94,
          174.94999999999996,
          174.58999999999997,
          174.77999999999997,
          175.48
         ]
        },
        {
         "hoverinfo": "x+y+text",
         "line": {
          "color": "firebrick"
         },
         "name": "Cubic",
         "text": "Cubic)",
         "type": "scatter",
         "uid": "f45380da-32f1-41a7-b9e2-8153ca7a0b38",
         "visible": false,
         "x": [
          "16",
          "18",
          "20",
          "22",
          "24",
          "26"
         ],
         "y": [
          243.77,
          241.84,
          240.86,
          240.75,
          241.31,
          242.45
         ]
        },
        {
         "hoverinfo": "x+y+text",
         "line": {
          "color": "firebrick"
         },
         "name": "Cubic",
         "text": "Cubic)",
         "type": "scatter",
         "uid": "961e0c6e-a5ae-48b1-b8fc-f2a51724d240",
         "visible": false,
         "x": [
          "16",
          "18",
          "20",
          "22",
          "24",
          "26"
         ],
         "y": [
          343,
          341.53,
          341.58,
          342.5799999999999,
          344.23,
          346.67
         ]
        },
        {
         "hoverinfo": "x+y+text",
         "line": {
          "color": "firebrick"
         },
         "name": "Cubic",
         "text": "Cubic)",
         "type": "scatter",
         "uid": "74b8cbfd-562d-4aad-b14a-84940b0955fa",
         "visible": false,
         "x": [
          "16",
          "18",
          "20",
          "22",
          "24",
          "26"
         ],
         "y": [
          483.91,
          482.91,
          484.97,
          486.91999999999996,
          490.24,
          494.55
         ]
        },
        {
         "hoverinfo": "x+y+text",
         "line": {
          "color": "firebrick"
         },
         "name": "Cubic",
         "text": "Cubic)",
         "type": "scatter",
         "uid": "216fe8ef-999b-4083-ae58-80fe7b16844a",
         "visible": false,
         "x": [
          "16",
          "18",
          "20",
          "22",
          "24",
          "26"
         ],
         "y": [
          675.07,
          686.88,
          690.08,
          695.01,
          701.06,
          709.48
         ]
        },
        {
         "hoverinfo": "x+y+text",
         "line": {
          "color": "firebrick"
         },
         "name": "Cubic",
         "text": "Cubic)",
         "type": "scatter",
         "uid": "7af7d84b-e580-44ad-bc1f-95832c87cb68",
         "visible": false,
         "x": [
          "16",
          "18",
          "20",
          "22",
          "24",
          "26"
         ],
         "y": [
          950.71,
          963.56,
          987.27,
          1000.81,
          1015.7000000000002,
          1030.78
         ]
        },
        {
         "hoverinfo": "x+y+text",
         "line": {
          "color": "firebrick"
         },
         "name": "Cubic",
         "text": "Cubic)",
         "type": "scatter",
         "uid": "6443a3f3-087f-4506-b187-78cd628e682e",
         "visible": false,
         "x": [
          "16",
          "18",
          "20",
          "22",
          "24",
          "26"
         ],
         "y": [
          1274.07,
          1317.71,
          1330.16,
          1355.2900000000002,
          1367.7900000000002,
          1395.94
         ]
        },
        {
         "hoverinfo": "x+y+text",
         "line": {
          "color": "firebrick"
         },
         "name": "Cubic",
         "text": "Cubic)",
         "type": "scatter",
         "uid": "210e5323-bc5f-4c79-8c8f-33ab1bc97a2b",
         "visible": false,
         "x": [
          "16",
          "18",
          "20",
          "22",
          "24",
          "26"
         ],
         "y": [
          1766.68,
          1830.3399999999997,
          1883.9699999999998,
          1937.34,
          1987.5,
          2066.95
         ]
        }
       ],
       "layout": {
        "annotations": [
         {
          "font": {
           "family": "Times New Roman",
           "size": 22
          },
          "showarrow": false,
          "text": "Temperature (°C)",
          "x": 0.5004254919715793,
          "xref": "paper",
          "y": -0.18,
          "yref": "paper"
         },
         {
          "font": {
           "family": "Times New Roman",
           "size": 22
          },
          "showarrow": false,
          "text": "Longitudinal Relaxation (T<sub>1</sub>)",
          "textangle": -90,
          "x": -0.15,
          "xref": "paper",
          "y": 0.5,
          "yref": "paper"
         }
        ],
        "height": 450,
        "legend": {
         "bordercolor": "#000000",
         "borderwidth": 2,
         "font": {
          "color": "#000",
          "family": "Times New Roman",
          "size": 12
         },
         "traceorder": "normal",
         "x": 0.5,
         "y": 0.9
        },
        "margin": {
         "b": 60,
         "l": 80,
         "r": 40,
         "t": 10
        },
        "sliders": [
         {
          "active": 3,
          "currentvalue": {
           "prefix": "Sphere No.: <b>"
          },
          "pad": {
           "b": 10,
           "t": 50
          },
          "steps": [
           {
            "args": [
             "visible",
             [
              true,
              false,
              false,
              false,
              false,
              false,
              false,
              false,
              false,
              false,
              false,
              false,
              false,
              false
             ]
            ],
            "label": "14",
            "method": "restyle"
           },
           {
            "args": [
             "visible",
             [
              false,
              true,
              false,
              false,
              false,
              false,
              false,
              false,
              false,
              false,
              false,
              false,
              false,
              false
             ]
            ],
            "label": "13",
            "method": "restyle"
           },
           {
            "args": [
             "visible",
             [
              false,
              false,
              true,
              false,
              false,
              false,
              false,
              false,
              false,
              false,
              false,
              false,
              false,
              false
             ]
            ],
            "label": "12",
            "method": "restyle"
           },
           {
            "args": [
             "visible",
             [
              false,
              false,
              false,
              true,
              false,
              false,
              false,
              false,
              false,
              false,
              false,
              false,
              false,
              false
             ]
            ],
            "label": "11",
            "method": "restyle"
           },
           {
            "args": [
             "visible",
             [
              false,
              false,
              false,
              false,
              true,
              false,
              false,
              false,
              false,
              false,
              false,
              false,
              false,
              false
             ]
            ],
            "label": "10",
            "method": "restyle"
           },
           {
            "args": [
             "visible",
             [
              false,
              false,
              false,
              false,
              false,
              true,
              false,
              false,
              false,
              false,
              false,
              false,
              false,
              false
             ]
            ],
            "label": "9",
            "method": "restyle"
           },
           {
            "args": [
             "visible",
             [
              false,
              false,
              false,
              false,
              false,
              false,
              true,
              false,
              false,
              false,
              false,
              false,
              false,
              false
             ]
            ],
            "label": "8",
            "method": "restyle"
           },
           {
            "args": [
             "visible",
             [
              false,
              false,
              false,
              false,
              false,
              false,
              false,
              true,
              false,
              false,
              false,
              false,
              false,
              false
             ]
            ],
            "label": "7",
            "method": "restyle"
           },
           {
            "args": [
             "visible",
             [
              false,
              false,
              false,
              false,
              false,
              false,
              false,
              false,
              true,
              false,
              false,
              false,
              false,
              false
             ]
            ],
            "label": "6",
            "method": "restyle"
           },
           {
            "args": [
             "visible",
             [
              false,
              false,
              false,
              false,
              false,
              false,
              false,
              false,
              false,
              true,
              false,
              false,
              false,
              false
             ]
            ],
            "label": "5",
            "method": "restyle"
           },
           {
            "args": [
             "visible",
             [
              false,
              false,
              false,
              false,
              false,
              false,
              false,
              false,
              false,
              false,
              true,
              false,
              false,
              false
             ]
            ],
            "label": "4",
            "method": "restyle"
           },
           {
            "args": [
             "visible",
             [
              false,
              false,
              false,
              false,
              false,
              false,
              false,
              false,
              false,
              false,
              false,
              true,
              false,
              false
             ]
            ],
            "label": "3",
            "method": "restyle"
           },
           {
            "args": [
             "visible",
             [
              false,
              false,
              false,
              false,
              false,
              false,
              false,
              false,
              false,
              false,
              false,
              false,
              true,
              false
             ]
            ],
            "label": "2",
            "method": "restyle"
           },
           {
            "args": [
             "visible",
             [
              false,
              false,
              false,
              false,
              false,
              false,
              false,
              false,
              false,
              false,
              false,
              false,
              false,
              true
             ]
            ],
            "label": "1",
            "method": "restyle"
           }
          ],
          "x": 0,
          "y": -0.09
         }
        ],
        "width": 580,
        "xaxis": {
         "autorange": false,
         "linecolor": "black",
         "linewidth": 2,
         "range": [
          16,
          "26"
         ],
         "showgrid": false
        },
        "yaxis": {
         "autorange": true,
         "linecolor": "black",
         "linewidth": 2,
         "showgrid": false
        }
       }
      },
      "text/html": [
       "<div>\n",
       "        \n",
       "        \n",
       "            <div id=\"234a6912-4140-4424-8626-8ba5846f1ee8\" class=\"plotly-graph-div\" style=\"height:450px; width:580px;\"></div>\n",
       "            <script type=\"text/javascript\">\n",
       "                require([\"plotly\"], function(Plotly) {\n",
       "                    window.PLOTLYENV=window.PLOTLYENV || {};\n",
       "                    window.PLOTLYENV.BASE_URL='https://plot.ly';\n",
       "                    \n",
       "                if (document.getElementById(\"234a6912-4140-4424-8626-8ba5846f1ee8\")) {\n",
       "                    Plotly.newPlot(\n",
       "                        '234a6912-4140-4424-8626-8ba5846f1ee8',\n",
       "                        [{\"hoverinfo\": \"x+y+text\", \"line\": {\"color\": \"royalblue\"}, \"name\": \"Cubic-Spline\", \"text\": \"Cubic-Spline\", \"type\": \"scatter\", \"uid\": \"3953d117-d529-4b0f-a283-9e84821c7c33\", \"visible\": false, \"x\": [16, 18, 20, 22, 24, 26], \"y\": [21.940000000000005, 21.62, 21.440000000000005, 21.279999999999998, 21.259999999999998, 21.31]}, {\"hoverinfo\": \"x+y+text\", \"line\": {\"color\": \"royalblue\"}, \"name\": \"Cubic-Spline\", \"text\": \"Cubic-Spline\", \"type\": \"scatter\", \"uid\": \"1487d5a2-a91e-4b66-9f0d-358cdfbeb1d4\", \"visible\": false, \"x\": [16, 18, 20, 22, 24, 26], \"y\": [31.05, 30.65000000000001, 30.400000000000006, 30.269999999999992, 30.249999999999993, 30.31]}, {\"hoverinfo\": \"x+y+text\", \"line\": {\"color\": \"royalblue\"}, \"name\": \"Cubic-Spline\", \"text\": \"Cubic-Spline\", \"type\": \"scatter\", \"uid\": \"0d4ae3a6-ce53-4511-a5c4-2677a04ef5b5\", \"visible\": false, \"x\": [16, 18, 20, 22, 24, 26], \"y\": [43.79, 43.239999999999995, 42.89000000000001, 42.72, 42.699999999999996, 42.8]}, {\"hoverinfo\": \"x+y+text\", \"line\": {\"color\": \"royalblue\"}, \"name\": \"Cubic-Spline\", \"text\": \"Cubic-Spline\", \"type\": \"scatter\", \"uid\": \"61a058f8-ec2c-4fba-a696-496df35d51e1\", \"visible\": false, \"x\": [16, 18, 20, 22, 24, 26], \"y\": [61.49000000000001, 60.7, 60.209999999999994, 59.96999999999999, 59.99999999999999, 60.17]}, {\"hoverinfo\": \"x+y+text\", \"line\": {\"color\": \"royalblue\"}, \"name\": \"Cubic-Spline\", \"text\": \"Cubic-Spline\", \"type\": \"scatter\", \"uid\": \"534b9f34-15b9-41b7-a062-8323d65b6548\", \"visible\": true, \"x\": [16, 18, 20, 22, 24, 26], \"y\": [87.47, 86.41, 85.75000000000001, 85.02999999999999, 85.00999999999999, 85.28]}, {\"hoverinfo\": \"x+y+text\", \"line\": {\"color\": \"royalblue\"}, \"name\": \"Cubic-Spline\", \"text\": \"Cubic-Spline\", \"type\": \"scatter\", \"uid\": \"edbd45e3-4986-4d23-b210-150fc5d45c17\", \"visible\": false, \"x\": [16, 18, 20, 22, 24, 26], \"y\": [122.99000000000001, 121.79, 121.08000000000001, 120.79999999999997, 120.89999999999999, 121.34]}, {\"hoverinfo\": \"x+y+text\", \"line\": {\"color\": \"royalblue\"}, \"name\": \"Cubic-Spline\", \"text\": \"Cubic-Spline\", \"type\": \"scatter\", \"uid\": \"c5b1ad70-d813-43f4-8ae3-35c9447face2\", \"visible\": false, \"x\": [16, 18, 20, 22, 24, 26], \"y\": [177.68000000000006, 175.94000000000003, 174.95, 174.58999999999995, 174.77999999999994, 175.48]}, {\"hoverinfo\": \"x+y+text\", \"line\": {\"color\": \"royalblue\"}, \"name\": \"Cubic-Spline\", \"text\": \"Cubic-Spline\", \"type\": \"scatter\", \"uid\": \"4fb0d110-5bca-4e24-a057-c641c44880a1\", \"visible\": false, \"x\": [16, 18, 20, 22, 24, 26], \"y\": [243.77000000000007, 241.84000000000006, 240.86000000000007, 240.74999999999997, 241.30999999999997, 242.45]}, {\"hoverinfo\": \"x+y+text\", \"line\": {\"color\": \"royalblue\"}, \"name\": \"Cubic-Spline\", \"text\": \"Cubic-Spline\", \"type\": \"scatter\", \"uid\": \"9c8560f8-4af2-4937-8454-e523e9668721\", \"visible\": false, \"x\": [16, 18, 20, 22, 24, 26], \"y\": [343.00000000000006, 341.53, 341.58000000000004, 342.58, 344.23, 346.67]}, {\"hoverinfo\": \"x+y+text\", \"line\": {\"color\": \"royalblue\"}, \"name\": \"Cubic-Spline\", \"text\": \"Cubic-Spline\", \"type\": \"scatter\", \"uid\": \"77529ce0-c476-4e37-b32b-b01eea8e207a\", \"visible\": false, \"x\": [16, 18, 20, 22, 24, 26], \"y\": [483.9100000000001, 482.9100000000001, 484.9699999999999, 486.91999999999985, 490.24, 494.55]}, {\"hoverinfo\": \"x+y+text\", \"line\": {\"color\": \"royalblue\"}, \"name\": \"Cubic-Spline\", \"text\": \"Cubic-Spline\", \"type\": \"scatter\", \"uid\": \"b366ff40-53dd-4be6-993b-60167c779445\", \"visible\": false, \"x\": [16, 18, 20, 22, 24, 26], \"y\": [675.0700000000003, 686.8800000000001, 690.0800000000002, 695.0099999999999, 701.0599999999997, 709.48]}, {\"hoverinfo\": \"x+y+text\", \"line\": {\"color\": \"royalblue\"}, \"name\": \"Cubic-Spline\", \"text\": \"Cubic-Spline\", \"type\": \"scatter\", \"uid\": \"3d3d205c-b5ff-4f95-aa31-08338379aa4e\", \"visible\": false, \"x\": [16, 18, 20, 22, 24, 26], \"y\": [950.71, 963.56, 987.27, 1000.8099999999997, 1015.6999999999997, 1030.78]}, {\"hoverinfo\": \"x+y+text\", \"line\": {\"color\": \"royalblue\"}, \"name\": \"Cubic-Spline\", \"text\": \"Cubic-Spline\", \"type\": \"scatter\", \"uid\": \"61fc4238-261b-4598-9fa3-33b86c2f5bbe\", \"visible\": false, \"x\": [16, 18, 20, 22, 24, 26], \"y\": [1274.0700000000002, 1317.7100000000003, 1330.1600000000003, 1355.2899999999995, 1367.7899999999997, 1395.94]}, {\"hoverinfo\": \"x+y+text\", \"line\": {\"color\": \"royalblue\"}, \"name\": \"Cubic-Spline\", \"text\": \"Cubic-Spline\", \"type\": \"scatter\", \"uid\": \"41485c48-622c-476e-843e-87c11ab63ddf\", \"visible\": false, \"x\": [16, 18, 20, 22, 24, 26], \"y\": [1766.6800000000003, 1830.3400000000004, 1883.9699999999996, 1937.3399999999997, 1987.5, 2066.95]}, {\"hoverinfo\": \"x+y+text\", \"line\": {\"color\": \"firebrick\"}, \"name\": \"Cubic\", \"text\": \"Cubic)\", \"type\": \"scatter\", \"uid\": \"74b0ec3d-2435-493e-8669-1f4f3499ac3e\", \"visible\": false, \"x\": [\"16\", \"18\", \"20\", \"22\", \"24\", \"26\"], \"y\": [21.94, 21.62, 21.44, 21.28, 21.260000000000005, 21.31]}, {\"hoverinfo\": \"x+y+text\", \"line\": {\"color\": \"firebrick\"}, \"name\": \"Cubic\", \"text\": \"Cubic)\", \"type\": \"scatter\", \"uid\": \"f911b408-5c86-4835-a077-fa2a8c1c6236\", \"visible\": false, \"x\": [\"16\", \"18\", \"20\", \"22\", \"24\", \"26\"], \"y\": [31.05, 30.65, 30.399999999999995, 30.27, 30.25, 30.31]}, {\"hoverinfo\": \"x+y+text\", \"line\": {\"color\": \"firebrick\"}, \"name\": \"Cubic\", \"text\": \"Cubic)\", \"type\": \"scatter\", \"uid\": \"68082acc-5653-47d4-9366-c485cdee47f3\", \"visible\": false, \"x\": [\"16\", \"18\", \"20\", \"22\", \"24\", \"26\"], \"y\": [43.79, 43.24000000000001, 42.89, 42.72, 42.7, 42.8]}, {\"hoverinfo\": \"x+y+text\", \"line\": {\"color\": \"firebrick\"}, \"name\": \"Cubic\", \"text\": \"Cubic)\", \"type\": \"scatter\", \"uid\": \"880b286f-a553-43ba-b95e-cf4ef828ce41\", \"visible\": false, \"x\": [\"16\", \"18\", \"20\", \"22\", \"24\", \"26\"], \"y\": [61.49, 60.7, 60.21, 59.96999999999999, 60.0, 60.17]}, {\"hoverinfo\": \"x+y+text\", \"line\": {\"color\": \"firebrick\"}, \"name\": \"Cubic\", \"text\": \"Cubic)\", \"type\": \"scatter\", \"uid\": \"fa867f43-29d3-4a99-bf55-3bab915e44d4\", \"visible\": true, \"x\": [\"16\", \"18\", \"20\", \"22\", \"24\", \"26\"], \"y\": [87.47, 86.41, 85.75, 85.03, 85.01, 85.28]}, {\"hoverinfo\": \"x+y+text\", \"line\": {\"color\": \"firebrick\"}, \"name\": \"Cubic\", \"text\": \"Cubic)\", \"type\": \"scatter\", \"uid\": \"0384f405-835e-4977-b97b-780aaf520804\", \"visible\": false, \"x\": [\"16\", \"18\", \"20\", \"22\", \"24\", \"26\"], \"y\": [122.99, 121.79, 121.07999999999998, 120.8, 120.90000000000002, 121.34]}, {\"hoverinfo\": \"x+y+text\", \"line\": {\"color\": \"firebrick\"}, \"name\": \"Cubic\", \"text\": \"Cubic)\", \"type\": \"scatter\", \"uid\": \"d6685af7-7cf9-40a0-85a1-06021484226c\", \"visible\": false, \"x\": [\"16\", \"18\", \"20\", \"22\", \"24\", \"26\"], \"y\": [177.68, 175.94, 174.94999999999996, 174.58999999999997, 174.77999999999997, 175.48]}, {\"hoverinfo\": \"x+y+text\", \"line\": {\"color\": \"firebrick\"}, \"name\": \"Cubic\", \"text\": \"Cubic)\", \"type\": \"scatter\", \"uid\": \"f45380da-32f1-41a7-b9e2-8153ca7a0b38\", \"visible\": false, \"x\": [\"16\", \"18\", \"20\", \"22\", \"24\", \"26\"], \"y\": [243.77, 241.84, 240.86, 240.75, 241.31, 242.45]}, {\"hoverinfo\": \"x+y+text\", \"line\": {\"color\": \"firebrick\"}, \"name\": \"Cubic\", \"text\": \"Cubic)\", \"type\": \"scatter\", \"uid\": \"961e0c6e-a5ae-48b1-b8fc-f2a51724d240\", \"visible\": false, \"x\": [\"16\", \"18\", \"20\", \"22\", \"24\", \"26\"], \"y\": [343.0, 341.53, 341.58, 342.5799999999999, 344.23, 346.67]}, {\"hoverinfo\": \"x+y+text\", \"line\": {\"color\": \"firebrick\"}, \"name\": \"Cubic\", \"text\": \"Cubic)\", \"type\": \"scatter\", \"uid\": \"74b8cbfd-562d-4aad-b14a-84940b0955fa\", \"visible\": false, \"x\": [\"16\", \"18\", \"20\", \"22\", \"24\", \"26\"], \"y\": [483.91, 482.91, 484.97, 486.91999999999996, 490.24, 494.55]}, {\"hoverinfo\": \"x+y+text\", \"line\": {\"color\": \"firebrick\"}, \"name\": \"Cubic\", \"text\": \"Cubic)\", \"type\": \"scatter\", \"uid\": \"216fe8ef-999b-4083-ae58-80fe7b16844a\", \"visible\": false, \"x\": [\"16\", \"18\", \"20\", \"22\", \"24\", \"26\"], \"y\": [675.07, 686.88, 690.08, 695.01, 701.06, 709.48]}, {\"hoverinfo\": \"x+y+text\", \"line\": {\"color\": \"firebrick\"}, \"name\": \"Cubic\", \"text\": \"Cubic)\", \"type\": \"scatter\", \"uid\": \"7af7d84b-e580-44ad-bc1f-95832c87cb68\", \"visible\": false, \"x\": [\"16\", \"18\", \"20\", \"22\", \"24\", \"26\"], \"y\": [950.71, 963.56, 987.27, 1000.81, 1015.7000000000002, 1030.78]}, {\"hoverinfo\": \"x+y+text\", \"line\": {\"color\": \"firebrick\"}, \"name\": \"Cubic\", \"text\": \"Cubic)\", \"type\": \"scatter\", \"uid\": \"6443a3f3-087f-4506-b187-78cd628e682e\", \"visible\": false, \"x\": [\"16\", \"18\", \"20\", \"22\", \"24\", \"26\"], \"y\": [1274.07, 1317.71, 1330.16, 1355.2900000000002, 1367.7900000000002, 1395.94]}, {\"hoverinfo\": \"x+y+text\", \"line\": {\"color\": \"firebrick\"}, \"name\": \"Cubic\", \"text\": \"Cubic)\", \"type\": \"scatter\", \"uid\": \"210e5323-bc5f-4c79-8c8f-33ab1bc97a2b\", \"visible\": false, \"x\": [\"16\", \"18\", \"20\", \"22\", \"24\", \"26\"], \"y\": [1766.68, 1830.3399999999997, 1883.9699999999998, 1937.34, 1987.5, 2066.95]}],\n",
       "                        {\"annotations\": [{\"font\": {\"family\": \"Times New Roman\", \"size\": 22}, \"showarrow\": false, \"text\": \"Temperature (\\u00b0C)\", \"x\": 0.5004254919715793, \"xref\": \"paper\", \"y\": -0.18, \"yref\": \"paper\"}, {\"font\": {\"family\": \"Times New Roman\", \"size\": 22}, \"showarrow\": false, \"text\": \"Longitudinal Relaxation (T<sub>1</sub>)\", \"textangle\": -90, \"x\": -0.15, \"xref\": \"paper\", \"y\": 0.5, \"yref\": \"paper\"}], \"height\": 450, \"legend\": {\"bordercolor\": \"#000000\", \"borderwidth\": 2, \"font\": {\"color\": \"#000\", \"family\": \"Times New Roman\", \"size\": 12}, \"traceorder\": \"normal\", \"x\": 0.5, \"y\": 0.9}, \"margin\": {\"b\": 60, \"l\": 80, \"r\": 40, \"t\": 10}, \"sliders\": [{\"active\": 3, \"currentvalue\": {\"prefix\": \"Sphere No.: <b>\"}, \"pad\": {\"b\": 10, \"t\": 50}, \"steps\": [{\"args\": [\"visible\", [true, false, false, false, false, false, false, false, false, false, false, false, false, false]], \"label\": \"14\", \"method\": \"restyle\"}, {\"args\": [\"visible\", [false, true, false, false, false, false, false, false, false, false, false, false, false, false]], \"label\": \"13\", \"method\": \"restyle\"}, {\"args\": [\"visible\", [false, false, true, false, false, false, false, false, false, false, false, false, false, false]], \"label\": \"12\", \"method\": \"restyle\"}, {\"args\": [\"visible\", [false, false, false, true, false, false, false, false, false, false, false, false, false, false]], \"label\": \"11\", \"method\": \"restyle\"}, {\"args\": [\"visible\", [false, false, false, false, true, false, false, false, false, false, false, false, false, false]], \"label\": \"10\", \"method\": \"restyle\"}, {\"args\": [\"visible\", [false, false, false, false, false, true, false, false, false, false, false, false, false, false]], \"label\": \"9\", \"method\": \"restyle\"}, {\"args\": [\"visible\", [false, false, false, false, false, false, true, false, false, false, false, false, false, false]], \"label\": \"8\", \"method\": \"restyle\"}, {\"args\": [\"visible\", [false, false, false, false, false, false, false, true, false, false, false, false, false, false]], \"label\": \"7\", \"method\": \"restyle\"}, {\"args\": [\"visible\", [false, false, false, false, false, false, false, false, true, false, false, false, false, false]], \"label\": \"6\", \"method\": \"restyle\"}, {\"args\": [\"visible\", [false, false, false, false, false, false, false, false, false, true, false, false, false, false]], \"label\": \"5\", \"method\": \"restyle\"}, {\"args\": [\"visible\", [false, false, false, false, false, false, false, false, false, false, true, false, false, false]], \"label\": \"4\", \"method\": \"restyle\"}, {\"args\": [\"visible\", [false, false, false, false, false, false, false, false, false, false, false, true, false, false]], \"label\": \"3\", \"method\": \"restyle\"}, {\"args\": [\"visible\", [false, false, false, false, false, false, false, false, false, false, false, false, true, false]], \"label\": \"2\", \"method\": \"restyle\"}, {\"args\": [\"visible\", [false, false, false, false, false, false, false, false, false, false, false, false, false, true]], \"label\": \"1\", \"method\": \"restyle\"}], \"x\": 0, \"y\": -0.09}], \"width\": 580, \"xaxis\": {\"autorange\": false, \"linecolor\": \"black\", \"linewidth\": 2, \"range\": [16, \"26\"], \"showgrid\": false}, \"yaxis\": {\"autorange\": true, \"linecolor\": \"black\", \"linewidth\": 2, \"showgrid\": false}},\n",
       "                        {\"showLink\": false, \"displayModeBar\": false, \"linkText\": \"Export to plot.ly\", \"plotlyServerURL\": \"https://plot.ly\", \"responsive\": true}\n",
       "                    ).then(function(){\n",
       "                            \n",
       "var gd = document.getElementById('234a6912-4140-4424-8626-8ba5846f1ee8');\n",
       "var x = new MutationObserver(function (mutations, observer) {{\n",
       "        var display = window.getComputedStyle(gd).display;\n",
       "        if (!display || display === 'none') {{\n",
       "            console.log([gd, 'removed!']);\n",
       "            Plotly.purge(gd);\n",
       "            observer.disconnect();\n",
       "        }}\n",
       "}});\n",
       "\n",
       "// Listen for the removal of the full notebook cells\n",
       "var notebookContainer = gd.closest('#notebook-container');\n",
       "if (notebookContainer) {{\n",
       "    x.observe(notebookContainer, {childList: true});\n",
       "}}\n",
       "\n",
       "// Listen for the clearing of the current output cell\n",
       "var outputEl = gd.closest('.output');\n",
       "if (outputEl) {{\n",
       "    x.observe(outputEl, {childList: true});\n",
       "}}\n",
       "\n",
       "                        })\n",
       "                };\n",
       "                });\n",
       "            </script>\n",
       "        </div>"
      ]
     },
     "metadata": {},
     "output_type": "display_data"
    }
   ],
   "source": [
    "#DATA\n",
    "\n",
    "def temperature_correction(input_temperature):\n",
    "    #Dictionary of data\n",
    "    phantom_v2 = {\n",
    "        '14': {'16': '21.94', '18': '21.62','20': '21.44', '22': '21.28', '24': '21.26', '26': '21.31'},\n",
    "        '13': {'16': '31.05', '18': '30.65','20': '30.40', '22': '30.27', '24': '30.25', '26': '30.31'},\n",
    "        '12': {'16': '43.79', '18': '43.24','20': '42.89', '22': '42.72', '24': '42.70', '26': '42.80'},\n",
    "        '11': {'16': '61.49', '18': '60.70','20': '60.21', '22': '59.97', '24': '60.00', '26': '60.17'},\n",
    "        '10': {'16': '87.47', '18': '86.41','20': '85.75', '22': '85.03', '24': '85.01', '26': '85.28'},\n",
    "        '9': {'16': '122.99', '18': '121.79','20': '121.08', '22': '120.80', '24': '120.90', '26': '121.34'},\n",
    "        '8': {'16': '177.68', '18': '175.94','20': '174.95', '22': '174.59', '24': '174.78', '26': '175.48'},\n",
    "        '7': {'16': '243.77', '18': '241.84','20': '240.86', '22': '240.75', '24': '241.31', '26': '242.45'},\n",
    "        '6': {'16': '343.00', '18': '341.53','20': '341.58', '22': '342.58', '24': '344.23', '26': '346.67'},\n",
    "        '5': {'16': '483.91', '18': '482.91','20': '484.97', '22': '486.92', '24': '490.24', '26': '494.55'},\n",
    "        '4': {'16': '675.07', '18': '686.88','20': '690.08', '22': '695.01', '24': '701.06', '26': '709.48'},\n",
    "        '3': {'16': '950.71', '18': '963.56','20': '987.27', '22': '1000.81', '24': '1015.70', '26': '1030.78'},\n",
    "        '2': {'16': '1274.07', '18': '1317.71','20': '1330.16', '22': '1355.29', '24': '1367.79', '26': '1395.94'},\n",
    "        '1': {'16': '1766.68', '18': '1830.34','20': '1883.97', '22': '1937.34', '24': '1987.50', '26': '2066.95'}\n",
    "        };\n",
    "    \n",
    "    ##Get keys and values of dictionary to construct a 2D array##\n",
    "    #Get dictionary keys as lists\n",
    "    sphere = list(phantom_v2.keys());\n",
    "    temperature = list(phantom_v2['1'].keys());\n",
    "\n",
    "    #Define array (data2fit) to store data to be fitted\n",
    "    data2fit = np.empty([len(temperature),len(sphere)+1]);\n",
    "    #Fill data2fit array\n",
    "    row = 0;\n",
    "    for i in temperature:\n",
    "        row = row + 1;\n",
    "        data2fit[row-1,0] = int(i);\n",
    "        for j in sphere:\n",
    "            T1_value = float(phantom_v2[j][i]);\n",
    "            data2fit[row-1,int(j)] = T1_value;\n",
    "    \n",
    "    ##Code for Temperature Correction: Interpolation##\n",
    "    cs_estimatedT1_values = np.empty([len(input_temperature),len(sphere)]);\n",
    "    cs_outDic_T1values = {};\n",
    "    print(cs_estimatedT1_values.shape)\n",
    "    \n",
    "    c_estimatedT1_values = np.empty([len(input_temperature),len(sphere)]);\n",
    "    c_outDic_T1values = {};\n",
    "    #Interpolations\n",
    "    for k in range(len(sphere)):\n",
    "        for l in range(len(input_temperature)):\n",
    "            f_cubicSpline = interpolate.splrep(data2fit[:,0], data2fit[:,k+1]);\n",
    "            #input_temperature2 = input_temperature[l];\n",
    "            cs_estimatedT1_values[l,k] = interpolate.splev(input_temperature[l],f_cubicSpline);\n",
    "            cs_outDic_T1values[l,k+1] = cs_estimatedT1_values[l,k];\n",
    "        \n",
    "            f_cubic = interpolate.interp1d(data2fit[:,0], data2fit[:,k+1], kind='cubic');\n",
    "            c_estimatedT1_values[l,k] = f_cubic(input_temperature[l]);\n",
    "            c_outDic_T1values[l,k+1] = c_estimatedT1_values[l,k];\n",
    "    \n",
    "    #Interpolation of data for Sphere No. 1 only\n",
    "    #plt.plot(data2fit[:,0], data2fit[:,1], 'o')\n",
    "    #plt.plot(data2fit[:,0], cs_estimatedT1_values[:,0], '--');\n",
    "    #plt.plot(data2fit[:,0], c_estimatedT1_values[:,0], '-*');\n",
    "    #plt.legend(['data', 'cubic-spline', 'cubic'], loc='best');\n",
    "    #plt.title('Interpolation: Sphere No. 1');\n",
    "    #plt.xlabel('Temperature (°C)');\n",
    "    #plt.ylabel('T1 value (ms)')\n",
    "    #plt.show()\n",
    "    \n",
    "    print(cs_estimatedT1_values[2])\n",
    "    print(len(sphere))\n",
    "# PLOTS\n",
    "    init_notebook_mode(connected=True)\n",
    "    cs_estimatedT1_values = np.transpose(cs_estimatedT1_values)\n",
    "    c_estimatedT1_values = np.transpose(c_estimatedT1_values)\n",
    "    print(c_estimatedT1_values[0])\n",
    "    data1_1 = [dict(\n",
    "        visible = False,\n",
    "        line=dict(color='royalblue'),\n",
    "        x = input_temperature,\n",
    "        y = abs(cs_estimatedT1_values[13-ii]),\n",
    "        name = 'Cubic-Spline',\n",
    "        text = 'Cubic-Spline',\n",
    "        hoverinfo = 'x+y+text') for ii in range(len(sphere))]\n",
    "\n",
    "    data1_1[4]['visible'] = True\n",
    "\n",
    "    data2_1 = [dict(\n",
    "        visible = False,\n",
    "        line=dict(color='firebrick'),\n",
    "        x = temperature,\n",
    "        y = abs(c_estimatedT1_values[13-ii]),\n",
    "        name = 'Cubic',\n",
    "        text = 'Cubic)',\n",
    "        hoverinfo = 'x+y+text') for ii in range(len(sphere))]\n",
    "\n",
    "    data2_1[4]['visible'] = True\n",
    "\n",
    "    data = data1_1 + data2_1\n",
    "\n",
    "    steps = []\n",
    "    for i in range(len(np.asarray(sphere))):\n",
    "        step = dict(\n",
    "            method = 'restyle',  \n",
    "            args = ['visible', [False] * len(data1_1)],\n",
    "            label = str(np.asarray(sphere)[i])\n",
    "            )\n",
    "        step['args'][1][i] = True # Toggle i'th trace to \"visible\"\n",
    "        steps.append(step)\n",
    "\n",
    "    sliders=[\n",
    "        dict(\n",
    "            x = 0,\n",
    "            y = -0.09,\n",
    "            active = 3,\n",
    "            currentvalue = {\"prefix\": \"Sphere No.: <b>\"},\n",
    "            pad = {\"t\": 50, \"b\": 10},\n",
    "            steps = steps)]\n",
    "\n",
    "    layout = go.Layout(\n",
    "        width=580,\n",
    "        height=450,\n",
    "        margin=go.layout.Margin(\n",
    "            l=80,\n",
    "            r=40,\n",
    "            b=60,\n",
    "            t=10,\n",
    "        ),\n",
    "        annotations=[\n",
    "            dict(\n",
    "                x=0.5004254919715793,\n",
    "                y=-0.18,\n",
    "                showarrow=False,\n",
    "                text='Temperature (°C)',\n",
    "                font=dict(\n",
    "                    family='Times New Roman',\n",
    "                    size=22\n",
    "                ),\n",
    "                xref='paper',\n",
    "                yref='paper'\n",
    "            ),\n",
    "            dict(\n",
    "                x=-0.15,\n",
    "                y=0.5,\n",
    "                showarrow=False,\n",
    "                text='Longitudinal Relaxation (T<sub>1</sub>)',\n",
    "                font=dict(\n",
    "                    family='Times New Roman',\n",
    "                    size=22\n",
    "                ),\n",
    "                textangle=-90,\n",
    "                xref='paper',\n",
    "                yref='paper'\n",
    "            ),\n",
    "        ],\n",
    "        xaxis=dict(\n",
    "            autorange=False,\n",
    "            range=[16, temperature[-1]],\n",
    "            showgrid=False,\n",
    "            linecolor='black',\n",
    "            linewidth=2\n",
    "        ),\n",
    "        yaxis=dict(\n",
    "            autorange=True,\n",
    "            showgrid=False,\n",
    "            linecolor='black',\n",
    "            linewidth=2\n",
    "        ),\n",
    "        legend=dict(\n",
    "            x=0.5,\n",
    "            y=0.9,\n",
    "            traceorder='normal',\n",
    "            font=dict(\n",
    "                family='Times New Roman',\n",
    "                size=12,\n",
    "                color='#000'\n",
    "            ),\n",
    "            bordercolor='#000000',\n",
    "            borderwidth=2\n",
    "        ), \n",
    "        sliders=sliders\n",
    "    )\n",
    "\n",
    "    fig = dict(data=data, layout=layout)\n",
    "\n",
    "    iplot(fig, filename = 'basic-line', config = config)\n",
    "        \n",
    "    return cs_outDic_T1values, cs_estimatedT1_values, c_outDic_T1values, c_estimatedT1_values, temperature, sphere;\n",
    "\n",
    "\n",
    "temperature_correction(np.arange(16,28,2));"
   ]
  },
  {
   "cell_type": "code",
   "execution_count": null,
   "metadata": {},
   "outputs": [],
   "source": []
  }
 ],
 "metadata": {
  "kernelspec": {
   "display_name": "Python 3",
   "language": "python",
   "name": "python3"
  },
  "language_info": {
   "codemirror_mode": {
    "name": "ipython",
    "version": 3
   },
   "file_extension": ".py",
   "mimetype": "text/x-python",
   "name": "python",
   "nbconvert_exporter": "python",
   "pygments_lexer": "ipython3",
   "version": "3.7.6"
  }
 },
 "nbformat": 4,
 "nbformat_minor": 4
}
