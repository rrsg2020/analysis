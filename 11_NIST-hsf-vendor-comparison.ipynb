{
 "cells": [
  {
   "attachments": {},
   "cell_type": "markdown",
   "metadata": {},
   "source": [
    "## Imports"
   ]
  },
  {
   "cell_type": "code",
   "execution_count": 1,
   "metadata": {},
   "outputs": [],
   "source": [
    "from pathlib import Path\n",
    "import pandas as pd\n",
    "import json\n",
    "import nibabel as nib\n",
    "import numpy as np\n",
    "from scipy import stats\n",
    "\n",
    "\n",
    "from src.database import *\n",
    "from src.nist import get_reference_NIST_values, get_NIST_ids\n",
    "from src.tools import calc_error\n",
    "from src.nist import temperature_correction\n",
    "\n",
    "import matplotlib.pyplot as plt\n",
    "plt.style.use('custom_matplotlibrc')\n",
    "plt.rcParams[\"figure.figsize\"] = (10,10)\n"
   ]
  },
  {
   "attachments": {},
   "cell_type": "markdown",
   "metadata": {},
   "source": [
    "## Load Agah's pickled data from Juan's R dashboard\n",
    "(Agah only emailed me the actual pickled files when generating the paper figures - need to get instruction by him on how to reproduce these)"
   ]
  },
  {
   "cell_type": "code",
   "execution_count": 2,
   "metadata": {},
   "outputs": [
    {
     "data": {
      "text/html": [
       "        <script type=\"text/javascript\">\n",
       "        window.PlotlyConfig = {MathJaxConfig: 'local'};\n",
       "        if (window.MathJax) {MathJax.Hub.Config({SVG: {font: \"STIX-Web\"}});}\n",
       "        if (typeof require !== 'undefined') {\n",
       "        require.undef(\"plotly\");\n",
       "        requirejs.config({\n",
       "            paths: {\n",
       "                'plotly': ['https://cdn.plot.ly/plotly-latest.min']\n",
       "            }\n",
       "        });\n",
       "        require(['plotly'], function(Plotly) {\n",
       "            window._Plotly = Plotly;\n",
       "        });\n",
       "        }\n",
       "        </script>\n",
       "        "
      ]
     },
     "metadata": {},
     "output_type": "display_data"
    }
   ],
   "source": [
    "import pandas as pd\n",
    "import numpy as np\n",
    "from plotly.offline import init_notebook_mode, iplot\n",
    "from plotly.subplots import make_subplots\n",
    "\n",
    "init_notebook_mode(connected=True) \n",
    "\n",
    "def explode_mount_traces(xp,mosaic,rw,cl,shw):\n",
    "    traces = []\n",
    "    for trace in range(len(xp[\"data\"])):\n",
    "        if not shw:\n",
    "            xp[\"data\"][trace]['showlegend'] = False\n",
    "        traces.append(xp[\"data\"][trace])\n",
    "    for trc in traces:\n",
    "        mosaic.append_trace(trc, row=rw, col=cl)\n",
    "    return mosaic    \n",
    "    \n",
    "\n",
    "sites = pd.read_pickle(\"./databases/R_HSF_sites.pkl\")\n",
    "\n"
   ]
  },
  {
   "cell_type": "code",
   "execution_count": 3,
   "metadata": {},
   "outputs": [
    {
     "data": {
      "text/html": [
       "<div>\n",
       "<style scoped>\n",
       "    .dataframe tbody tr th:only-of-type {\n",
       "        vertical-align: middle;\n",
       "    }\n",
       "\n",
       "    .dataframe tbody tr th {\n",
       "        vertical-align: top;\n",
       "    }\n",
       "\n",
       "    .dataframe thead th {\n",
       "        text-align: right;\n",
       "    }\n",
       "</style>\n",
       "<table border=\"1\" class=\"dataframe\">\n",
       "  <thead>\n",
       "    <tr style=\"text-align: right;\">\n",
       "      <th></th>\n",
       "      <th>difference</th>\n",
       "      <th>quantile</th>\n",
       "      <th>sphere</th>\n",
       "      <th>id</th>\n",
       "      <th>ref</th>\n",
       "      <th>vendor</th>\n",
       "      <th>pct</th>\n",
       "    </tr>\n",
       "  </thead>\n",
       "  <tbody>\n",
       "    <tr>\n",
       "      <th>0</th>\n",
       "      <td>-18.492468</td>\n",
       "      <td>0.1</td>\n",
       "      <td>14</td>\n",
       "      <td>1.002 London</td>\n",
       "      <td>21.285802</td>\n",
       "      <td>Siemens</td>\n",
       "      <td>-86.877011</td>\n",
       "    </tr>\n",
       "    <tr>\n",
       "      <th>1</th>\n",
       "      <td>-19.183134</td>\n",
       "      <td>0.1</td>\n",
       "      <td>14</td>\n",
       "      <td>2.001 US</td>\n",
       "      <td>21.515609</td>\n",
       "      <td>Siemens</td>\n",
       "      <td>-89.159150</td>\n",
       "    </tr>\n",
       "    <tr>\n",
       "      <th>2</th>\n",
       "      <td>81.669149</td>\n",
       "      <td>0.1</td>\n",
       "      <td>14</td>\n",
       "      <td>3.001 Montreal</td>\n",
       "      <td>21.524100</td>\n",
       "      <td>Siemens</td>\n",
       "      <td>379.431196</td>\n",
       "    </tr>\n",
       "    <tr>\n",
       "      <th>3</th>\n",
       "      <td>169.066667</td>\n",
       "      <td>0.1</td>\n",
       "      <td>14</td>\n",
       "      <td>4.001 US</td>\n",
       "      <td>21.359309</td>\n",
       "      <td>GE</td>\n",
       "      <td>791.536227</td>\n",
       "    </tr>\n",
       "    <tr>\n",
       "      <th>4</th>\n",
       "      <td>-20.215609</td>\n",
       "      <td>0.1</td>\n",
       "      <td>14</td>\n",
       "      <td>4.002 US</td>\n",
       "      <td>21.359309</td>\n",
       "      <td>GE</td>\n",
       "      <td>-94.645428</td>\n",
       "    </tr>\n",
       "    <tr>\n",
       "      <th>...</th>\n",
       "      <td>...</td>\n",
       "      <td>...</td>\n",
       "      <td>...</td>\n",
       "      <td>...</td>\n",
       "      <td>...</td>\n",
       "      <td>...</td>\n",
       "      <td>...</td>\n",
       "    </tr>\n",
       "    <tr>\n",
       "      <th>2515</th>\n",
       "      <td>-15.816377</td>\n",
       "      <td>0.9</td>\n",
       "      <td>1</td>\n",
       "      <td>8.002 Montreal</td>\n",
       "      <td>1937.340000</td>\n",
       "      <td>Siemens</td>\n",
       "      <td>-0.816397</td>\n",
       "    </tr>\n",
       "    <tr>\n",
       "      <th>2516</th>\n",
       "      <td>157.959312</td>\n",
       "      <td>0.9</td>\n",
       "      <td>1</td>\n",
       "      <td>9.001 Australia</td>\n",
       "      <td>1876.496792</td>\n",
       "      <td>Siemens</td>\n",
       "      <td>8.417777</td>\n",
       "    </tr>\n",
       "    <tr>\n",
       "      <th>2517</th>\n",
       "      <td>-19.175186</td>\n",
       "      <td>0.9</td>\n",
       "      <td>1</td>\n",
       "      <td>10.002 US</td>\n",
       "      <td>1872.524995</td>\n",
       "      <td>GE</td>\n",
       "      <td>-1.024028</td>\n",
       "    </tr>\n",
       "    <tr>\n",
       "      <th>2518</th>\n",
       "      <td>10.190000</td>\n",
       "      <td>0.9</td>\n",
       "      <td>1</td>\n",
       "      <td>11.002 US</td>\n",
       "      <td>1924.539579</td>\n",
       "      <td>Siemens</td>\n",
       "      <td>0.529477</td>\n",
       "    </tr>\n",
       "    <tr>\n",
       "      <th>2519</th>\n",
       "      <td>58.326541</td>\n",
       "      <td>0.9</td>\n",
       "      <td>1</td>\n",
       "      <td>12.001 Montreal</td>\n",
       "      <td>1937.340000</td>\n",
       "      <td>Siemens</td>\n",
       "      <td>3.010651</td>\n",
       "    </tr>\n",
       "  </tbody>\n",
       "</table>\n",
       "<p>2520 rows × 7 columns</p>\n",
       "</div>"
      ],
      "text/plain": [
       "      difference  quantile  sphere               id          ref   vendor  \\\n",
       "0     -18.492468       0.1      14     1.002 London    21.285802  Siemens   \n",
       "1     -19.183134       0.1      14         2.001 US    21.515609  Siemens   \n",
       "2      81.669149       0.1      14   3.001 Montreal    21.524100  Siemens   \n",
       "3     169.066667       0.1      14         4.001 US    21.359309       GE   \n",
       "4     -20.215609       0.1      14         4.002 US    21.359309       GE   \n",
       "...          ...       ...     ...              ...          ...      ...   \n",
       "2515  -15.816377       0.9       1   8.002 Montreal  1937.340000  Siemens   \n",
       "2516  157.959312       0.9       1  9.001 Australia  1876.496792  Siemens   \n",
       "2517  -19.175186       0.9       1        10.002 US  1872.524995       GE   \n",
       "2518   10.190000       0.9       1        11.002 US  1924.539579  Siemens   \n",
       "2519   58.326541       0.9       1  12.001 Montreal  1937.340000  Siemens   \n",
       "\n",
       "             pct  \n",
       "0     -86.877011  \n",
       "1     -89.159150  \n",
       "2     379.431196  \n",
       "3     791.536227  \n",
       "4     -94.645428  \n",
       "...          ...  \n",
       "2515   -0.816397  \n",
       "2516    8.417777  \n",
       "2517   -1.024028  \n",
       "2518    0.529477  \n",
       "2519    3.010651  \n",
       "\n",
       "[2520 rows x 7 columns]"
      ]
     },
     "execution_count": 3,
     "metadata": {},
     "output_type": "execute_result"
    }
   ],
   "source": [
    "sites"
   ]
  },
  {
   "cell_type": "code",
   "execution_count": 4,
   "metadata": {},
   "outputs": [],
   "source": [
    "# Slice tables per sphere\n",
    "sphere_1=sites[sites['sphere']==1]\n",
    "sphere_2=sites[sites['sphere']==2]\n",
    "sphere_3=sites[sites['sphere']==3]\n",
    "sphere_4=sites[sites['sphere']==4]\n",
    "sphere_5=sites[sites['sphere']==5]\n",
    "sphere_6=sites[sites['sphere']==6]"
   ]
  },
  {
   "attachments": {},
   "cell_type": "markdown",
   "metadata": {},
   "source": [
    "# Sphere 1"
   ]
  },
  {
   "cell_type": "code",
   "execution_count": 5,
   "metadata": {},
   "outputs": [],
   "source": [
    "# Slice sphere tables per vendor\n",
    "GE_sphere_1=sphere_1[sphere_1['vendor']=='GE']\n",
    "Siemens_sphere_1=sphere_1[sphere_1['vendor']=='Siemens']\n",
    "Philips_sphere_1=sphere_1[sphere_1['vendor']=='Philips']"
   ]
  },
  {
   "cell_type": "code",
   "execution_count": 6,
   "metadata": {},
   "outputs": [],
   "source": [
    "# Get lists of unique scanners where data was acquired\n",
    "\n",
    "GE_scanners = GE_sphere_1['id'].unique()\n",
    "Siemens_scanners = Siemens_sphere_1['id'].unique()\n",
    "Philips_scanners = Philips_sphere_1['id'].unique()"
   ]
  },
  {
   "cell_type": "code",
   "execution_count": 7,
   "metadata": {},
   "outputs": [],
   "source": [
    "# Collapse HSF percentiles to one mean value per scanner measurement\n",
    "\n",
    "mean_GE_sphere_1 = []\n",
    "mean_Siemens_sphere_1 = []\n",
    "mean_Philips_sphere_1 = []\n",
    "\n",
    "for scanner in GE_scanners:\n",
    "    single_scanner=GE_sphere_1[GE_sphere_1['id']==scanner]\n",
    "    mean_GE_sphere_1.append(np.mean(single_scanner['difference'].tolist()))\n",
    "\n",
    "for scanner in Siemens_scanners:\n",
    "    single_scanner=Siemens_sphere_1[Siemens_sphere_1['id']==scanner]\n",
    "    mean_Siemens_sphere_1.append(np.mean(single_scanner['difference'].tolist()))\n",
    "\n",
    "for scanner in Philips_scanners:\n",
    "    single_scanner=Philips_sphere_1[Philips_sphere_1['id']==scanner]\n",
    "    mean_Philips_sphere_1.append(np.mean(single_scanner['difference'].tolist()))"
   ]
  },
  {
   "cell_type": "code",
   "execution_count": 8,
   "metadata": {},
   "outputs": [
    {
     "name": "stdout",
     "output_type": "stream",
     "text": [
      "[10.238518518518605, 83.17208415798103, -55.09555640088037]\n",
      "[227.83511670219409, -110.18351375052855, 59.471162057700816, 44.10481481481487, -54.44674775132689, 111.88042296007445, -26.69925925925918, 15.148022848144869]\n",
      "[19.235060350531462, -42.96338415592082, -58.95338415592086, 185.03024589947523, 177.60036952504566, 61.48269563491782, 65.00777777777782, -6.839273177083265, -126.3129629629629]\n"
     ]
    }
   ],
   "source": [
    "# Raw means\n",
    "\n",
    "print(mean_GE_sphere_1)\n",
    "print(mean_Siemens_sphere_1)\n",
    "print(mean_Philips_sphere_1)"
   ]
  },
  {
   "cell_type": "code",
   "execution_count": 9,
   "metadata": {},
   "outputs": [
    {
     "name": "stdout",
     "output_type": "stream",
     "text": [
      "Ttest_indResult(statistic=-0.31044520455573404, pvalue=0.7632913544593019)\n",
      "Ttest_indResult(statistic=-0.268302733047986, pvalue=0.7939197314405384)\n",
      "Ttest_indResult(statistic=0.05946919777831455, pvalue=0.953363465704431)\n",
      "0.9542141203962895\n"
     ]
    }
   ],
   "source": [
    "# Two group t-tests (independent)\n",
    "print(stats.ttest_ind(mean_GE_sphere_1, mean_Siemens_sphere_1))\n",
    "print(stats.ttest_ind(mean_GE_sphere_1, mean_Philips_sphere_1))\n",
    "print(stats.ttest_ind(mean_Siemens_sphere_1, mean_Philips_sphere_1))\n",
    "\n",
    "# One way anova\n",
    "fvalue, pvalue = stats.f_oneway(mean_GE_sphere_1, mean_Siemens_sphere_1, mean_Philips_sphere_1)\n",
    "print(pvalue)"
   ]
  },
  {
   "attachments": {},
   "cell_type": "markdown",
   "metadata": {},
   "source": [
    "## Sphere 2"
   ]
  },
  {
   "cell_type": "code",
   "execution_count": 10,
   "metadata": {},
   "outputs": [],
   "source": [
    "# Slice sphere tables per vendor\n",
    "GE_sphere_2=sphere_2[sphere_2['vendor']=='GE']\n",
    "Siemens_sphere_2=sphere_2[sphere_2['vendor']=='Siemens']\n",
    "Philips_sphere_2=sphere_2[sphere_2['vendor']=='Philips']"
   ]
  },
  {
   "cell_type": "code",
   "execution_count": 11,
   "metadata": {},
   "outputs": [],
   "source": [
    "# Get lists of unique scanners where data was acquired\n",
    "\n",
    "GE_scanners = GE_sphere_2['id'].unique()\n",
    "Siemens_scanners = Siemens_sphere_2['id'].unique()\n",
    "Philips_scanners = Philips_sphere_2['id'].unique()"
   ]
  },
  {
   "cell_type": "code",
   "execution_count": 12,
   "metadata": {},
   "outputs": [],
   "source": [
    "# Collapse HSF percentiles to one mean value per scanner measurement\n",
    "\n",
    "mean_GE_sphere_2 = []\n",
    "mean_Siemens_sphere_2 = []\n",
    "mean_Philips_sphere_2 = []\n",
    "\n",
    "for scanner in GE_scanners:\n",
    "    single_scanner=GE_sphere_2[GE_sphere_2['id']==scanner]\n",
    "    mean_GE_sphere_2.append(np.mean(single_scanner['difference'].tolist()))\n",
    "\n",
    "for scanner in Siemens_scanners:\n",
    "    single_scanner=Siemens_sphere_2[Siemens_sphere_2['id']==scanner]\n",
    "    mean_Siemens_sphere_2.append(np.mean(single_scanner['difference'].tolist()))\n",
    "\n",
    "for scanner in Philips_scanners:\n",
    "    single_scanner=Philips_sphere_2[Philips_sphere_2['id']==scanner]\n",
    "    mean_Philips_sphere_2.append(np.mean(single_scanner['difference'].tolist()))"
   ]
  },
  {
   "cell_type": "code",
   "execution_count": 13,
   "metadata": {},
   "outputs": [
    {
     "name": "stdout",
     "output_type": "stream",
     "text": [
      "[16.616666666666738, -38.465651802667125, 18.638834556468485]\n",
      "[72.61598799677729, -31.61428807076292, 26.168048218420736, 62.264814814814855, 37.40294357142999, 70.8715569820551, 27.870000000000044, 22.798254504444557]\n",
      "[12.609779265874472, -10.837616407906227, -28.791690481980343, 107.6630656878293, 144.10031603794988, 104.25717256614183, 74.06851851851856, 61.00545684606472, -15.164814814814767]\n"
     ]
    }
   ],
   "source": [
    "# Raw means\n",
    "print(mean_GE_sphere_2)\n",
    "print(mean_Siemens_sphere_2)\n",
    "print(mean_Philips_sphere_2)"
   ]
  },
  {
   "cell_type": "code",
   "execution_count": 14,
   "metadata": {},
   "outputs": [
    {
     "name": "stdout",
     "output_type": "stream",
     "text": [
      "Ttest_indResult(statistic=-1.624037874934912, pvalue=0.13881477461794206)\n",
      "Ttest_indResult(statistic=-1.3208387844764264, pvalue=0.21598239707799294)\n",
      "Ttest_indResult(statistic=-0.5544632406208166, pvalue=0.587434311465362)\n",
      "0.3273063743297731\n"
     ]
    }
   ],
   "source": [
    "# Two group t-tests (independent)\n",
    "print(stats.ttest_ind(mean_GE_sphere_2, mean_Siemens_sphere_2))\n",
    "print(stats.ttest_ind(mean_GE_sphere_2, mean_Philips_sphere_2))\n",
    "print(stats.ttest_ind(mean_Siemens_sphere_2, mean_Philips_sphere_2))\n",
    "\n",
    "# One way anova\n",
    "fvalue, pvalue = stats.f_oneway(mean_GE_sphere_2, mean_Siemens_sphere_2, mean_Philips_sphere_2)\n",
    "print(pvalue)"
   ]
  },
  {
   "attachments": {},
   "cell_type": "markdown",
   "metadata": {},
   "source": [
    "# Sphere 3"
   ]
  },
  {
   "cell_type": "code",
   "execution_count": 15,
   "metadata": {},
   "outputs": [],
   "source": [
    "# Slice sphere tables per vendor\n",
    "GE_sphere_3=sphere_3[sphere_3['vendor']=='GE']\n",
    "Siemens_sphere_3=sphere_3[sphere_3['vendor']=='Siemens']\n",
    "Philips_sphere_3=sphere_3[sphere_3['vendor']=='Philips']"
   ]
  },
  {
   "cell_type": "code",
   "execution_count": 16,
   "metadata": {},
   "outputs": [],
   "source": [
    "# Get lists of unique scanners where data was acquired\n",
    "GE_scanners = GE_sphere_3['id'].unique()\n",
    "Siemens_scanners = Siemens_sphere_3['id'].unique()\n",
    "Philips_scanners = Philips_sphere_3['id'].unique()"
   ]
  },
  {
   "cell_type": "code",
   "execution_count": 17,
   "metadata": {},
   "outputs": [],
   "source": [
    "# Collapse HSF percentiles to one mean value per scanner measurement\n",
    "\n",
    "mean_GE_sphere_3 = []\n",
    "mean_Siemens_sphere_3 = []\n",
    "mean_Philips_sphere_3 = []\n",
    "\n",
    "for scanner in GE_scanners:\n",
    "    single_scanner=GE_sphere_3[GE_sphere_3['id']==scanner]\n",
    "    mean_GE_sphere_3.append(np.mean(single_scanner['difference'].tolist()))\n",
    "\n",
    "for scanner in Siemens_scanners:\n",
    "    single_scanner=Siemens_sphere_3[Siemens_sphere_3['id']==scanner]\n",
    "    mean_Siemens_sphere_3.append(np.mean(single_scanner['difference'].tolist()))\n",
    "\n",
    "for scanner in Philips_scanners:\n",
    "    single_scanner=Philips_sphere_3[Philips_sphere_3['id']==scanner]\n",
    "    mean_Philips_sphere_3.append(np.mean(single_scanner['difference'].tolist()))"
   ]
  },
  {
   "cell_type": "code",
   "execution_count": 18,
   "metadata": {},
   "outputs": [
    {
     "name": "stdout",
     "output_type": "stream",
     "text": [
      "[-160.7303703703703, -151.48780824363428, -32.87711143476776]\n",
      "[-15.075165305018155, -65.09453204151757, -10.873688099371444, -35.865555555555474, -55.99463965608433, -19.225177317708372, -130.45999999999995, -0.6584843977774426]\n",
      "[-36.69957423941829, -55.64417318204325, -66.17380281167286, 2.250230396825133, -0.853037360693722, -29.248589708991858, -31.46925925925921, -34.21404230902777, -81.71740740740736]\n"
     ]
    }
   ],
   "source": [
    "# Raw means\n",
    "print(mean_GE_sphere_3)\n",
    "print(mean_Siemens_sphere_3)\n",
    "print(mean_Philips_sphere_3)"
   ]
  },
  {
   "cell_type": "code",
   "execution_count": 19,
   "metadata": {},
   "outputs": [
    {
     "name": "stdout",
     "output_type": "stream",
     "text": [
      "Ttest_indResult(statistic=-2.159073062254625, pvalue=0.05915666189831824)\n",
      "Ttest_indResult(statistic=-2.8950019211480784, pvalue=0.015969740538737034)\n",
      "Ttest_indResult(statistic=-0.26670020539810346, pvalue=0.7933315531451209)\n",
      "0.029885677216495432\n"
     ]
    }
   ],
   "source": [
    "# Two group t-tests (independent)\n",
    "print(stats.ttest_ind(mean_GE_sphere_3, mean_Siemens_sphere_3))\n",
    "print(stats.ttest_ind(mean_GE_sphere_3, mean_Philips_sphere_3))\n",
    "print(stats.ttest_ind(mean_Siemens_sphere_3, mean_Philips_sphere_3))\n",
    "\n",
    "# One way anova\n",
    "fvalue, pvalue = stats.f_oneway(mean_GE_sphere_3, mean_Siemens_sphere_3, mean_Philips_sphere_3)\n",
    "print(pvalue)"
   ]
  },
  {
   "attachments": {},
   "cell_type": "markdown",
   "metadata": {},
   "source": [
    "# Sphere 4"
   ]
  },
  {
   "cell_type": "code",
   "execution_count": 20,
   "metadata": {},
   "outputs": [],
   "source": [
    "# Slice sphere tables per vendor\n",
    "GE_sphere_4=sphere_4[sphere_4['vendor']=='GE']\n",
    "Siemens_sphere_4=sphere_4[sphere_4['vendor']=='Siemens']\n",
    "Philips_sphere_4=sphere_4[sphere_4['vendor']=='Philips']"
   ]
  },
  {
   "cell_type": "code",
   "execution_count": 21,
   "metadata": {},
   "outputs": [],
   "source": [
    "# Get lists of unique scanners where data was acquired\n",
    "GE_scanners = GE_sphere_4['id'].unique()\n",
    "Siemens_scanners = Siemens_sphere_4['id'].unique()\n",
    "Philips_scanners = Philips_sphere_4['id'].unique()"
   ]
  },
  {
   "cell_type": "code",
   "execution_count": 22,
   "metadata": {},
   "outputs": [],
   "source": [
    "# Collapse HSF percentiles to one mean value per scanner measurement\n",
    "\n",
    "mean_GE_sphere_4 = []\n",
    "mean_Siemens_sphere_4 = []\n",
    "mean_Philips_sphere_4 = []\n",
    "\n",
    "for scanner in GE_scanners:\n",
    "    single_scanner=GE_sphere_4[GE_sphere_4['id']==scanner]\n",
    "    mean_GE_sphere_4.append(np.mean(single_scanner['difference'].tolist()))\n",
    "\n",
    "for scanner in Siemens_scanners:\n",
    "    single_scanner=Siemens_sphere_4[Siemens_sphere_4['id']==scanner]\n",
    "    mean_Siemens_sphere_4.append(np.mean(single_scanner['difference'].tolist()))\n",
    "\n",
    "for scanner in Philips_scanners:\n",
    "    single_scanner=Philips_sphere_4[Philips_sphere_4['id']==scanner]\n",
    "    mean_Philips_sphere_4.append(np.mean(single_scanner['difference'].tolist()))"
   ]
  },
  {
   "cell_type": "code",
   "execution_count": 23,
   "metadata": {},
   "outputs": [
    {
     "name": "stdout",
     "output_type": "stream",
     "text": [
      "[-203.8148148148148, -283.3969468547454, 4.754188611524581]\n",
      "[0.6657211913426662, -20.20899539230465, -1.1346400669639378, 3.7677777777777868, -7.462786322751084, 14.152764924768512, -141.3511111111111, -55.25051672518485]\n",
      "[-39.51672701719609, -18.95590667741361, -20.218128899635822, 19.56848076719546, 21.59307750041343, 9.098638439153357, 4.883703703703708, 4.339554010416704, -25.174074074074056]\n"
     ]
    }
   ],
   "source": [
    "# Raw means\n",
    "print(mean_GE_sphere_4)\n",
    "print(mean_Siemens_sphere_4)\n",
    "print(mean_Philips_sphere_4)"
   ]
  },
  {
   "cell_type": "code",
   "execution_count": 24,
   "metadata": {},
   "outputs": [
    {
     "name": "stdout",
     "output_type": "stream",
     "text": [
      "Ttest_indResult(statistic=-2.3893499826196267, pvalue=0.040600629500444504)\n",
      "Ttest_indResult(statistic=-3.374802761931636, pvalue=0.00706410304484939)\n",
      "Ttest_indResult(statistic=-1.1220881385647434, pvalue=0.27946622432686785)\n",
      "0.005424373669179906\n"
     ]
    }
   ],
   "source": [
    "# Two group t-tests (independent)\n",
    "print(stats.ttest_ind(mean_GE_sphere_4, mean_Siemens_sphere_4))\n",
    "print(stats.ttest_ind(mean_GE_sphere_4, mean_Philips_sphere_4))\n",
    "print(stats.ttest_ind(mean_Siemens_sphere_4, mean_Philips_sphere_4))\n",
    "\n",
    "# One way anova\n",
    "fvalue, pvalue = stats.f_oneway(mean_GE_sphere_4, mean_Siemens_sphere_4, mean_Philips_sphere_4)\n",
    "print(pvalue)"
   ]
  },
  {
   "attachments": {},
   "cell_type": "markdown",
   "metadata": {},
   "source": [
    "# Sphere 5"
   ]
  },
  {
   "cell_type": "code",
   "execution_count": 25,
   "metadata": {},
   "outputs": [],
   "source": [
    "# Slice sphere tables per vendor\n",
    "GE_sphere_5=sphere_5[sphere_5['vendor']=='GE']\n",
    "Siemens_sphere_5=sphere_5[sphere_5['vendor']=='Siemens']\n",
    "Philips_sphere_5=sphere_5[sphere_5['vendor']=='Philips']"
   ]
  },
  {
   "cell_type": "code",
   "execution_count": 26,
   "metadata": {},
   "outputs": [],
   "source": [
    "# Get lists of unique scanners where data was acquired\n",
    "GE_scanners = GE_sphere_5['id'].unique()\n",
    "Siemens_scanners = Siemens_sphere_5['id'].unique()\n",
    "Philips_scanners = Philips_sphere_5['id'].unique()"
   ]
  },
  {
   "cell_type": "code",
   "execution_count": 27,
   "metadata": {},
   "outputs": [],
   "source": [
    "# Collapse HSF percentiles to one mean value per scanner measurement\n",
    "\n",
    "mean_GE_sphere_5 = []\n",
    "mean_Siemens_sphere_5 = []\n",
    "mean_Philips_sphere_5 = []\n",
    "\n",
    "for scanner in GE_scanners:\n",
    "    single_scanner=GE_sphere_5[GE_sphere_5['id']==scanner]\n",
    "    mean_GE_sphere_5.append(np.mean(single_scanner['difference'].tolist()))\n",
    "\n",
    "for scanner in Siemens_scanners:\n",
    "    single_scanner=Siemens_sphere_5[Siemens_sphere_5['id']==scanner]\n",
    "    mean_Siemens_sphere_5.append(np.mean(single_scanner['difference'].tolist()))\n",
    "\n",
    "for scanner in Philips_scanners:\n",
    "    single_scanner=Philips_sphere_5[Philips_sphere_5['id']==scanner]\n",
    "    mean_Philips_sphere_5.append(np.mean(single_scanner['difference'].tolist()))"
   ]
  },
  {
   "cell_type": "code",
   "execution_count": 28,
   "metadata": {},
   "outputs": [
    {
     "name": "stdout",
     "output_type": "stream",
     "text": [
      "[-59.02962962962964, -82.35586638020831, 21.68946290219911]\n",
      "[4.12777410641203, -7.022923136148841, -15.418364438657383, -0.02518518518519386, -2.2215320370370364, 13.045134551504601, -39.229629629629656, 0.39892904222222747]\n",
      "[-25.84679976851851, -5.731127934027793, -4.757794600694455, 24.160389444444476, 14.11835179108799, 3.822041296296277, -1.0962962962963034, 0.45354595486111293, -13.598518518518524]\n"
     ]
    }
   ],
   "source": [
    "# Raw means\n",
    "print(mean_GE_sphere_5)\n",
    "print(mean_Siemens_sphere_5)\n",
    "print(mean_Philips_sphere_5)\n"
   ]
  },
  {
   "cell_type": "code",
   "execution_count": 29,
   "metadata": {},
   "outputs": [
    {
     "name": "stdout",
     "output_type": "stream",
     "text": [
      "Ttest_indResult(statistic=-1.7210122821228842, pvalue=0.1193559769168836)\n",
      "Ttest_indResult(statistic=-2.111181590492552, pvalue=0.06092096388676267)\n",
      "Ttest_indResult(statistic=-0.6583950357083797, pvalue=0.5202626508697117)\n",
      "0.06673723177452698\n"
     ]
    }
   ],
   "source": [
    "# Two group t-tests (independent)\n",
    "print(stats.ttest_ind(mean_GE_sphere_5, mean_Siemens_sphere_5))\n",
    "print(stats.ttest_ind(mean_GE_sphere_5, mean_Philips_sphere_5))\n",
    "print(stats.ttest_ind(mean_Siemens_sphere_5, mean_Philips_sphere_5))\n",
    "\n",
    "# One way anova\n",
    "fvalue, pvalue = stats.f_oneway(mean_GE_sphere_5, mean_Siemens_sphere_5, mean_Philips_sphere_5)\n",
    "print(pvalue)"
   ]
  },
  {
   "attachments": {},
   "cell_type": "markdown",
   "metadata": {},
   "source": [
    "# Sphere 6"
   ]
  },
  {
   "cell_type": "code",
   "execution_count": 30,
   "metadata": {},
   "outputs": [],
   "source": [
    "# Slice sphere tables per vendor\n",
    "GE_sphere_6=sphere_6[sphere_6['vendor']=='GE']\n",
    "Siemens_sphere_6=sphere_6[sphere_6['vendor']=='Siemens']\n",
    "Philips_sphere_6=sphere_6[sphere_6['vendor']=='Philips']"
   ]
  },
  {
   "cell_type": "code",
   "execution_count": 31,
   "metadata": {},
   "outputs": [],
   "source": [
    "# Get lists of unique scanners where data was acquired\n",
    "GE_scanners = GE_sphere_6['id'].unique()\n",
    "Siemens_scanners = Siemens_sphere_6['id'].unique()\n",
    "Philips_scanners = Philips_sphere_6['id'].unique()"
   ]
  },
  {
   "cell_type": "code",
   "execution_count": 32,
   "metadata": {},
   "outputs": [],
   "source": [
    "# Collapse HSF percentiles to one mean value per scanner measurement\n",
    "\n",
    "mean_GE_sphere_6 = []\n",
    "mean_Siemens_sphere_6 = []\n",
    "mean_Philips_sphere_6 = []\n",
    "\n",
    "for scanner in GE_scanners:\n",
    "    single_scanner=GE_sphere_6[GE_sphere_6['id']==scanner]\n",
    "    mean_GE_sphere_6.append(np.mean(single_scanner['difference'].tolist()))\n",
    "\n",
    "for scanner in Siemens_scanners:\n",
    "    single_scanner=Siemens_sphere_6[Siemens_sphere_6['id']==scanner]\n",
    "    mean_Siemens_sphere_6.append(np.mean(single_scanner['difference'].tolist()))\n",
    "\n",
    "for scanner in Philips_scanners:\n",
    "    single_scanner=Philips_sphere_6[Philips_sphere_6['id']==scanner]\n",
    "    mean_Philips_sphere_6.append(np.mean(single_scanner['difference'].tolist()))"
   ]
  },
  {
   "cell_type": "code",
   "execution_count": 33,
   "metadata": {},
   "outputs": [
    {
     "name": "stdout",
     "output_type": "stream",
     "text": [
      "[-28.04037037037034, -84.46218462094905, 9.350071711723432]\n",
      "[3.9484034478009185, -0.09778852618832287, -1.7551220444773636, -31.0922222222222, -32.377728439153316, 10.370886530671308, -16.2622222222222, 2.931727359258888]\n",
      "[-1.773545800264723, 0.9065175553899394, -1.8216305927582286, 19.519385846560713, -22.56585421420249, -28.038657539682138, -31.898148148148135, -28.836768026620334, -34.942222222222206]\n"
     ]
    }
   ],
   "source": [
    "# Raw means\n",
    "print(mean_GE_sphere_6)\n",
    "print(mean_Siemens_sphere_6)\n",
    "print(mean_Philips_sphere_6)"
   ]
  },
  {
   "cell_type": "code",
   "execution_count": 34,
   "metadata": {},
   "outputs": [
    {
     "name": "stdout",
     "output_type": "stream",
     "text": [
      "Ttest_indResult(statistic=-1.463981423224981, pvalue=0.17723267546515367)\n",
      "Ttest_indResult(statistic=-1.1064207337757475, pvalue=0.29445008840318165)\n",
      "Ttest_indResult(statistic=0.7304361120900091, pvalue=0.4763782200872042)\n",
      "0.27490841588805615\n"
     ]
    }
   ],
   "source": [
    "# Two group t-tests (independent)\n",
    "print(stats.ttest_ind(mean_GE_sphere_6, mean_Siemens_sphere_6))\n",
    "print(stats.ttest_ind(mean_GE_sphere_6, mean_Philips_sphere_6))\n",
    "print(stats.ttest_ind(mean_Siemens_sphere_6, mean_Philips_sphere_6))\n",
    "\n",
    "# One way anova\n",
    "fvalue, pvalue = stats.f_oneway(mean_GE_sphere_6, mean_Siemens_sphere_6, mean_Philips_sphere_6)\n",
    "print(pvalue)"
   ]
  }
 ],
 "metadata": {
  "kernelspec": {
   "display_name": "analysis_arm",
   "language": "python",
   "name": "analysis_arm"
  },
  "language_info": {
   "codemirror_mode": {
    "name": "ipython",
    "version": 3
   },
   "file_extension": ".py",
   "mimetype": "text/x-python",
   "name": "python",
   "nbconvert_exporter": "python",
   "pygments_lexer": "ipython3",
   "version": "3.8.16"
  },
  "orig_nbformat": 4
 },
 "nbformat": 4,
 "nbformat_minor": 2
}
